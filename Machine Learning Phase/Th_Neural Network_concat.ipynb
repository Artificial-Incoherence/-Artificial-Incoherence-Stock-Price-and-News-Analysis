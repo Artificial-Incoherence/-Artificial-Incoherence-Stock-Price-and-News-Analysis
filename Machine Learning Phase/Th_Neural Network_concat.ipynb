{
 "cells": [
  {
   "cell_type": "code",
   "execution_count": 1,
   "id": "69ad8c2c",
   "metadata": {},
   "outputs": [],
   "source": [
    "\n",
    "import seaborn as sns\n",
    "sns.set_theme(style=\"darkgrid\")\n",
    "\n",
    "from re import sub\n",
    "from decimal import Decimal\n",
    "\n",
    "\n",
    "import pandas as pd\n",
    "import numpy as np\n",
    "\n",
    "import matplotlib.pyplot as plt\n",
    "\n",
    "from sklearn.preprocessing import LabelEncoder\n",
    "\n",
    "\n",
    "from textblob import TextBlob\n",
    "\n",
    "\n",
    "from tensorflow.python.keras.models import load_model\n"
   ]
  },
  {
   "cell_type": "code",
   "execution_count": 2,
   "id": "06fdf1aa",
   "metadata": {},
   "outputs": [],
   "source": [
    "path =r\"E:\\Technocolabs\\Datasets of Stocks Market and Stock News Articles\\Datasets of Stocks Market and Stock News Articles\\NASDAQ Datasets\\Nasdaq Stocks\\HistoricalData_APPLE.csv\"\n",
    "df = pd.read_csv(path)"
   ]
  },
  {
   "cell_type": "code",
   "execution_count": 3,
   "id": "0961a00e",
   "metadata": {},
   "outputs": [
    {
     "name": "stdout",
     "output_type": "stream",
     "text": [
      "         Date Close/Last    Volume      Open     High        Low\n",
      "0  06/09/2021    $127.13  56877940   $127.21  $127.75    $126.52\n",
      "1  06/08/2021    $126.74  74403770    $126.6  $128.46  $126.2101\n",
      "2  06/07/2021     $125.9  71057550   $126.17  $126.32  $124.8321\n",
      "3  06/04/2021    $125.89  75169340   $124.07  $126.16    $123.85\n",
      "4  06/03/2021    $123.54  76229170   $124.68  $124.85    $123.13\n",
      "5  06/02/2021    $125.06  59278860   $124.28  $125.24    $124.05\n",
      "6  06/01/2021    $124.28  67637120   $125.08  $125.35    $123.94\n",
      "7  05/28/2021    $124.61  71311110   $125.57   $125.8    $124.55\n",
      "8  05/27/2021    $125.28  94625600   $126.44  $127.64    $125.08\n",
      "9  05/26/2021    $126.85  56575920  $126.955  $127.39    $126.42\n",
      "==================================================\n",
      "(2516, 6)\n",
      "==================================================\n",
      "Date          object\n",
      "Close/Last    object\n",
      "Volume         int64\n",
      "Open          object\n",
      "High          object\n",
      "Low           object\n",
      "dtype: object\n",
      "==================================================\n",
      "<class 'pandas.core.frame.DataFrame'>\n",
      "RangeIndex: 2516 entries, 0 to 2515\n",
      "Data columns (total 6 columns):\n",
      " #   Column      Non-Null Count  Dtype \n",
      "---  ------      --------------  ----- \n",
      " 0   Date        2516 non-null   object\n",
      " 1   Close/Last  2516 non-null   object\n",
      " 2   Volume      2516 non-null   int64 \n",
      " 3   Open        2516 non-null   object\n",
      " 4   High        2516 non-null   object\n",
      " 5   Low         2516 non-null   object\n",
      "dtypes: int64(1), object(5)\n",
      "memory usage: 118.1+ KB\n",
      "None\n",
      "==================================================\n"
     ]
    }
   ],
   "source": [
    "print(df.head(10))\n",
    "print(\"=\"*50)\n",
    "print(df.shape)\n",
    "print(\"=\"*50)\n",
    "print(df.dtypes)\n",
    "print(\"=\"*50)\n",
    "print(df.info())\n",
    "print(\"=\"*50)"
   ]
  },
  {
   "cell_type": "code",
   "execution_count": 4,
   "id": "50e43cd5",
   "metadata": {},
   "outputs": [
    {
     "name": "stdout",
     "output_type": "stream",
     "text": [
      "        Date Close/Last    Volume      Open     High        Low\n",
      "0 2021-06-09    $127.13  56877940   $127.21  $127.75    $126.52\n",
      "1 2021-06-08    $126.74  74403770    $126.6  $128.46  $126.2101\n",
      "2 2021-06-07     $125.9  71057550   $126.17  $126.32  $124.8321\n",
      "3 2021-06-04    $125.89  75169340   $124.07  $126.16    $123.85\n",
      "4 2021-06-03    $123.54  76229170   $124.68  $124.85    $123.13\n",
      "5 2021-06-02    $125.06  59278860   $124.28  $125.24    $124.05\n",
      "6 2021-06-01    $124.28  67637120   $125.08  $125.35    $123.94\n",
      "7 2021-05-28    $124.61  71311110   $125.57   $125.8    $124.55\n",
      "8 2021-05-27    $125.28  94625600   $126.44  $127.64    $125.08\n",
      "9 2021-05-26    $126.85  56575920  $126.955  $127.39    $126.42\n"
     ]
    }
   ],
   "source": [
    "df['Date'] = pd.to_datetime(df.Date)\n",
    "print(df.head(10))"
   ]
  },
  {
   "cell_type": "code",
   "execution_count": 5,
   "id": "a2523ad4",
   "metadata": {},
   "outputs": [
    {
     "name": "stdout",
     "output_type": "stream",
     "text": [
      "2516 2516 2516 2516\n"
     ]
    },
    {
     "data": {
      "text/html": [
       "<div>\n",
       "<style scoped>\n",
       "    .dataframe tbody tr th:only-of-type {\n",
       "        vertical-align: middle;\n",
       "    }\n",
       "\n",
       "    .dataframe tbody tr th {\n",
       "        vertical-align: top;\n",
       "    }\n",
       "\n",
       "    .dataframe thead th {\n",
       "        text-align: right;\n",
       "    }\n",
       "</style>\n",
       "<table border=\"1\" class=\"dataframe\">\n",
       "  <thead>\n",
       "    <tr style=\"text-align: right;\">\n",
       "      <th></th>\n",
       "      <th>Date</th>\n",
       "      <th>Close/Last</th>\n",
       "      <th>Volume</th>\n",
       "      <th>Open</th>\n",
       "      <th>High</th>\n",
       "      <th>Low</th>\n",
       "    </tr>\n",
       "  </thead>\n",
       "  <tbody>\n",
       "    <tr>\n",
       "      <th>0</th>\n",
       "      <td>2021-06-09</td>\n",
       "      <td>127.13</td>\n",
       "      <td>56877940</td>\n",
       "      <td>127.210</td>\n",
       "      <td>127.75</td>\n",
       "      <td>126.5200</td>\n",
       "    </tr>\n",
       "    <tr>\n",
       "      <th>1</th>\n",
       "      <td>2021-06-08</td>\n",
       "      <td>126.74</td>\n",
       "      <td>74403770</td>\n",
       "      <td>126.600</td>\n",
       "      <td>128.46</td>\n",
       "      <td>126.2101</td>\n",
       "    </tr>\n",
       "    <tr>\n",
       "      <th>2</th>\n",
       "      <td>2021-06-07</td>\n",
       "      <td>125.90</td>\n",
       "      <td>71057550</td>\n",
       "      <td>126.170</td>\n",
       "      <td>126.32</td>\n",
       "      <td>124.8321</td>\n",
       "    </tr>\n",
       "    <tr>\n",
       "      <th>3</th>\n",
       "      <td>2021-06-04</td>\n",
       "      <td>125.89</td>\n",
       "      <td>75169340</td>\n",
       "      <td>124.070</td>\n",
       "      <td>126.16</td>\n",
       "      <td>123.8500</td>\n",
       "    </tr>\n",
       "    <tr>\n",
       "      <th>4</th>\n",
       "      <td>2021-06-03</td>\n",
       "      <td>123.54</td>\n",
       "      <td>76229170</td>\n",
       "      <td>124.680</td>\n",
       "      <td>124.85</td>\n",
       "      <td>123.1300</td>\n",
       "    </tr>\n",
       "    <tr>\n",
       "      <th>5</th>\n",
       "      <td>2021-06-02</td>\n",
       "      <td>125.06</td>\n",
       "      <td>59278860</td>\n",
       "      <td>124.280</td>\n",
       "      <td>125.24</td>\n",
       "      <td>124.0500</td>\n",
       "    </tr>\n",
       "    <tr>\n",
       "      <th>6</th>\n",
       "      <td>2021-06-01</td>\n",
       "      <td>124.28</td>\n",
       "      <td>67637120</td>\n",
       "      <td>125.080</td>\n",
       "      <td>125.35</td>\n",
       "      <td>123.9400</td>\n",
       "    </tr>\n",
       "    <tr>\n",
       "      <th>7</th>\n",
       "      <td>2021-05-28</td>\n",
       "      <td>124.61</td>\n",
       "      <td>71311110</td>\n",
       "      <td>125.570</td>\n",
       "      <td>125.80</td>\n",
       "      <td>124.5500</td>\n",
       "    </tr>\n",
       "    <tr>\n",
       "      <th>8</th>\n",
       "      <td>2021-05-27</td>\n",
       "      <td>125.28</td>\n",
       "      <td>94625600</td>\n",
       "      <td>126.440</td>\n",
       "      <td>127.64</td>\n",
       "      <td>125.0800</td>\n",
       "    </tr>\n",
       "    <tr>\n",
       "      <th>9</th>\n",
       "      <td>2021-05-26</td>\n",
       "      <td>126.85</td>\n",
       "      <td>56575920</td>\n",
       "      <td>126.955</td>\n",
       "      <td>127.39</td>\n",
       "      <td>126.4200</td>\n",
       "    </tr>\n",
       "  </tbody>\n",
       "</table>\n",
       "</div>"
      ],
      "text/plain": [
       "        Date  Close/Last    Volume     Open    High       Low\n",
       "0 2021-06-09      127.13  56877940  127.210  127.75  126.5200\n",
       "1 2021-06-08      126.74  74403770  126.600  128.46  126.2101\n",
       "2 2021-06-07      125.90  71057550  126.170  126.32  124.8321\n",
       "3 2021-06-04      125.89  75169340  124.070  126.16  123.8500\n",
       "4 2021-06-03      123.54  76229170  124.680  124.85  123.1300\n",
       "5 2021-06-02      125.06  59278860  124.280  125.24  124.0500\n",
       "6 2021-06-01      124.28  67637120  125.080  125.35  123.9400\n",
       "7 2021-05-28      124.61  71311110  125.570  125.80  124.5500\n",
       "8 2021-05-27      125.28  94625600  126.440  127.64  125.0800\n",
       "9 2021-05-26      126.85  56575920  126.955  127.39  126.4200"
      ]
     },
     "execution_count": 5,
     "metadata": {},
     "output_type": "execute_result"
    }
   ],
   "source": [
    "high = []\n",
    "low = []\n",
    "open1 = []\n",
    "close1 = []\n",
    "for i in df['Close/Last']:\n",
    "    value = Decimal(sub(r'[^\\d.]', '', i))\n",
    "    close1.append(float(value))\n",
    "for i in df['Open']:\n",
    "    value = Decimal(sub(r'[^\\d.]', '', i))\n",
    "    open1.append(float(value))\n",
    "for i in df['High']:\n",
    "    value = Decimal(sub(r'[^\\d.]', '', i))\n",
    "    high.append(float(value))\n",
    "for i in df['Low']:\n",
    "    value = Decimal(sub(r'[^\\d.]', '', i))\n",
    "    low.append(float(value))\n",
    "print(len(high), len(low), len(open1), len(close1))\n",
    "df['Close/Last']=close1\n",
    "df['High']=high\n",
    "df['Low']=low\n",
    "df['Open']=open1\n",
    "df.head(10)"
   ]
  },
  {
   "cell_type": "code",
   "execution_count": 6,
   "id": "2f20219b",
   "metadata": {},
   "outputs": [
    {
     "name": "stdout",
     "output_type": "stream",
     "text": [
      "Date          datetime64[ns]\n",
      "Close/Last           float64\n",
      "Volume                 int64\n",
      "Open                 float64\n",
      "High                 float64\n",
      "Low                  float64\n",
      "dtype: object\n",
      "==================================================\n",
      "        Close/Last        Volume         Open         High          Low\n",
      "count  2516.000000  2.516000e+03  2516.000000  2516.000000  2516.000000\n",
      "mean     41.277389  2.388826e+08    41.268871    41.698470    40.829849\n",
      "std      30.304841  1.914594e+08    30.319067    30.698585    29.893474\n",
      "min      11.261400  4.544820e+07    11.310000    11.346400    11.089300\n",
      "25%      21.215550  1.092658e+08    21.244100    21.423600    20.992800\n",
      "50%      29.592500  1.679334e+08    29.505000    29.810000    29.281250\n",
      "75%      47.733750  3.022477e+08    47.770625    47.996250    47.371250\n",
      "max     143.160000  1.498071e+09   143.600000   145.090000   141.370000\n",
      "==================================================\n",
      "            Close/Last    Volume      Open      High       Low\n",
      "Close/Last    1.000000 -0.429948  0.999656  0.999820  0.999823\n",
      "Volume       -0.429948  1.000000 -0.428714 -0.426292 -0.432983\n",
      "Open          0.999656 -0.428714  1.000000  0.999857  0.999795\n",
      "High          0.999820 -0.426292  0.999857  1.000000  0.999746\n",
      "Low           0.999823 -0.432983  0.999795  0.999746  1.000000\n",
      "==================================================\n"
     ]
    }
   ],
   "source": [
    "print(df.dtypes)\n",
    "print(\"=\"*50)\n",
    "print(df.describe())\n",
    "print(\"=\"*50)\n",
    "corr=df.corr()\n",
    "print(corr)\n",
    "print(\"=\"*50)"
   ]
  },
  {
   "cell_type": "code",
   "execution_count": 7,
   "id": "271643b8",
   "metadata": {},
   "outputs": [
    {
     "data": {
      "text/html": [
       "<div>\n",
       "<style scoped>\n",
       "    .dataframe tbody tr th:only-of-type {\n",
       "        vertical-align: middle;\n",
       "    }\n",
       "\n",
       "    .dataframe tbody tr th {\n",
       "        vertical-align: top;\n",
       "    }\n",
       "\n",
       "    .dataframe thead th {\n",
       "        text-align: right;\n",
       "    }\n",
       "</style>\n",
       "<table border=\"1\" class=\"dataframe\">\n",
       "  <thead>\n",
       "    <tr style=\"text-align: right;\">\n",
       "      <th></th>\n",
       "      <th>Date</th>\n",
       "      <th>Close/Last</th>\n",
       "      <th>Volume</th>\n",
       "      <th>Open</th>\n",
       "      <th>High</th>\n",
       "      <th>Low</th>\n",
       "      <th>MA for 10 days</th>\n",
       "      <th>MA for 20 days</th>\n",
       "      <th>MA for 50 days</th>\n",
       "    </tr>\n",
       "  </thead>\n",
       "  <tbody>\n",
       "    <tr>\n",
       "      <th>2511</th>\n",
       "      <td>2011-06-16</td>\n",
       "      <td>11.6129</td>\n",
       "      <td>507299317</td>\n",
       "      <td>11.6750</td>\n",
       "      <td>11.7386</td>\n",
       "      <td>11.3689</td>\n",
       "      <td>11.66991</td>\n",
       "      <td>12.121685</td>\n",
       "      <td>12.975122</td>\n",
       "    </tr>\n",
       "    <tr>\n",
       "      <th>2512</th>\n",
       "      <td>2011-06-15</td>\n",
       "      <td>11.6696</td>\n",
       "      <td>395841722</td>\n",
       "      <td>11.7768</td>\n",
       "      <td>11.7964</td>\n",
       "      <td>11.6029</td>\n",
       "      <td>11.64387</td>\n",
       "      <td>12.066290</td>\n",
       "      <td>12.941572</td>\n",
       "    </tr>\n",
       "    <tr>\n",
       "      <th>2513</th>\n",
       "      <td>2011-06-14</td>\n",
       "      <td>11.8729</td>\n",
       "      <td>333995906</td>\n",
       "      <td>11.7857</td>\n",
       "      <td>11.9018</td>\n",
       "      <td>11.7611</td>\n",
       "      <td>11.63380</td>\n",
       "      <td>12.020615</td>\n",
       "      <td>12.910330</td>\n",
       "    </tr>\n",
       "    <tr>\n",
       "      <th>2514</th>\n",
       "      <td>2011-06-13</td>\n",
       "      <td>11.6643</td>\n",
       "      <td>329376468</td>\n",
       "      <td>11.6857</td>\n",
       "      <td>11.7254</td>\n",
       "      <td>11.6096</td>\n",
       "      <td>11.61437</td>\n",
       "      <td>11.972135</td>\n",
       "      <td>12.876758</td>\n",
       "    </tr>\n",
       "    <tr>\n",
       "      <th>2515</th>\n",
       "      <td>2011-06-10</td>\n",
       "      <td>11.6393</td>\n",
       "      <td>433801306</td>\n",
       "      <td>11.8054</td>\n",
       "      <td>11.8450</td>\n",
       "      <td>11.6254</td>\n",
       "      <td>11.61276</td>\n",
       "      <td>11.921955</td>\n",
       "      <td>12.854944</td>\n",
       "    </tr>\n",
       "  </tbody>\n",
       "</table>\n",
       "</div>"
      ],
      "text/plain": [
       "           Date  Close/Last     Volume     Open     High      Low  \\\n",
       "2511 2011-06-16     11.6129  507299317  11.6750  11.7386  11.3689   \n",
       "2512 2011-06-15     11.6696  395841722  11.7768  11.7964  11.6029   \n",
       "2513 2011-06-14     11.8729  333995906  11.7857  11.9018  11.7611   \n",
       "2514 2011-06-13     11.6643  329376468  11.6857  11.7254  11.6096   \n",
       "2515 2011-06-10     11.6393  433801306  11.8054  11.8450  11.6254   \n",
       "\n",
       "      MA for 10 days  MA for 20 days  MA for 50 days  \n",
       "2511        11.66991       12.121685       12.975122  \n",
       "2512        11.64387       12.066290       12.941572  \n",
       "2513        11.63380       12.020615       12.910330  \n",
       "2514        11.61437       11.972135       12.876758  \n",
       "2515        11.61276       11.921955       12.854944  "
      ]
     },
     "execution_count": 7,
     "metadata": {},
     "output_type": "execute_result"
    }
   ],
   "source": [
    "ma_day = [10,20,50]\n",
    "\n",
    "for ma in ma_day:\n",
    "    column_name = \"MA for %s days\" %(str(ma))\n",
    "    df[column_name] = df['Close/Last'].rolling(window=ma,center=False).mean()\n",
    "\n",
    "df.tail()  "
   ]
  },
  {
   "cell_type": "code",
   "execution_count": 8,
   "id": "2f7407d2",
   "metadata": {},
   "outputs": [],
   "source": [
    "df['Daily Return'] = df['Close/Last'].pct_change()"
   ]
  },
  {
   "cell_type": "code",
   "execution_count": null,
   "id": "36e82245",
   "metadata": {},
   "outputs": [],
   "source": []
  },
  {
   "cell_type": "code",
   "execution_count": 9,
   "id": "5db168d3",
   "metadata": {},
   "outputs": [],
   "source": [
    "#col =['Close/Last','Volume','Open','High','Low']\n",
    "#df = df[col]\n",
    "#df=df.reset_index()['Close/Last']"
   ]
  },
  {
   "cell_type": "markdown",
   "id": "be5ce3e1",
   "metadata": {},
   "source": [
    "### Taking News headlines"
   ]
  },
  {
   "cell_type": "code",
   "execution_count": 10,
   "id": "1459096c",
   "metadata": {},
   "outputs": [
    {
     "name": "stdout",
     "output_type": "stream",
     "text": [
      "365 366 365 365 364 366 174\n",
      "Total Rows in dataframe: 2365\n"
     ]
    }
   ],
   "source": [
    "data1 = pd.read_csv(\"Datasets of Stocks Market and Stock News Articles\\Datasets of Stocks Market and Stock News Articles\\Stocks News Articles Datasets\\Headlines_2015.csv\")\n",
    "data2 = pd.read_csv(\"Datasets of Stocks Market and Stock News Articles\\Datasets of Stocks Market and Stock News Articles\\Stocks News Articles Datasets\\Headlines_2016.csv\")\n",
    "data3 = pd.read_csv(\"Datasets of Stocks Market and Stock News Articles\\Datasets of Stocks Market and Stock News Articles\\Stocks News Articles Datasets\\Headlines_2017.csv\")\n",
    "data4 = pd.read_csv(\"Datasets of Stocks Market and Stock News Articles\\Datasets of Stocks Market and Stock News Articles\\Stocks News Articles Datasets\\Headlines_2018.csv\")\n",
    "data5 = pd.read_csv(\"Datasets of Stocks Market and Stock News Articles\\Datasets of Stocks Market and Stock News Articles\\Stocks News Articles Datasets\\Headlines_2019.csv\")\n",
    "data6 = pd.read_csv(\"Datasets of Stocks Market and Stock News Articles\\Datasets of Stocks Market and Stock News Articles\\Stocks News Articles Datasets\\Headlines_2020.csv\")\n",
    "data7 = pd.read_csv(\"Datasets of Stocks Market and Stock News Articles\\Datasets of Stocks Market and Stock News Articles\\Stocks News Articles Datasets\\Headlines_2021.csv\")\n",
    "\n",
    "df_news = pd.concat([data1, data2, data3, data4, data5, data6, data7])\n",
    "print(len(data1), len(data2), len(data3),len(data4), len(data5), len(data6),len(data7))\n",
    "print(\"Total Rows in dataframe:\", len(df_news))"
   ]
  },
  {
   "cell_type": "code",
   "execution_count": 11,
   "id": "91537f13",
   "metadata": {},
   "outputs": [
    {
     "data": {
      "text/html": [
       "<div>\n",
       "<style scoped>\n",
       "    .dataframe tbody tr th:only-of-type {\n",
       "        vertical-align: middle;\n",
       "    }\n",
       "\n",
       "    .dataframe tbody tr th {\n",
       "        vertical-align: top;\n",
       "    }\n",
       "\n",
       "    .dataframe thead th {\n",
       "        text-align: right;\n",
       "    }\n",
       "</style>\n",
       "<table border=\"1\" class=\"dataframe\">\n",
       "  <thead>\n",
       "    <tr style=\"text-align: right;\">\n",
       "      <th></th>\n",
       "      <th>Date</th>\n",
       "      <th>Headlines</th>\n",
       "    </tr>\n",
       "  </thead>\n",
       "  <tbody>\n",
       "    <tr>\n",
       "      <th>0</th>\n",
       "      <td>2015-01-01</td>\n",
       "      <td>What Can We Expect From Apple Inc. In 2015? 1 ...</td>\n",
       "    </tr>\n",
       "    <tr>\n",
       "      <th>1</th>\n",
       "      <td>2015-01-02</td>\n",
       "      <td>What to expect from Apple in 2015 beyond its s...</td>\n",
       "    </tr>\n",
       "    <tr>\n",
       "      <th>2</th>\n",
       "      <td>2015-01-03</td>\n",
       "      <td>Mountie: An inexpensive and innovative way to ...</td>\n",
       "    </tr>\n",
       "    <tr>\n",
       "      <th>3</th>\n",
       "      <td>2015-01-04</td>\n",
       "      <td>Donald Yacktman on the Sources of Moats, His C...</td>\n",
       "    </tr>\n",
       "    <tr>\n",
       "      <th>4</th>\n",
       "      <td>2015-01-05</td>\n",
       "      <td>SIM-free iPhone 6, 6 Plus reportedly debuting ...</td>\n",
       "    </tr>\n",
       "  </tbody>\n",
       "</table>\n",
       "</div>"
      ],
      "text/plain": [
       "         Date                                          Headlines\n",
       "0  2015-01-01  What Can We Expect From Apple Inc. In 2015? 1 ...\n",
       "1  2015-01-02  What to expect from Apple in 2015 beyond its s...\n",
       "2  2015-01-03  Mountie: An inexpensive and innovative way to ...\n",
       "3  2015-01-04  Donald Yacktman on the Sources of Moats, His C...\n",
       "4  2015-01-05  SIM-free iPhone 6, 6 Plus reportedly debuting ..."
      ]
     },
     "execution_count": 11,
     "metadata": {},
     "output_type": "execute_result"
    }
   ],
   "source": [
    "df_news.head()\n"
   ]
  },
  {
   "cell_type": "code",
   "execution_count": 12,
   "id": "cbc1d7cb",
   "metadata": {},
   "outputs": [],
   "source": [
    "df_news = df_news.drop_duplicates()\n",
    "\n",
    "df_news['Date'] = pd.to_datetime(df_news['Date'])"
   ]
  },
  {
   "cell_type": "code",
   "execution_count": 13,
   "id": "b7dd6d48",
   "metadata": {},
   "outputs": [
    {
     "name": "stdout",
     "output_type": "stream",
     "text": [
      "                       Date                                          Headlines\n",
      "count                  2342                                               2342\n",
      "unique                 2335                                               2332\n",
      "top     2019-11-20 00:00:00  MasterCard is expanding its mobile wallet in S...\n",
      "freq                      2                                                  3\n",
      "first   2015-01-01 00:00:00                                                NaN\n",
      "last    2021-06-23 00:00:00                                                NaN\n",
      "==================================================\n",
      "<class 'pandas.core.frame.DataFrame'>\n",
      "Int64Index: 2342 entries, 0 to 173\n",
      "Data columns (total 2 columns):\n",
      " #   Column     Non-Null Count  Dtype         \n",
      "---  ------     --------------  -----         \n",
      " 0   Date       2342 non-null   datetime64[ns]\n",
      " 1   Headlines  2342 non-null   object        \n",
      "dtypes: datetime64[ns](1), object(1)\n",
      "memory usage: 54.9+ KB\n",
      "==================================================\n",
      "(2342, 2)\n",
      "==================================================\n",
      "Date         0\n",
      "Headlines    0\n",
      "dtype: int64\n",
      "==================================================\n"
     ]
    },
    {
     "name": "stderr",
     "output_type": "stream",
     "text": [
      "C:\\Users\\TIRTHA~1\\AppData\\Local\\Temp/ipykernel_7324/131808018.py:1: FutureWarning: Treating datetime data as categorical rather than numeric in `.describe` is deprecated and will be removed in a future version of pandas. Specify `datetime_is_numeric=True` to silence this warning and adopt the future behavior now.\n",
      "  print(df_news.describe())\n"
     ]
    }
   ],
   "source": [
    "print(df_news.describe())\n",
    "print(\"=\"*50)\n",
    "df_news.info()\n",
    "print(\"=\"*50)\n",
    "print(df_news.shape)\n",
    "print(\"=\"*50)\n",
    "print(df_news.isnull().sum())\n",
    "print(\"=\"*50)"
   ]
  },
  {
   "cell_type": "markdown",
   "id": "ad88b676",
   "metadata": {},
   "source": [
    "### Sentiment scores"
   ]
  },
  {
   "cell_type": "code",
   "execution_count": 14,
   "id": "d0a949b9",
   "metadata": {},
   "outputs": [
    {
     "data": {
      "text/html": [
       "<div>\n",
       "<style scoped>\n",
       "    .dataframe tbody tr th:only-of-type {\n",
       "        vertical-align: middle;\n",
       "    }\n",
       "\n",
       "    .dataframe tbody tr th {\n",
       "        vertical-align: top;\n",
       "    }\n",
       "\n",
       "    .dataframe thead th {\n",
       "        text-align: right;\n",
       "    }\n",
       "</style>\n",
       "<table border=\"1\" class=\"dataframe\">\n",
       "  <thead>\n",
       "    <tr style=\"text-align: right;\">\n",
       "      <th></th>\n",
       "      <th>Date</th>\n",
       "      <th>Headlines</th>\n",
       "      <th>Subjectivity</th>\n",
       "      <th>Polarity</th>\n",
       "    </tr>\n",
       "  </thead>\n",
       "  <tbody>\n",
       "    <tr>\n",
       "      <th>0</th>\n",
       "      <td>2015-01-01</td>\n",
       "      <td>What Can We Expect From Apple Inc. In 2015? 1 ...</td>\n",
       "      <td>0.621789</td>\n",
       "      <td>0.166775</td>\n",
       "    </tr>\n",
       "    <tr>\n",
       "      <th>1</th>\n",
       "      <td>2015-01-02</td>\n",
       "      <td>What to expect from Apple in 2015 beyond its s...</td>\n",
       "      <td>0.539970</td>\n",
       "      <td>0.144614</td>\n",
       "    </tr>\n",
       "    <tr>\n",
       "      <th>2</th>\n",
       "      <td>2015-01-03</td>\n",
       "      <td>Mountie: An inexpensive and innovative way to ...</td>\n",
       "      <td>0.593317</td>\n",
       "      <td>0.202787</td>\n",
       "    </tr>\n",
       "    <tr>\n",
       "      <th>3</th>\n",
       "      <td>2015-01-04</td>\n",
       "      <td>Donald Yacktman on the Sources of Moats, His C...</td>\n",
       "      <td>0.504270</td>\n",
       "      <td>0.150826</td>\n",
       "    </tr>\n",
       "    <tr>\n",
       "      <th>4</th>\n",
       "      <td>2015-01-05</td>\n",
       "      <td>SIM-free iPhone 6, 6 Plus reportedly debuting ...</td>\n",
       "      <td>0.442675</td>\n",
       "      <td>0.144078</td>\n",
       "    </tr>\n",
       "  </tbody>\n",
       "</table>\n",
       "</div>"
      ],
      "text/plain": [
       "        Date                                          Headlines  Subjectivity  \\\n",
       "0 2015-01-01  What Can We Expect From Apple Inc. In 2015? 1 ...      0.621789   \n",
       "1 2015-01-02  What to expect from Apple in 2015 beyond its s...      0.539970   \n",
       "2 2015-01-03  Mountie: An inexpensive and innovative way to ...      0.593317   \n",
       "3 2015-01-04  Donald Yacktman on the Sources of Moats, His C...      0.504270   \n",
       "4 2015-01-05  SIM-free iPhone 6, 6 Plus reportedly debuting ...      0.442675   \n",
       "\n",
       "   Polarity  \n",
       "0  0.166775  \n",
       "1  0.144614  \n",
       "2  0.202787  \n",
       "3  0.150826  \n",
       "4  0.144078  "
      ]
     },
     "execution_count": 14,
     "metadata": {},
     "output_type": "execute_result"
    }
   ],
   "source": [
    "#Create a function to get subjectivity\n",
    "\n",
    "def getSubjectivity(df_news):\n",
    "    return TextBlob(df_news).sentiment.subjectivity\n",
    "\n",
    "#create a function to get the polarity\n",
    "\n",
    "def getPolarity(df_news):\n",
    "    return TextBlob(df_news).sentiment.polarity\n",
    "\n",
    "#create two new solumns called \"Subjectivity\" & \"Polarity\"\n",
    "\n",
    "df_news['Subjectivity'] = df_news['Headlines'].apply(getSubjectivity)\n",
    "df_news['Polarity'] = df_news['Headlines'].apply(getPolarity)\n",
    "\n",
    "#show the data\"\n",
    "df_news.head()"
   ]
  },
  {
   "cell_type": "code",
   "execution_count": 15,
   "id": "0b074671",
   "metadata": {},
   "outputs": [],
   "source": [
    "#create a function o get the text sentiment\n",
    "\n",
    "def getSentiment(score):\n",
    "    if score < 0:\n",
    "        return 'Negative'\n",
    "    elif score == 0:\n",
    "        return 'neutral'\n",
    "    else:\n",
    "        return 'Positve'"
   ]
  },
  {
   "cell_type": "code",
   "execution_count": 16,
   "id": "d9574918",
   "metadata": {},
   "outputs": [
    {
     "data": {
      "text/html": [
       "<div>\n",
       "<style scoped>\n",
       "    .dataframe tbody tr th:only-of-type {\n",
       "        vertical-align: middle;\n",
       "    }\n",
       "\n",
       "    .dataframe tbody tr th {\n",
       "        vertical-align: top;\n",
       "    }\n",
       "\n",
       "    .dataframe thead th {\n",
       "        text-align: right;\n",
       "    }\n",
       "</style>\n",
       "<table border=\"1\" class=\"dataframe\">\n",
       "  <thead>\n",
       "    <tr style=\"text-align: right;\">\n",
       "      <th></th>\n",
       "      <th>Date</th>\n",
       "      <th>Headlines</th>\n",
       "      <th>Subjectivity</th>\n",
       "      <th>Polarity</th>\n",
       "      <th>Sentiment</th>\n",
       "    </tr>\n",
       "  </thead>\n",
       "  <tbody>\n",
       "    <tr>\n",
       "      <th>0</th>\n",
       "      <td>2015-01-01</td>\n",
       "      <td>What Can We Expect From Apple Inc. In 2015? 1 ...</td>\n",
       "      <td>0.621789</td>\n",
       "      <td>0.166775</td>\n",
       "      <td>Positve</td>\n",
       "    </tr>\n",
       "    <tr>\n",
       "      <th>1</th>\n",
       "      <td>2015-01-02</td>\n",
       "      <td>What to expect from Apple in 2015 beyond its s...</td>\n",
       "      <td>0.539970</td>\n",
       "      <td>0.144614</td>\n",
       "      <td>Positve</td>\n",
       "    </tr>\n",
       "    <tr>\n",
       "      <th>2</th>\n",
       "      <td>2015-01-03</td>\n",
       "      <td>Mountie: An inexpensive and innovative way to ...</td>\n",
       "      <td>0.593317</td>\n",
       "      <td>0.202787</td>\n",
       "      <td>Positve</td>\n",
       "    </tr>\n",
       "    <tr>\n",
       "      <th>3</th>\n",
       "      <td>2015-01-04</td>\n",
       "      <td>Donald Yacktman on the Sources of Moats, His C...</td>\n",
       "      <td>0.504270</td>\n",
       "      <td>0.150826</td>\n",
       "      <td>Positve</td>\n",
       "    </tr>\n",
       "    <tr>\n",
       "      <th>4</th>\n",
       "      <td>2015-01-05</td>\n",
       "      <td>SIM-free iPhone 6, 6 Plus reportedly debuting ...</td>\n",
       "      <td>0.442675</td>\n",
       "      <td>0.144078</td>\n",
       "      <td>Positve</td>\n",
       "    </tr>\n",
       "  </tbody>\n",
       "</table>\n",
       "</div>"
      ],
      "text/plain": [
       "        Date                                          Headlines  Subjectivity  \\\n",
       "0 2015-01-01  What Can We Expect From Apple Inc. In 2015? 1 ...      0.621789   \n",
       "1 2015-01-02  What to expect from Apple in 2015 beyond its s...      0.539970   \n",
       "2 2015-01-03  Mountie: An inexpensive and innovative way to ...      0.593317   \n",
       "3 2015-01-04  Donald Yacktman on the Sources of Moats, His C...      0.504270   \n",
       "4 2015-01-05  SIM-free iPhone 6, 6 Plus reportedly debuting ...      0.442675   \n",
       "\n",
       "   Polarity Sentiment  \n",
       "0  0.166775   Positve  \n",
       "1  0.144614   Positve  \n",
       "2  0.202787   Positve  \n",
       "3  0.150826   Positve  \n",
       "4  0.144078   Positve  "
      ]
     },
     "execution_count": 16,
     "metadata": {},
     "output_type": "execute_result"
    }
   ],
   "source": [
    "#create a column to store the text sentiments\n",
    "\n",
    "df_news['Sentiment'] = df_news['Polarity'].apply(getSentiment)\n",
    "\n",
    "#show the data\n",
    "df_news.head()"
   ]
  },
  {
   "cell_type": "code",
   "execution_count": 17,
   "id": "a88cb5fe",
   "metadata": {},
   "outputs": [
    {
     "data": {
      "text/plain": [
       "Positve     2181\n",
       "Negative     131\n",
       "neutral       30\n",
       "Name: Sentiment, dtype: int64"
      ]
     },
     "execution_count": 17,
     "metadata": {},
     "output_type": "execute_result"
    }
   ],
   "source": [
    "df_news.Sentiment.value_counts()"
   ]
  },
  {
   "cell_type": "code",
   "execution_count": 18,
   "id": "98a9450c",
   "metadata": {},
   "outputs": [
    {
     "data": {
      "text/plain": [
       "<AxesSubplot:title={'center':'Sentiment Analysis'}, xlabel='Sentiment', ylabel='Counts'>"
      ]
     },
     "execution_count": 18,
     "metadata": {},
     "output_type": "execute_result"
    },
    {
     "data": {
      "image/png": "[encoded data removed]",
      "text/plain": [
       "<Figure size 432x288 with 1 Axes>"
      ]
     },
     "metadata": {},
     "output_type": "display_data"
    }
   ],
   "source": [
    "df_news['Sentiment'].value_counts()\n",
    "\n",
    "#plot & visualize the counts\n",
    "\n",
    "plt.title('Sentiment Analysis')\n",
    "plt.xlabel('Sentiment')\n",
    "plt.ylabel('Counts')\n",
    "df_news['Sentiment'].value_counts().plot(kind='bar')"
   ]
  },
  {
   "cell_type": "code",
   "execution_count": 19,
   "id": "6ded1d1c",
   "metadata": {},
   "outputs": [
    {
     "data": {
      "text/html": [
       "<div>\n",
       "<style scoped>\n",
       "    .dataframe tbody tr th:only-of-type {\n",
       "        vertical-align: middle;\n",
       "    }\n",
       "\n",
       "    .dataframe tbody tr th {\n",
       "        vertical-align: top;\n",
       "    }\n",
       "\n",
       "    .dataframe thead th {\n",
       "        text-align: right;\n",
       "    }\n",
       "</style>\n",
       "<table border=\"1\" class=\"dataframe\">\n",
       "  <thead>\n",
       "    <tr style=\"text-align: right;\">\n",
       "      <th></th>\n",
       "      <th>Date</th>\n",
       "      <th>Headlines</th>\n",
       "      <th>Subjectivity</th>\n",
       "      <th>Polarity</th>\n",
       "      <th>Sentiment</th>\n",
       "    </tr>\n",
       "  </thead>\n",
       "  <tbody>\n",
       "    <tr>\n",
       "      <th>0</th>\n",
       "      <td>2015-01-01</td>\n",
       "      <td>What Can We Expect From Apple Inc. In 2015? 1 ...</td>\n",
       "      <td>0.621789</td>\n",
       "      <td>0.166775</td>\n",
       "      <td>1</td>\n",
       "    </tr>\n",
       "    <tr>\n",
       "      <th>1</th>\n",
       "      <td>2015-01-02</td>\n",
       "      <td>What to expect from Apple in 2015 beyond its s...</td>\n",
       "      <td>0.539970</td>\n",
       "      <td>0.144614</td>\n",
       "      <td>1</td>\n",
       "    </tr>\n",
       "    <tr>\n",
       "      <th>2</th>\n",
       "      <td>2015-01-03</td>\n",
       "      <td>Mountie: An inexpensive and innovative way to ...</td>\n",
       "      <td>0.593317</td>\n",
       "      <td>0.202787</td>\n",
       "      <td>1</td>\n",
       "    </tr>\n",
       "    <tr>\n",
       "      <th>3</th>\n",
       "      <td>2015-01-04</td>\n",
       "      <td>Donald Yacktman on the Sources of Moats, His C...</td>\n",
       "      <td>0.504270</td>\n",
       "      <td>0.150826</td>\n",
       "      <td>1</td>\n",
       "    </tr>\n",
       "    <tr>\n",
       "      <th>4</th>\n",
       "      <td>2015-01-05</td>\n",
       "      <td>SIM-free iPhone 6, 6 Plus reportedly debuting ...</td>\n",
       "      <td>0.442675</td>\n",
       "      <td>0.144078</td>\n",
       "      <td>1</td>\n",
       "    </tr>\n",
       "  </tbody>\n",
       "</table>\n",
       "</div>"
      ],
      "text/plain": [
       "        Date                                          Headlines  Subjectivity  \\\n",
       "0 2015-01-01  What Can We Expect From Apple Inc. In 2015? 1 ...      0.621789   \n",
       "1 2015-01-02  What to expect from Apple in 2015 beyond its s...      0.539970   \n",
       "2 2015-01-03  Mountie: An inexpensive and innovative way to ...      0.593317   \n",
       "3 2015-01-04  Donald Yacktman on the Sources of Moats, His C...      0.504270   \n",
       "4 2015-01-05  SIM-free iPhone 6, 6 Plus reportedly debuting ...      0.442675   \n",
       "\n",
       "   Polarity  Sentiment  \n",
       "0  0.166775          1  \n",
       "1  0.144614          1  \n",
       "2  0.202787          1  \n",
       "3  0.150826          1  \n",
       "4  0.144078          1  "
      ]
     },
     "execution_count": 19,
     "metadata": {},
     "output_type": "execute_result"
    }
   ],
   "source": [
    "enc = LabelEncoder()\n",
    "df_news['Sentiment'] = enc.fit_transform(df_news['Sentiment'])\n",
    "df_news.head()"
   ]
  },
  {
   "cell_type": "code",
   "execution_count": null,
   "id": "14424817",
   "metadata": {},
   "outputs": [],
   "source": [
    "#df.merge(df_news, left_index=True, right_index=True, how='inner')"
   ]
  },
  {
   "cell_type": "code",
   "execution_count": null,
   "id": "f6e8f92c",
   "metadata": {},
   "outputs": [],
   "source": []
  },
  {
   "cell_type": "code",
   "execution_count": 25,
   "id": "e53dcca7",
   "metadata": {},
   "outputs": [],
   "source": [
    "df.set_index(pd.to_datetime(df['Date']), inplace=True)\n",
    "df_news.set_index(pd.to_datetime(df_news['Date']), inplace=True)"
   ]
  },
  {
   "cell_type": "code",
   "execution_count": 26,
   "id": "3009cac1",
   "metadata": {},
   "outputs": [
    {
     "data": {
      "text/html": [
       "<div>\n",
       "<style scoped>\n",
       "    .dataframe tbody tr th:only-of-type {\n",
       "        vertical-align: middle;\n",
       "    }\n",
       "\n",
       "    .dataframe tbody tr th {\n",
       "        vertical-align: top;\n",
       "    }\n",
       "\n",
       "    .dataframe thead th {\n",
       "        text-align: right;\n",
       "    }\n",
       "</style>\n",
       "<table border=\"1\" class=\"dataframe\">\n",
       "  <thead>\n",
       "    <tr style=\"text-align: right;\">\n",
       "      <th></th>\n",
       "      <th>Date</th>\n",
       "      <th>Close/Last</th>\n",
       "      <th>Volume</th>\n",
       "      <th>Open</th>\n",
       "      <th>High</th>\n",
       "      <th>Low</th>\n",
       "      <th>MA for 10 days</th>\n",
       "      <th>MA for 20 days</th>\n",
       "      <th>MA for 50 days</th>\n",
       "      <th>Daily Return</th>\n",
       "    </tr>\n",
       "    <tr>\n",
       "      <th>Date</th>\n",
       "      <th></th>\n",
       "      <th></th>\n",
       "      <th></th>\n",
       "      <th></th>\n",
       "      <th></th>\n",
       "      <th></th>\n",
       "      <th></th>\n",
       "      <th></th>\n",
       "      <th></th>\n",
       "      <th></th>\n",
       "    </tr>\n",
       "  </thead>\n",
       "  <tbody>\n",
       "    <tr>\n",
       "      <th>2021-06-09</th>\n",
       "      <td>2021-06-09</td>\n",
       "      <td>127.13</td>\n",
       "      <td>56877940</td>\n",
       "      <td>127.21</td>\n",
       "      <td>127.75</td>\n",
       "      <td>126.5200</td>\n",
       "      <td>NaN</td>\n",
       "      <td>NaN</td>\n",
       "      <td>NaN</td>\n",
       "      <td>NaN</td>\n",
       "    </tr>\n",
       "    <tr>\n",
       "      <th>2021-06-08</th>\n",
       "      <td>2021-06-08</td>\n",
       "      <td>126.74</td>\n",
       "      <td>74403770</td>\n",
       "      <td>126.60</td>\n",
       "      <td>128.46</td>\n",
       "      <td>126.2101</td>\n",
       "      <td>NaN</td>\n",
       "      <td>NaN</td>\n",
       "      <td>NaN</td>\n",
       "      <td>-0.003068</td>\n",
       "    </tr>\n",
       "    <tr>\n",
       "      <th>2021-06-07</th>\n",
       "      <td>2021-06-07</td>\n",
       "      <td>125.90</td>\n",
       "      <td>71057550</td>\n",
       "      <td>126.17</td>\n",
       "      <td>126.32</td>\n",
       "      <td>124.8321</td>\n",
       "      <td>NaN</td>\n",
       "      <td>NaN</td>\n",
       "      <td>NaN</td>\n",
       "      <td>-0.006628</td>\n",
       "    </tr>\n",
       "    <tr>\n",
       "      <th>2021-06-04</th>\n",
       "      <td>2021-06-04</td>\n",
       "      <td>125.89</td>\n",
       "      <td>75169340</td>\n",
       "      <td>124.07</td>\n",
       "      <td>126.16</td>\n",
       "      <td>123.8500</td>\n",
       "      <td>NaN</td>\n",
       "      <td>NaN</td>\n",
       "      <td>NaN</td>\n",
       "      <td>-0.000079</td>\n",
       "    </tr>\n",
       "    <tr>\n",
       "      <th>2021-06-03</th>\n",
       "      <td>2021-06-03</td>\n",
       "      <td>123.54</td>\n",
       "      <td>76229170</td>\n",
       "      <td>124.68</td>\n",
       "      <td>124.85</td>\n",
       "      <td>123.1300</td>\n",
       "      <td>NaN</td>\n",
       "      <td>NaN</td>\n",
       "      <td>NaN</td>\n",
       "      <td>-0.018667</td>\n",
       "    </tr>\n",
       "  </tbody>\n",
       "</table>\n",
       "</div>"
      ],
      "text/plain": [
       "                 Date  Close/Last    Volume    Open    High       Low  \\\n",
       "Date                                                                    \n",
       "2021-06-09 2021-06-09      127.13  56877940  127.21  127.75  126.5200   \n",
       "2021-06-08 2021-06-08      126.74  74403770  126.60  128.46  126.2101   \n",
       "2021-06-07 2021-06-07      125.90  71057550  126.17  126.32  124.8321   \n",
       "2021-06-04 2021-06-04      125.89  75169340  124.07  126.16  123.8500   \n",
       "2021-06-03 2021-06-03      123.54  76229170  124.68  124.85  123.1300   \n",
       "\n",
       "            MA for 10 days  MA for 20 days  MA for 50 days  Daily Return  \n",
       "Date                                                                      \n",
       "2021-06-09             NaN             NaN             NaN           NaN  \n",
       "2021-06-08             NaN             NaN             NaN     -0.003068  \n",
       "2021-06-07             NaN             NaN             NaN     -0.006628  \n",
       "2021-06-04             NaN             NaN             NaN     -0.000079  \n",
       "2021-06-03             NaN             NaN             NaN     -0.018667  "
      ]
     },
     "execution_count": 26,
     "metadata": {},
     "output_type": "execute_result"
    }
   ],
   "source": [
    "df.head()"
   ]
  },
  {
   "cell_type": "code",
   "execution_count": 27,
   "id": "16d870c8",
   "metadata": {},
   "outputs": [],
   "source": [
    "final_df=pd.merge(df_news,df, how='inner', left_index=True, right_index=True)\n"
   ]
  },
  {
   "cell_type": "code",
   "execution_count": 28,
   "id": "f203da5b",
   "metadata": {},
   "outputs": [
    {
     "data": {
      "text/html": [
       "<div>\n",
       "<style scoped>\n",
       "    .dataframe tbody tr th:only-of-type {\n",
       "        vertical-align: middle;\n",
       "    }\n",
       "\n",
       "    .dataframe tbody tr th {\n",
       "        vertical-align: top;\n",
       "    }\n",
       "\n",
       "    .dataframe thead th {\n",
       "        text-align: right;\n",
       "    }\n",
       "</style>\n",
       "<table border=\"1\" class=\"dataframe\">\n",
       "  <thead>\n",
       "    <tr style=\"text-align: right;\">\n",
       "      <th></th>\n",
       "      <th>Date_x</th>\n",
       "      <th>Headlines</th>\n",
       "      <th>Subjectivity</th>\n",
       "      <th>Polarity</th>\n",
       "      <th>Sentiment</th>\n",
       "      <th>Date_y</th>\n",
       "      <th>Close/Last</th>\n",
       "      <th>Volume</th>\n",
       "      <th>Open</th>\n",
       "      <th>High</th>\n",
       "      <th>Low</th>\n",
       "      <th>MA for 10 days</th>\n",
       "      <th>MA for 20 days</th>\n",
       "      <th>MA for 50 days</th>\n",
       "      <th>Daily Return</th>\n",
       "    </tr>\n",
       "    <tr>\n",
       "      <th>Date</th>\n",
       "      <th></th>\n",
       "      <th></th>\n",
       "      <th></th>\n",
       "      <th></th>\n",
       "      <th></th>\n",
       "      <th></th>\n",
       "      <th></th>\n",
       "      <th></th>\n",
       "      <th></th>\n",
       "      <th></th>\n",
       "      <th></th>\n",
       "      <th></th>\n",
       "      <th></th>\n",
       "      <th></th>\n",
       "      <th></th>\n",
       "    </tr>\n",
       "  </thead>\n",
       "  <tbody>\n",
       "    <tr>\n",
       "      <th>2015-01-02</th>\n",
       "      <td>2015-01-02</td>\n",
       "      <td>What to expect from Apple in 2015 beyond its s...</td>\n",
       "      <td>0.539970</td>\n",
       "      <td>0.144614</td>\n",
       "      <td>1</td>\n",
       "      <td>2015-01-02</td>\n",
       "      <td>27.3325</td>\n",
       "      <td>212575080</td>\n",
       "      <td>27.8475</td>\n",
       "      <td>27.8600</td>\n",
       "      <td>26.8375</td>\n",
       "      <td>27.23950</td>\n",
       "      <td>27.660375</td>\n",
       "      <td>29.914526</td>\n",
       "      <td>0.028988</td>\n",
       "    </tr>\n",
       "    <tr>\n",
       "      <th>2015-01-05</th>\n",
       "      <td>2015-01-05</td>\n",
       "      <td>SIM-free iPhone 6, 6 Plus reportedly debuting ...</td>\n",
       "      <td>0.442675</td>\n",
       "      <td>0.144078</td>\n",
       "      <td>1</td>\n",
       "      <td>2015-01-05</td>\n",
       "      <td>26.5625</td>\n",
       "      <td>256843520</td>\n",
       "      <td>27.0725</td>\n",
       "      <td>27.1625</td>\n",
       "      <td>26.3525</td>\n",
       "      <td>27.15600</td>\n",
       "      <td>27.776625</td>\n",
       "      <td>30.003076</td>\n",
       "      <td>-0.000094</td>\n",
       "    </tr>\n",
       "    <tr>\n",
       "      <th>2015-01-06</th>\n",
       "      <td>2015-01-06</td>\n",
       "      <td>Technology Transforming Cars Into \"Phones On W...</td>\n",
       "      <td>0.349166</td>\n",
       "      <td>0.099185</td>\n",
       "      <td>1</td>\n",
       "      <td>2015-01-06</td>\n",
       "      <td>26.5650</td>\n",
       "      <td>262729000</td>\n",
       "      <td>26.6350</td>\n",
       "      <td>26.8575</td>\n",
       "      <td>26.1575</td>\n",
       "      <td>27.21775</td>\n",
       "      <td>27.931625</td>\n",
       "      <td>30.114176</td>\n",
       "      <td>-0.013828</td>\n",
       "    </tr>\n",
       "    <tr>\n",
       "      <th>2015-01-07</th>\n",
       "      <td>2015-01-07</td>\n",
       "      <td>Apple issues fourth developer beta of OS X 10....</td>\n",
       "      <td>0.424986</td>\n",
       "      <td>0.129080</td>\n",
       "      <td>1</td>\n",
       "      <td>2015-01-07</td>\n",
       "      <td>26.9375</td>\n",
       "      <td>159933400</td>\n",
       "      <td>26.8000</td>\n",
       "      <td>27.0500</td>\n",
       "      <td>26.6737</td>\n",
       "      <td>27.30000</td>\n",
       "      <td>28.097875</td>\n",
       "      <td>30.220352</td>\n",
       "      <td>-0.037001</td>\n",
       "    </tr>\n",
       "    <tr>\n",
       "      <th>2015-01-08</th>\n",
       "      <td>2015-01-08</td>\n",
       "      <td>Apple company recalls 2014 shipments after lin...</td>\n",
       "      <td>0.400757</td>\n",
       "      <td>0.136965</td>\n",
       "      <td>1</td>\n",
       "      <td>2015-01-08</td>\n",
       "      <td>27.9725</td>\n",
       "      <td>236675040</td>\n",
       "      <td>27.3075</td>\n",
       "      <td>28.0375</td>\n",
       "      <td>27.1750</td>\n",
       "      <td>27.41625</td>\n",
       "      <td>28.250250</td>\n",
       "      <td>30.311102</td>\n",
       "      <td>-0.001071</td>\n",
       "    </tr>\n",
       "  </tbody>\n",
       "</table>\n",
       "</div>"
      ],
      "text/plain": [
       "               Date_x                                          Headlines  \\\n",
       "Date                                                                       \n",
       "2015-01-02 2015-01-02  What to expect from Apple in 2015 beyond its s...   \n",
       "2015-01-05 2015-01-05  SIM-free iPhone 6, 6 Plus reportedly debuting ...   \n",
       "2015-01-06 2015-01-06  Technology Transforming Cars Into \"Phones On W...   \n",
       "2015-01-07 2015-01-07  Apple issues fourth developer beta of OS X 10....   \n",
       "2015-01-08 2015-01-08  Apple company recalls 2014 shipments after lin...   \n",
       "\n",
       "            Subjectivity  Polarity  Sentiment     Date_y  Close/Last  \\\n",
       "Date                                                                   \n",
       "2015-01-02      0.539970  0.144614          1 2015-01-02     27.3325   \n",
       "2015-01-05      0.442675  0.144078          1 2015-01-05     26.5625   \n",
       "2015-01-06      0.349166  0.099185          1 2015-01-06     26.5650   \n",
       "2015-01-07      0.424986  0.129080          1 2015-01-07     26.9375   \n",
       "2015-01-08      0.400757  0.136965          1 2015-01-08     27.9725   \n",
       "\n",
       "               Volume     Open     High      Low  MA for 10 days  \\\n",
       "Date                                                               \n",
       "2015-01-02  212575080  27.8475  27.8600  26.8375        27.23950   \n",
       "2015-01-05  256843520  27.0725  27.1625  26.3525        27.15600   \n",
       "2015-01-06  262729000  26.6350  26.8575  26.1575        27.21775   \n",
       "2015-01-07  159933400  26.8000  27.0500  26.6737        27.30000   \n",
       "2015-01-08  236675040  27.3075  28.0375  27.1750        27.41625   \n",
       "\n",
       "            MA for 20 days  MA for 50 days  Daily Return  \n",
       "Date                                                      \n",
       "2015-01-02       27.660375       29.914526      0.028988  \n",
       "2015-01-05       27.776625       30.003076     -0.000094  \n",
       "2015-01-06       27.931625       30.114176     -0.013828  \n",
       "2015-01-07       28.097875       30.220352     -0.037001  \n",
       "2015-01-08       28.250250       30.311102     -0.001071  "
      ]
     },
     "execution_count": 28,
     "metadata": {},
     "output_type": "execute_result"
    }
   ],
   "source": [
    "final_df.head()"
   ]
  },
  {
   "cell_type": "code",
   "execution_count": 29,
   "id": "ccb95022",
   "metadata": {},
   "outputs": [
    {
     "data": {
      "text/plain": [
       "(1604, 15)"
      ]
     },
     "execution_count": 29,
     "metadata": {},
     "output_type": "execute_result"
    }
   ],
   "source": [
    "final_df.shape"
   ]
  },
  {
   "cell_type": "code",
   "execution_count": 30,
   "id": "d0d1b36f",
   "metadata": {},
   "outputs": [],
   "source": [
    "#final_df.drop_duplicates(subset =\"Volume\",\n",
    "                     #keep = False, inplace = True)"
   ]
  },
  {
   "cell_type": "code",
   "execution_count": null,
   "id": "26ab00c9",
   "metadata": {},
   "outputs": [],
   "source": []
  },
  {
   "cell_type": "code",
   "execution_count": 31,
   "id": "e6bd74e8",
   "metadata": {},
   "outputs": [
    {
     "name": "stdout",
     "output_type": "stream",
     "text": [
      "       Subjectivity     Polarity    Sentiment   Close/Last        Volume  \\\n",
      "count   1604.000000  1604.000000  1604.000000  1604.000000  1.604000e+03   \n",
      "mean       0.416734     0.131206     0.970698    53.504243  1.426725e+08   \n",
      "std        0.063492     0.066068     0.168704    31.711314  7.028115e+07   \n",
      "min        0.100000    -0.133333     0.000000    22.585000  4.544820e+07   \n",
      "25%        0.377475     0.092543     1.000000    30.454375  9.460827e+07   \n",
      "50%        0.418966     0.132219     1.000000    42.733750  1.251165e+08   \n",
      "75%        0.456484     0.171481     1.000000    61.680625  1.692043e+08   \n",
      "max        0.733333     0.533333     1.000000   143.160000  6.475300e+08   \n",
      "\n",
      "              Open         High          Low  MA for 10 days  MA for 20 days  \\\n",
      "count  1604.000000  1604.000000  1604.000000     1595.000000     1585.000000   \n",
      "mean     53.487040    54.057841    52.911118       53.353704       53.186723   \n",
      "std      31.742193    32.155147    31.255838       31.493683       31.251138   \n",
      "min      22.500000    22.917500    22.367500       23.177500       23.507750   \n",
      "25%      30.406875    30.634375    30.162500       30.573000       30.835375   \n",
      "50%      42.697500    43.083750    42.381250       42.810500       42.822125   \n",
      "75%      61.807800    63.901875    60.163125       61.176375       56.669125   \n",
      "max     143.600000   145.090000   141.370000      137.672000      136.261000   \n",
      "\n",
      "       MA for 50 days  Daily Return  \n",
      "count     1555.000000   1603.000000  \n",
      "mean        52.653765     -0.000717  \n",
      "std         30.431160      0.018728  \n",
      "min         23.938800     -0.106990  \n",
      "25%         30.701764     -0.009777  \n",
      "50%         42.839700     -0.000756  \n",
      "75%         55.839726      0.006982  \n",
      "max        132.015900      0.147640  \n",
      "==================================================\n",
      "<class 'pandas.core.frame.DataFrame'>\n",
      "DatetimeIndex: 1604 entries, 2015-01-02 to 2021-06-09\n",
      "Data columns (total 15 columns):\n",
      " #   Column          Non-Null Count  Dtype         \n",
      "---  ------          --------------  -----         \n",
      " 0   Date_x          1604 non-null   datetime64[ns]\n",
      " 1   Headlines       1604 non-null   object        \n",
      " 2   Subjectivity    1604 non-null   float64       \n",
      " 3   Polarity        1604 non-null   float64       \n",
      " 4   Sentiment       1604 non-null   int32         \n",
      " 5   Date_y          1604 non-null   datetime64[ns]\n",
      " 6   Close/Last      1604 non-null   float64       \n",
      " 7   Volume          1604 non-null   int64         \n",
      " 8   Open            1604 non-null   float64       \n",
      " 9   High            1604 non-null   float64       \n",
      " 10  Low             1604 non-null   float64       \n",
      " 11  MA for 10 days  1595 non-null   float64       \n",
      " 12  MA for 20 days  1585 non-null   float64       \n",
      " 13  MA for 50 days  1555 non-null   float64       \n",
      " 14  Daily Return    1603 non-null   float64       \n",
      "dtypes: datetime64[ns](2), float64(10), int32(1), int64(1), object(1)\n",
      "memory usage: 194.2+ KB\n",
      "==================================================\n",
      "(1604, 15)\n",
      "==================================================\n",
      "Date_x             0\n",
      "Headlines          0\n",
      "Subjectivity       0\n",
      "Polarity           0\n",
      "Sentiment          0\n",
      "Date_y             0\n",
      "Close/Last         0\n",
      "Volume             0\n",
      "Open               0\n",
      "High               0\n",
      "Low                0\n",
      "MA for 10 days     9\n",
      "MA for 20 days    19\n",
      "MA for 50 days    49\n",
      "Daily Return       1\n",
      "dtype: int64\n",
      "==================================================\n",
      "Date              datetime64[ns]\n",
      "Close/Last               float64\n",
      "Volume                     int64\n",
      "Open                     float64\n",
      "High                     float64\n",
      "Low                      float64\n",
      "MA for 10 days           float64\n",
      "MA for 20 days           float64\n",
      "MA for 50 days           float64\n",
      "Daily Return             float64\n",
      "dtype: object\n",
      "==================================================\n",
      "                Close/Last    Volume      Open      High       Low  \\\n",
      "Close/Last        1.000000 -0.429948  0.999656  0.999820  0.999823   \n",
      "Volume           -0.429948  1.000000 -0.428714 -0.426292 -0.432983   \n",
      "Open              0.999656 -0.428714  1.000000  0.999857  0.999795   \n",
      "High              0.999820 -0.426292  0.999857  1.000000  0.999746   \n",
      "Low               0.999823 -0.432983  0.999795  0.999746  1.000000   \n",
      "MA for 10 days    0.998509 -0.428594  0.998170  0.998316  0.998474   \n",
      "MA for 20 days    0.996674 -0.427973  0.996303  0.996471  0.996665   \n",
      "MA for 50 days    0.990963 -0.427759  0.990586  0.990804  0.990986   \n",
      "Daily Return      0.004335 -0.000718  0.003304  0.003178  0.002372   \n",
      "\n",
      "                MA for 10 days  MA for 20 days  MA for 50 days  Daily Return  \n",
      "Close/Last            0.998509        0.996674        0.990963      0.004335  \n",
      "Volume               -0.428594       -0.427973       -0.427759     -0.000718  \n",
      "Open                  0.998170        0.996303        0.990586      0.003304  \n",
      "High                  0.998316        0.996471        0.990804      0.003178  \n",
      "Low                   0.998474        0.996665        0.990986      0.002372  \n",
      "MA for 10 days        1.000000        0.999119        0.994048     -0.019219  \n",
      "MA for 20 days        0.999119        1.000000        0.996620     -0.021922  \n",
      "MA for 50 days        0.994048        0.996620        1.000000     -0.024323  \n",
      "Daily Return         -0.019219       -0.021922       -0.024323      1.000000  \n",
      "==================================================\n",
      "<class 'pandas.core.frame.DataFrame'>\n",
      "DatetimeIndex: 2516 entries, 2021-06-09 to 2011-06-10\n",
      "Data columns (total 10 columns):\n",
      " #   Column          Non-Null Count  Dtype         \n",
      "---  ------          --------------  -----         \n",
      " 0   Date            2516 non-null   datetime64[ns]\n",
      " 1   Close/Last      2516 non-null   float64       \n",
      " 2   Volume          2516 non-null   int64         \n",
      " 3   Open            2516 non-null   float64       \n",
      " 4   High            2516 non-null   float64       \n",
      " 5   Low             2516 non-null   float64       \n",
      " 6   MA for 10 days  2507 non-null   float64       \n",
      " 7   MA for 20 days  2497 non-null   float64       \n",
      " 8   MA for 50 days  2467 non-null   float64       \n",
      " 9   Daily Return    2515 non-null   float64       \n",
      "dtypes: datetime64[ns](1), float64(8), int64(1)\n",
      "memory usage: 280.8 KB\n",
      "None\n",
      "==================================================\n"
     ]
    }
   ],
   "source": [
    "print(final_df.describe())\n",
    "print(\"=\"*50)\n",
    "final_df.info()\n",
    "print(\"=\"*50)\n",
    "print(final_df.shape)\n",
    "print(\"=\"*50)\n",
    "print(final_df.isnull().sum())\n",
    "print(\"=\"*50)\n",
    "print(df.dtypes)\n",
    "print(\"=\"*50)\n",
    "corr=df.corr()\n",
    "print(corr)\n",
    "print(\"=\"*50)\n",
    "print(df.info())\n",
    "print(\"=\"*50)"
   ]
  },
  {
   "cell_type": "code",
   "execution_count": 32,
   "id": "2b65535e",
   "metadata": {},
   "outputs": [
    {
     "data": {
      "text/html": [
       "<div>\n",
       "<style scoped>\n",
       "    .dataframe tbody tr th:only-of-type {\n",
       "        vertical-align: middle;\n",
       "    }\n",
       "\n",
       "    .dataframe tbody tr th {\n",
       "        vertical-align: top;\n",
       "    }\n",
       "\n",
       "    .dataframe thead th {\n",
       "        text-align: right;\n",
       "    }\n",
       "</style>\n",
       "<table border=\"1\" class=\"dataframe\">\n",
       "  <thead>\n",
       "    <tr style=\"text-align: right;\">\n",
       "      <th></th>\n",
       "      <th>Sentiment</th>\n",
       "      <th>Close/Last</th>\n",
       "      <th>Volume</th>\n",
       "      <th>Open</th>\n",
       "      <th>High</th>\n",
       "      <th>Low</th>\n",
       "    </tr>\n",
       "    <tr>\n",
       "      <th>Date</th>\n",
       "      <th></th>\n",
       "      <th></th>\n",
       "      <th></th>\n",
       "      <th></th>\n",
       "      <th></th>\n",
       "      <th></th>\n",
       "    </tr>\n",
       "  </thead>\n",
       "  <tbody>\n",
       "    <tr>\n",
       "      <th>2015-01-02</th>\n",
       "      <td>1</td>\n",
       "      <td>27.3325</td>\n",
       "      <td>212575080</td>\n",
       "      <td>27.8475</td>\n",
       "      <td>27.8600</td>\n",
       "      <td>26.8375</td>\n",
       "    </tr>\n",
       "    <tr>\n",
       "      <th>2015-01-05</th>\n",
       "      <td>1</td>\n",
       "      <td>26.5625</td>\n",
       "      <td>256843520</td>\n",
       "      <td>27.0725</td>\n",
       "      <td>27.1625</td>\n",
       "      <td>26.3525</td>\n",
       "    </tr>\n",
       "    <tr>\n",
       "      <th>2015-01-06</th>\n",
       "      <td>1</td>\n",
       "      <td>26.5650</td>\n",
       "      <td>262729000</td>\n",
       "      <td>26.6350</td>\n",
       "      <td>26.8575</td>\n",
       "      <td>26.1575</td>\n",
       "    </tr>\n",
       "    <tr>\n",
       "      <th>2015-01-07</th>\n",
       "      <td>1</td>\n",
       "      <td>26.9375</td>\n",
       "      <td>159933400</td>\n",
       "      <td>26.8000</td>\n",
       "      <td>27.0500</td>\n",
       "      <td>26.6737</td>\n",
       "    </tr>\n",
       "    <tr>\n",
       "      <th>2015-01-08</th>\n",
       "      <td>1</td>\n",
       "      <td>27.9725</td>\n",
       "      <td>236675040</td>\n",
       "      <td>27.3075</td>\n",
       "      <td>28.0375</td>\n",
       "      <td>27.1750</td>\n",
       "    </tr>\n",
       "  </tbody>\n",
       "</table>\n",
       "</div>"
      ],
      "text/plain": [
       "            Sentiment  Close/Last     Volume     Open     High      Low\n",
       "Date                                                                   \n",
       "2015-01-02          1     27.3325  212575080  27.8475  27.8600  26.8375\n",
       "2015-01-05          1     26.5625  256843520  27.0725  27.1625  26.3525\n",
       "2015-01-06          1     26.5650  262729000  26.6350  26.8575  26.1575\n",
       "2015-01-07          1     26.9375  159933400  26.8000  27.0500  26.6737\n",
       "2015-01-08          1     27.9725  236675040  27.3075  28.0375  27.1750"
      ]
     },
     "execution_count": 32,
     "metadata": {},
     "output_type": "execute_result"
    }
   ],
   "source": [
    "#date is exclude intetionally\n",
    "final_df=final_df[['Sentiment','Close/Last','Volume','Open','High','Low']]\n",
    "final_df.head(5)"
   ]
  },
  {
   "cell_type": "code",
   "execution_count": 34,
   "id": "02ffd6e9",
   "metadata": {},
   "outputs": [],
   "source": [
    "from sklearn.preprocessing import MinMaxScaler\n",
    "scaler=MinMaxScaler(feature_range=(0,1))\n",
    "final_df=scaler.fit_transform(np.array(final_df).reshape(-1,1))"
   ]
  },
  {
   "cell_type": "code",
   "execution_count": 35,
   "id": "31ad00c8",
   "metadata": {},
   "outputs": [
    {
     "name": "stdout",
     "output_type": "stream",
     "text": [
      "[[1.54432999e-09]\n",
      " [4.22103995e-08]\n",
      " [3.28286072e-01]\n",
      " ...\n",
      " [1.96454218e-07]\n",
      " [1.97288157e-07]\n",
      " [1.95388631e-07]]\n"
     ]
    }
   ],
   "source": [
    "print(final_df)\n"
   ]
  },
  {
   "cell_type": "code",
   "execution_count": 36,
   "id": "4a681ec7",
   "metadata": {},
   "outputs": [],
   "source": [
    "##splitting dataset into train and test split\n",
    "training_size=int(len(final_df)*0.70)\n",
    "test_size=len(final_df)-training_size\n",
    "train_data,test_data=final_df[0:training_size,:],final_df[training_size:len(final_df),:1]"
   ]
  },
  {
   "cell_type": "code",
   "execution_count": 37,
   "id": "5b8590ab",
   "metadata": {},
   "outputs": [
    {
     "data": {
      "text/plain": [
       "(6736, 2888)"
      ]
     },
     "execution_count": 37,
     "metadata": {},
     "output_type": "execute_result"
    }
   ],
   "source": [
    "training_size,test_size\n"
   ]
  },
  {
   "cell_type": "code",
   "execution_count": 38,
   "id": "b7c7ce42",
   "metadata": {},
   "outputs": [
    {
     "data": {
      "text/plain": [
       "array([[1.54432999e-09],\n",
       "       [4.22103995e-08],\n",
       "       [3.28286072e-01],\n",
       "       ...,\n",
       "       [7.63941439e-08],\n",
       "       [1.30491190e-01],\n",
       "       [7.70929532e-08]])"
      ]
     },
     "execution_count": 38,
     "metadata": {},
     "output_type": "execute_result"
    }
   ],
   "source": [
    "train_data\n"
   ]
  },
  {
   "cell_type": "code",
   "execution_count": 39,
   "id": "bf88fa0a",
   "metadata": {},
   "outputs": [
    {
     "data": {
      "text/plain": [
       "array([[7.71701697e-08],\n",
       "       [7.61779377e-08],\n",
       "       [1.54432999e-09],\n",
       "       ...,\n",
       "       [1.96454218e-07],\n",
       "       [1.97288157e-07],\n",
       "       [1.95388631e-07]])"
      ]
     },
     "execution_count": 39,
     "metadata": {},
     "output_type": "execute_result"
    }
   ],
   "source": [
    "test_data"
   ]
  },
  {
   "cell_type": "code",
   "execution_count": 40,
   "id": "5403c651",
   "metadata": {},
   "outputs": [],
   "source": [
    "import numpy\n",
    "# convert an array of values into a dataset matrix\n",
    "def create_dataset(dataset, time_step=1):\n",
    "    dataX, dataY = [], []\n",
    "    for i in range(len(dataset)-time_step-1):\n",
    "        a = dataset[i:(i+time_step), 0]   ###i=0, 0,1,2,3-----99   100 \n",
    "        dataX.append(a)\n",
    "        dataY.append(dataset[i + time_step, 0])\n",
    "    return numpy.array(dataX), numpy.array(dataY)"
   ]
  },
  {
   "cell_type": "code",
   "execution_count": 41,
   "id": "e9bc3574",
   "metadata": {},
   "outputs": [],
   "source": [
    "# reshape into X=t,t+1,t+2,t+3 and Y=t+4\n",
    "time_step = 100\n",
    "X_train, y_train = create_dataset(train_data, time_step)\n",
    "X_test, ytest = create_dataset(test_data, time_step)"
   ]
  },
  {
   "cell_type": "code",
   "execution_count": 42,
   "id": "94952729",
   "metadata": {},
   "outputs": [
    {
     "name": "stdout",
     "output_type": "stream",
     "text": [
      "(6635, 100)\n",
      "(6635,)\n"
     ]
    },
    {
     "data": {
      "text/plain": [
       "(None, None)"
      ]
     },
     "execution_count": 42,
     "metadata": {},
     "output_type": "execute_result"
    }
   ],
   "source": [
    "print(X_train.shape), print(y_train.shape)\n"
   ]
  },
  {
   "cell_type": "code",
   "execution_count": 43,
   "id": "c983dc01",
   "metadata": {},
   "outputs": [
    {
     "name": "stdout",
     "output_type": "stream",
     "text": [
      "(2787, 100)\n",
      "(2787,)\n"
     ]
    },
    {
     "data": {
      "text/plain": [
       "(None, None)"
      ]
     },
     "execution_count": 43,
     "metadata": {},
     "output_type": "execute_result"
    }
   ],
   "source": [
    "print(X_test.shape), print(ytest.shape)\n"
   ]
  },
  {
   "cell_type": "code",
   "execution_count": 44,
   "id": "632a41fc",
   "metadata": {},
   "outputs": [],
   "source": [
    "# reshape input to be [samples, time steps, features] which is required for LSTM\n",
    "X_train =X_train.reshape(X_train.shape[0],X_train.shape[1] , 1)\n",
    "X_test = X_test.reshape(X_test.shape[0],X_test.shape[1] , 1)"
   ]
  },
  {
   "cell_type": "code",
   "execution_count": 45,
   "id": "c45d7f83",
   "metadata": {},
   "outputs": [],
   "source": [
    "\n",
    "### Create the Stacked LSTM model\n",
    "from tensorflow.keras.models import Sequential\n",
    "from tensorflow.keras.layers import Dense\n",
    "from tensorflow.keras.layers import LSTM"
   ]
  },
  {
   "cell_type": "code",
   "execution_count": 46,
   "id": "69f2d44f",
   "metadata": {},
   "outputs": [],
   "source": [
    "model=Sequential()\n",
    "model.add(LSTM(50,return_sequences=True,input_shape=(100,1)))\n",
    "model.add(LSTM(50,return_sequences=True))\n",
    "model.add(LSTM(50))\n",
    "model.add(Dense(1))\n",
    "model.compile(loss='mean_squared_error',optimizer='adam')"
   ]
  },
  {
   "cell_type": "code",
   "execution_count": 47,
   "id": "ad504522",
   "metadata": {},
   "outputs": [
    {
     "name": "stdout",
     "output_type": "stream",
     "text": [
      "Model: \"sequential\"\n",
      "_________________________________________________________________\n",
      "Layer (type)                 Output Shape              Param #   \n",
      "=================================================================\n",
      "lstm (LSTM)                  (None, 100, 50)           10400     \n",
      "_________________________________________________________________\n",
      "lstm_1 (LSTM)                (None, 100, 50)           20200     \n",
      "_________________________________________________________________\n",
      "lstm_2 (LSTM)                (None, 50)                20200     \n",
      "_________________________________________________________________\n",
      "dense (Dense)                (None, 1)                 51        \n",
      "=================================================================\n",
      "Total params: 50,851\n",
      "Trainable params: 50,851\n",
      "Non-trainable params: 0\n",
      "_________________________________________________________________\n"
     ]
    }
   ],
   "source": [
    "model.summary()\n"
   ]
  },
  {
   "cell_type": "code",
   "execution_count": 48,
   "id": "622323ed",
   "metadata": {
    "scrolled": true
   },
   "outputs": [
    {
     "name": "stdout",
     "output_type": "stream",
     "text": [
      "Epoch 1/100\n",
      "104/104 [==============================] - 2s 21ms/step - loss: 0.0091 - val_loss: 0.0072\n",
      "Epoch 2/100\n",
      "104/104 [==============================] - 2s 15ms/step - loss: 0.0072 - val_loss: 0.0044\n",
      "Epoch 3/100\n",
      "104/104 [==============================] - 2s 15ms/step - loss: 0.0055 - val_loss: 0.0040\n",
      "Epoch 4/100\n",
      "104/104 [==============================] - 2s 15ms/step - loss: 0.0048 - val_loss: 0.0034\n",
      "Epoch 5/100\n",
      "104/104 [==============================] - 2s 15ms/step - loss: 0.0028 - val_loss: 0.0013\n",
      "Epoch 6/100\n",
      "104/104 [==============================] - 2s 15ms/step - loss: 0.0016 - val_loss: 9.7387e-04\n",
      "Epoch 7/100\n",
      "104/104 [==============================] - 2s 15ms/step - loss: 0.0014 - val_loss: 8.5344e-04\n",
      "Epoch 8/100\n",
      "104/104 [==============================] - 2s 15ms/step - loss: 0.0013 - val_loss: 8.6007e-04\n",
      "Epoch 9/100\n",
      "104/104 [==============================] - 2s 14ms/step - loss: 0.0012 - val_loss: 7.6500e-04\n",
      "Epoch 10/100\n",
      "104/104 [==============================] - 2s 15ms/step - loss: 0.0013 - val_loss: 7.6147e-04s - los\n",
      "Epoch 11/100\n",
      "104/104 [==============================] - 2s 15ms/step - loss: 0.0012 - val_loss: 7.5095e-04\n",
      "Epoch 12/100\n",
      "104/104 [==============================] - 2s 15ms/step - loss: 0.0012 - val_loss: 7.4911e-04\n",
      "Epoch 13/100\n",
      "104/104 [==============================] - 2s 15ms/step - loss: 0.0012 - val_loss: 8.8489e-04\n",
      "Epoch 14/100\n",
      "104/104 [==============================] - 2s 15ms/step - loss: 0.0012 - val_loss: 7.4877e-04\n",
      "Epoch 15/100\n",
      "104/104 [==============================] - 2s 15ms/step - loss: 0.0012 - val_loss: 8.3366e-04\n",
      "Epoch 16/100\n",
      "104/104 [==============================] - 2s 15ms/step - loss: 0.0012 - val_loss: 9.0381e-04\n",
      "Epoch 17/100\n",
      "104/104 [==============================] - 2s 15ms/step - loss: 0.0012 - val_loss: 8.7759e-04\n",
      "Epoch 18/100\n",
      "104/104 [==============================] - 2s 15ms/step - loss: 0.0013 - val_loss: 7.8139e-04\n",
      "Epoch 19/100\n",
      "104/104 [==============================] - 2s 15ms/step - loss: 0.0012 - val_loss: 8.3732e-04\n",
      "Epoch 20/100\n",
      "104/104 [==============================] - 2s 17ms/step - loss: 0.0012 - val_loss: 7.7802e-04\n",
      "Epoch 21/100\n",
      "104/104 [==============================] - 2s 15ms/step - loss: 0.0012 - val_loss: 7.8787e-04\n",
      "Epoch 22/100\n",
      "104/104 [==============================] - 2s 15ms/step - loss: 0.0012 - val_loss: 8.1053e-04\n",
      "Epoch 23/100\n",
      "104/104 [==============================] - 2s 15ms/step - loss: 0.0012 - val_loss: 7.6245e-04\n",
      "Epoch 24/100\n",
      "104/104 [==============================] - 2s 15ms/step - loss: 0.0012 - val_loss: 7.9317e-04\n",
      "Epoch 25/100\n",
      "104/104 [==============================] - 2s 15ms/step - loss: 0.0012 - val_loss: 7.5908e-04\n",
      "Epoch 26/100\n",
      "104/104 [==============================] - 2s 15ms/step - loss: 0.0012 - val_loss: 9.0427e-04\n",
      "Epoch 27/100\n",
      "104/104 [==============================] - 2s 15ms/step - loss: 0.0012 - val_loss: 8.4657e-04\n",
      "Epoch 28/100\n",
      "104/104 [==============================] - 2s 15ms/step - loss: 0.0012 - val_loss: 7.6850e-04\n",
      "Epoch 29/100\n",
      "104/104 [==============================] - 2s 15ms/step - loss: 0.0012 - val_loss: 8.5567e-04\n",
      "Epoch 30/100\n",
      "104/104 [==============================] - 2s 15ms/step - loss: 0.0012 - val_loss: 7.9803e-04\n",
      "Epoch 31/100\n",
      "104/104 [==============================] - 2s 15ms/step - loss: 0.0012 - val_loss: 7.1642e-04\n",
      "Epoch 32/100\n",
      "104/104 [==============================] - 2s 15ms/step - loss: 0.0011 - val_loss: 7.6306e-04\n",
      "Epoch 33/100\n",
      "104/104 [==============================] - 2s 15ms/step - loss: 0.0012 - val_loss: 7.3712e-04\n",
      "Epoch 34/100\n",
      "104/104 [==============================] - 2s 15ms/step - loss: 0.0012 - val_loss: 8.1650e-04\n",
      "Epoch 35/100\n",
      "104/104 [==============================] - 2s 15ms/step - loss: 0.0011 - val_loss: 9.5898e-04\n",
      "Epoch 36/100\n",
      "104/104 [==============================] - 2s 15ms/step - loss: 0.0012 - val_loss: 8.4198e-04\n",
      "Epoch 37/100\n",
      "104/104 [==============================] - 2s 15ms/step - loss: 0.0012 - val_loss: 8.4953e-04\n",
      "Epoch 38/100\n",
      "104/104 [==============================] - 2s 15ms/step - loss: 0.0012 - val_loss: 8.0611e-04\n",
      "Epoch 39/100\n",
      "104/104 [==============================] - 2s 15ms/step - loss: 0.0012 - val_loss: 7.2854e-04\n",
      "Epoch 40/100\n",
      "104/104 [==============================] - 2s 15ms/step - loss: 0.0012 - val_loss: 7.2864e-04\n",
      "Epoch 41/100\n",
      "104/104 [==============================] - 2s 15ms/step - loss: 0.0011 - val_loss: 7.5543e-04\n",
      "Epoch 42/100\n",
      "104/104 [==============================] - 2s 15ms/step - loss: 0.0011 - val_loss: 7.1289e-04\n",
      "Epoch 43/100\n",
      "104/104 [==============================] - 2s 15ms/step - loss: 0.0012 - val_loss: 8.0318e-04\n",
      "Epoch 44/100\n",
      "104/104 [==============================] - 2s 15ms/step - loss: 0.0012 - val_loss: 8.1926e-04\n",
      "Epoch 45/100\n",
      "104/104 [==============================] - 2s 15ms/step - loss: 0.0012 - val_loss: 7.2879e-04\n",
      "Epoch 46/100\n",
      "104/104 [==============================] - 2s 15ms/step - loss: 0.0012 - val_loss: 7.9021e-04\n",
      "Epoch 47/100\n",
      "104/104 [==============================] - 2s 15ms/step - loss: 0.0012 - val_loss: 9.2258e-04\n",
      "Epoch 48/100\n",
      "104/104 [==============================] - 2s 15ms/step - loss: 0.0012 - val_loss: 8.1422e-04\n",
      "Epoch 49/100\n",
      "104/104 [==============================] - 2s 15ms/step - loss: 0.0012 - val_loss: 7.9917e-04\n",
      "Epoch 50/100\n",
      "104/104 [==============================] - 2s 15ms/step - loss: 0.0012 - val_loss: 7.4007e-04\n",
      "Epoch 51/100\n",
      "104/104 [==============================] - 2s 15ms/step - loss: 0.0011 - val_loss: 9.0385e-04\n",
      "Epoch 52/100\n",
      "104/104 [==============================] - 2s 15ms/step - loss: 0.0012 - val_loss: 7.5689e-04\n",
      "Epoch 53/100\n",
      "104/104 [==============================] - 2s 15ms/step - loss: 0.0012 - val_loss: 7.4440e-04\n",
      "Epoch 54/100\n",
      "104/104 [==============================] - 2s 15ms/step - loss: 0.0012 - val_loss: 8.5191e-04\n",
      "Epoch 55/100\n",
      "104/104 [==============================] - 2s 15ms/step - loss: 0.0011 - val_loss: 7.5857e-04\n",
      "Epoch 56/100\n",
      "104/104 [==============================] - 2s 15ms/step - loss: 0.0012 - val_loss: 7.3353e-04\n",
      "Epoch 57/100\n",
      "104/104 [==============================] - 2s 15ms/step - loss: 0.0011 - val_loss: 7.3942e-04\n",
      "Epoch 58/100\n",
      "104/104 [==============================] - 2s 15ms/step - loss: 0.0011 - val_loss: 7.8128e-04\n",
      "Epoch 59/100\n",
      "104/104 [==============================] - 2s 15ms/step - loss: 0.0011 - val_loss: 7.2694e-04\n",
      "Epoch 60/100\n",
      "104/104 [==============================] - 2s 15ms/step - loss: 0.0012 - val_loss: 7.6441e-04\n",
      "Epoch 61/100\n",
      "104/104 [==============================] - 2s 15ms/step - loss: 0.0012 - val_loss: 7.6868e-04\n",
      "Epoch 62/100\n",
      "104/104 [==============================] - 2s 15ms/step - loss: 0.0011 - val_loss: 7.6472e-04\n",
      "Epoch 63/100\n",
      "104/104 [==============================] - 2s 15ms/step - loss: 0.0012 - val_loss: 7.6722e-04\n",
      "Epoch 64/100\n",
      "104/104 [==============================] - 2s 15ms/step - loss: 0.0012 - val_loss: 8.5543e-04\n",
      "Epoch 65/100\n",
      "104/104 [==============================] - 2s 15ms/step - loss: 0.0012 - val_loss: 7.8554e-04\n",
      "Epoch 66/100\n",
      "104/104 [==============================] - 2s 15ms/step - loss: 0.0011 - val_loss: 8.4137e-04\n",
      "Epoch 67/100\n",
      "104/104 [==============================] - 2s 15ms/step - loss: 0.0012 - val_loss: 7.7362e-04\n",
      "Epoch 68/100\n",
      "104/104 [==============================] - 2s 15ms/step - loss: 0.0011 - val_loss: 7.2856e-04\n",
      "Epoch 69/100\n",
      "104/104 [==============================] - 2s 15ms/step - loss: 0.0012 - val_loss: 7.9419e-04\n",
      "Epoch 70/100\n",
      "104/104 [==============================] - 2s 15ms/step - loss: 0.0011 - val_loss: 7.4130e-04\n",
      "Epoch 71/100\n",
      "104/104 [==============================] - 2s 15ms/step - loss: 0.0011 - val_loss: 7.4029e-04\n",
      "Epoch 72/100\n",
      "104/104 [==============================] - 2s 15ms/step - loss: 0.0012 - val_loss: 7.4514e-04\n",
      "Epoch 73/100\n",
      "104/104 [==============================] - 2s 15ms/step - loss: 0.0012 - val_loss: 7.8467e-04\n",
      "Epoch 74/100\n",
      "104/104 [==============================] - 2s 15ms/step - loss: 0.0011 - val_loss: 8.0713e-04\n",
      "Epoch 75/100\n",
      "104/104 [==============================] - 2s 15ms/step - loss: 0.0011 - val_loss: 7.8191e-04\n",
      "Epoch 76/100\n",
      "104/104 [==============================] - 2s 15ms/step - loss: 0.0012 - val_loss: 7.8858e-04\n",
      "Epoch 77/100\n",
      "104/104 [==============================] - 2s 15ms/step - loss: 0.0011 - val_loss: 8.1117e-04\n"
     ]
    },
    {
     "name": "stdout",
     "output_type": "stream",
     "text": [
      "Epoch 78/100\n",
      "104/104 [==============================] - 2s 15ms/step - loss: 0.0011 - val_loss: 7.7573e-04A: 0s - lo\n",
      "Epoch 79/100\n",
      "104/104 [==============================] - 2s 15ms/step - loss: 0.0011 - val_loss: 7.6922e-04\n",
      "Epoch 80/100\n",
      "104/104 [==============================] - 2s 15ms/step - loss: 0.0012 - val_loss: 7.4433e-04\n",
      "Epoch 81/100\n",
      "104/104 [==============================] - 2s 15ms/step - loss: 0.0011 - val_loss: 7.5570e-04A: 0s \n",
      "Epoch 82/100\n",
      "104/104 [==============================] - 2s 15ms/step - loss: 0.0011 - val_loss: 0.0010\n",
      "Epoch 83/100\n",
      "104/104 [==============================] - 2s 15ms/step - loss: 0.0012 - val_loss: 7.5066e-04\n",
      "Epoch 84/100\n",
      "104/104 [==============================] - 2s 15ms/step - loss: 0.0011 - val_loss: 7.7443e-04\n",
      "Epoch 85/100\n",
      "104/104 [==============================] - 2s 15ms/step - loss: 0.0011 - val_loss: 8.0732e-04\n",
      "Epoch 86/100\n",
      "104/104 [==============================] - 2s 15ms/step - loss: 0.0011 - val_loss: 7.2487e-04\n",
      "Epoch 87/100\n",
      "104/104 [==============================] - 2s 15ms/step - loss: 0.0011 - val_loss: 7.8252e-04\n",
      "Epoch 88/100\n",
      "104/104 [==============================] - 2s 15ms/step - loss: 0.0011 - val_loss: 7.2785e-04\n",
      "Epoch 89/100\n",
      "104/104 [==============================] - 2s 15ms/step - loss: 0.0012 - val_loss: 7.4225e-04\n",
      "Epoch 90/100\n",
      "104/104 [==============================] - 2s 15ms/step - loss: 0.0011 - val_loss: 7.7419e-04\n",
      "Epoch 91/100\n",
      "104/104 [==============================] - 2s 15ms/step - loss: 0.0011 - val_loss: 7.3063e-04\n",
      "Epoch 92/100\n",
      "104/104 [==============================] - 2s 15ms/step - loss: 0.0011 - val_loss: 7.3840e-04\n",
      "Epoch 93/100\n",
      "104/104 [==============================] - 2s 15ms/step - loss: 0.0011 - val_loss: 7.8321e-04\n",
      "Epoch 94/100\n",
      "104/104 [==============================] - 2s 15ms/step - loss: 0.0011 - val_loss: 7.4080e-04\n",
      "Epoch 95/100\n",
      "104/104 [==============================] - 2s 15ms/step - loss: 0.0011 - val_loss: 7.8390e-04\n",
      "Epoch 96/100\n",
      "104/104 [==============================] - 2s 15ms/step - loss: 0.0011 - val_loss: 7.7850e-04\n",
      "Epoch 97/100\n",
      "104/104 [==============================] - 2s 15ms/step - loss: 0.0011 - val_loss: 8.8166e-04\n",
      "Epoch 98/100\n",
      "104/104 [==============================] - 2s 15ms/step - loss: 0.0012 - val_loss: 0.0011\n",
      "Epoch 99/100\n",
      "104/104 [==============================] - 2s 15ms/step - loss: 0.0011 - val_loss: 7.4891e-04\n",
      "Epoch 100/100\n",
      "104/104 [==============================] - 2s 15ms/step - loss: 0.0011 - val_loss: 7.3406e-04A: 0s - loss: 0.\n"
     ]
    },
    {
     "data": {
      "text/plain": [
       "<tensorflow.python.keras.callbacks.History at 0x28b8dfaf100>"
      ]
     },
     "execution_count": 48,
     "metadata": {},
     "output_type": "execute_result"
    }
   ],
   "source": [
    "model.fit(X_train,y_train,validation_data=(X_test,ytest),epochs=100,batch_size=64,verbose=1)"
   ]
  },
  {
   "cell_type": "code",
   "execution_count": null,
   "id": "9084a2ac",
   "metadata": {},
   "outputs": [],
   "source": []
  },
  {
   "cell_type": "code",
   "execution_count": null,
   "id": "1a55f270",
   "metadata": {},
   "outputs": [],
   "source": []
  },
  {
   "cell_type": "code",
   "execution_count": 50,
   "id": "f2dcaf9c",
   "metadata": {},
   "outputs": [],
   "source": [
    "### Lets Do the prediction and check performance metrics\n",
    "train_predict=model.predict(X_train)\n",
    "test_predict=model.predict(X_test)"
   ]
  },
  {
   "cell_type": "code",
   "execution_count": 52,
   "id": "8c33203a",
   "metadata": {},
   "outputs": [
    {
     "data": {
      "text/plain": [
       "array([[ 0.12543899],\n",
       "       [-0.00613504],\n",
       "       [-0.00520853],\n",
       "       ...,\n",
       "       [ 0.12347881],\n",
       "       [-0.00482598],\n",
       "       [-0.00496304]], dtype=float32)"
      ]
     },
     "execution_count": 52,
     "metadata": {},
     "output_type": "execute_result"
    }
   ],
   "source": [
    "test_predict"
   ]
  },
  {
   "cell_type": "code",
   "execution_count": 51,
   "id": "2c6169c0",
   "metadata": {},
   "outputs": [],
   "source": [
    "#saving the model\n",
    "model.save('my_model.h5')\n"
   ]
  },
  {
   "cell_type": "code",
   "execution_count": 53,
   "id": "455a4e86",
   "metadata": {},
   "outputs": [],
   "source": [
    "model = load_model('my_model.h5')\n"
   ]
  },
  {
   "cell_type": "code",
   "execution_count": 54,
   "id": "f2ee18a1",
   "metadata": {},
   "outputs": [],
   "source": [
    "##Transformback to original form\n",
    "train_predict=scaler.inverse_transform(train_predict)\n",
    "test_predict=scaler.inverse_transform(test_predict)"
   ]
  },
  {
   "cell_type": "code",
   "execution_count": 55,
   "id": "5c33770e",
   "metadata": {},
   "outputs": [
    {
     "data": {
      "text/plain": [
       "array([[ 0.12543899],\n",
       "       [-0.00613504],\n",
       "       [-0.00520853],\n",
       "       ...,\n",
       "       [ 0.12347881],\n",
       "       [-0.00482598],\n",
       "       [-0.00496304]], dtype=float32)"
      ]
     },
     "execution_count": 55,
     "metadata": {},
     "output_type": "execute_result"
    }
   ],
   "source": [
    "test_predict"
   ]
  },
  {
   "cell_type": "code",
   "execution_count": null,
   "id": "879cf72d",
   "metadata": {},
   "outputs": [],
   "source": [
    "### Calculate RMSE performance metrics\n",
    "import math\n",
    "from sklearn.metrics import mean_squared_error\n",
    "math.sqrt(mean_squared_error(y_train,train_predict))"
   ]
  },
  {
   "cell_type": "code",
   "execution_count": null,
   "id": "fdf46dca",
   "metadata": {},
   "outputs": [],
   "source": [
    "\n",
    "### Test Data RMSE\n",
    "math.sqrt(mean_squared_error(ytest,test_predict))"
   ]
  },
  {
   "cell_type": "code",
   "execution_count": null,
   "id": "ace91f2b",
   "metadata": {},
   "outputs": [],
   "source": [
    "### Plotting \n",
    "# shift train predictions for plotting\n",
    "look_back=100\n",
    "trainPredictPlot = numpy.empty_like(final_df)\n",
    "trainPredictPlot[:, :] = np.nan\n",
    "trainPredictPlot[look_back:len(train_predict)+look_back, :] = train_predict\n",
    "# shift test predictions for plotting\n",
    "testPredictPlot = numpy.empty_like(final_df)\n",
    "testPredictPlot[:, :] = numpy.nan\n",
    "testPredictPlot[len(train_predict)+(look_back*2)+1:len(final_df)-1, :] = test_predict\n",
    "# plot baseline and predictions\n",
    "plt.plot(scaler.inverse_transform(final_df))\n",
    "plt.plot(trainPredictPlot)\n",
    "plt.plot(testPredictPlot)\n",
    "plt.show()"
   ]
  },
  {
   "cell_type": "code",
   "execution_count": null,
   "id": "fda3e2be",
   "metadata": {},
   "outputs": [],
   "source": [
    "len(test_data)\n"
   ]
  },
  {
   "cell_type": "code",
   "execution_count": null,
   "id": "2f2728c0",
   "metadata": {},
   "outputs": [],
   "source": [
    "x_input=test_data[341:].reshape(1,-1)\n",
    "x_input.shape"
   ]
  },
  {
   "cell_type": "code",
   "execution_count": null,
   "id": "7fbbb078",
   "metadata": {},
   "outputs": [],
   "source": [
    "temp_input=list(x_input)\n",
    "temp_input=temp_input[0].tolist()"
   ]
  },
  {
   "cell_type": "code",
   "execution_count": null,
   "id": "9b5f365d",
   "metadata": {},
   "outputs": [],
   "source": [
    "temp_input\n"
   ]
  },
  {
   "cell_type": "code",
   "execution_count": null,
   "id": "26015193",
   "metadata": {
    "scrolled": true
   },
   "outputs": [],
   "source": [
    "# demonstrate prediction for next 10 days\n",
    "from numpy import array\n",
    "\n",
    "lst_output=[]\n",
    "n_steps=100\n",
    "i=0\n",
    "while(i<30):\n",
    "    \n",
    "    if(len(temp_input)>100):\n",
    "        #print(temp_input)\n",
    "        x_input=np.array(temp_input[1:])\n",
    "        print(\"{} day input {}\".format(i,x_input))\n",
    "        x_input=x_input.reshape(1,-1)\n",
    "        x_input = x_input.reshape((1, n_steps, 1))\n",
    "        #print(x_input)\n",
    "        yhat = model.predict(x_input, verbose=0)\n",
    "        print(\"{} day output {}\".format(i,yhat))\n",
    "        temp_input.extend(yhat[0].tolist())\n",
    "        temp_input=temp_input[1:]\n",
    "        #print(temp_input)\n",
    "        lst_output.extend(yhat.tolist())\n",
    "        i=i+1\n",
    "    else:\n",
    "        x_input = x_input.reshape((1, n_steps,1))\n",
    "        yhat = model.predict(x_input, verbose=0)\n",
    "        print(yhat[0])\n",
    "        temp_input.extend(yhat[0].tolist())\n",
    "        print(len(temp_input))\n",
    "        lst_output.extend(yhat.tolist())\n",
    "        i=i+1\n",
    "    \n",
    "\n",
    "print(lst_output)"
   ]
  },
  {
   "cell_type": "code",
   "execution_count": null,
   "id": "bbe848b8",
   "metadata": {},
   "outputs": [],
   "source": [
    "day_new=np.arange(1,101)\n",
    "day_pred=np.arange(101,131)"
   ]
  },
  {
   "cell_type": "code",
   "execution_count": null,
   "id": "f2273dc7",
   "metadata": {},
   "outputs": [],
   "source": [
    "len(final_df)\n"
   ]
  },
  {
   "cell_type": "code",
   "execution_count": null,
   "id": "ac228f5f",
   "metadata": {},
   "outputs": [],
   "source": [
    "plt.plot(day_new,scaler.inverse_transform(df[2416:]))\n",
    "plt.plot(day_pred,scaler.inverse_transform(lst_output))\n"
   ]
  },
  {
   "cell_type": "code",
   "execution_count": null,
   "id": "c29208a9",
   "metadata": {},
   "outputs": [],
   "source": [
    "df3=df.tolist()\n",
    "df3.extend(lst_output)\n",
    "plt.plot(df3[1200:]"
   ]
  },
  {
   "cell_type": "code",
   "execution_count": null,
   "id": "17dfc5d3",
   "metadata": {},
   "outputs": [],
   "source": []
  }
 ],
 "metadata": {
  "kernelspec": {
   "display_name": "Python 3 (ipykernel)",
   "language": "python",
   "name": "python3"
  },
  "language_info": {
   "codemirror_mode": {
    "name": "ipython",
    "version": 3
   },
   "file_extension": ".py",
   "mimetype": "text/x-python",
   "name": "python",
   "nbconvert_exporter": "python",
   "pygments_lexer": "ipython3",
   "version": "3.8.0"
  }
 },
 "nbformat": 4,
 "nbformat_minor": 5
}