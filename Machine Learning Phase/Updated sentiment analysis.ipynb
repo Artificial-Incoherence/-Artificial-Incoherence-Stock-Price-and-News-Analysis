{
 "cells": [
  {
   "cell_type": "code",
   "execution_count": 1,
   "id": "ad20ca45",
   "metadata": {},
   "outputs": [],
   "source": [
    "import pandas as pd\n",
    "import nltk\n",
    "import matplotlib.pyplot as plt\n",
    "import seaborn as sns\n",
    "\n",
    "import re\n",
    "from textblob import TextBlob\n",
    "\n",
    "from nltk.stem import PorterStemmer\n",
    "\n",
    "from tqdm import tqdm\n",
    "from bs4 import BeautifulSoup\n",
    "from sklearn.model_selection import train_test_split"
   ]
  },
  {
   "cell_type": "code",
   "execution_count": 2,
   "id": "23cebe73",
   "metadata": {},
   "outputs": [
    {
     "name": "stdout",
     "output_type": "stream",
     "text": [
      "365 366 365 365 364 366 174\n",
      "Total Rows in dataframe: 2365\n"
     ]
    }
   ],
   "source": [
    "data1 = pd.read_csv(\"Datasets of Stocks Market and Stock News Articles\\Datasets of Stocks Market and Stock News Articles\\Stocks News Articles Datasets\\Headlines_2015.csv\")\n",
    "data2 = pd.read_csv(\"Datasets of Stocks Market and Stock News Articles\\Datasets of Stocks Market and Stock News Articles\\Stocks News Articles Datasets\\Headlines_2016.csv\")\n",
    "data3 = pd.read_csv(\"Datasets of Stocks Market and Stock News Articles\\Datasets of Stocks Market and Stock News Articles\\Stocks News Articles Datasets\\Headlines_2017.csv\")\n",
    "data4 = pd.read_csv(\"Datasets of Stocks Market and Stock News Articles\\Datasets of Stocks Market and Stock News Articles\\Stocks News Articles Datasets\\Headlines_2018.csv\")\n",
    "data5 = pd.read_csv(\"Datasets of Stocks Market and Stock News Articles\\Datasets of Stocks Market and Stock News Articles\\Stocks News Articles Datasets\\Headlines_2019.csv\")\n",
    "data6 = pd.read_csv(\"Datasets of Stocks Market and Stock News Articles\\Datasets of Stocks Market and Stock News Articles\\Stocks News Articles Datasets\\Headlines_2020.csv\")\n",
    "data7 = pd.read_csv(\"Datasets of Stocks Market and Stock News Articles\\Datasets of Stocks Market and Stock News Articles\\Stocks News Articles Datasets\\Headlines_2021.csv\")\n",
    "\n",
    "df = pd.concat([data1, data2, data3, data4, data5, data6, data7])\n",
    "print(len(data1), len(data2), len(data3),len(data4), len(data5), len(data6),len(data7))\n",
    "print(\"Total Rows in dataframe:\", len(df))"
   ]
  },
  {
   "cell_type": "code",
   "execution_count": 3,
   "id": "849d9e1b",
   "metadata": {},
   "outputs": [
    {
     "name": "stdout",
     "output_type": "stream",
     "text": [
      "==================================================\n",
      "                       Date                                          Headlines\n",
      "count                  2342                                               2342\n",
      "unique                 2335                                               2332\n",
      "top     2019-11-20 00:00:00  MasterCard is expanding its mobile wallet in S...\n",
      "freq                      2                                                  3\n",
      "first   2015-01-01 00:00:00                                                NaN\n",
      "last    2021-06-23 00:00:00                                                NaN\n",
      "==================================================\n",
      "<class 'pandas.core.frame.DataFrame'>\n",
      "Int64Index: 2342 entries, 0 to 173\n",
      "Data columns (total 2 columns):\n",
      " #   Column     Non-Null Count  Dtype         \n",
      "---  ------     --------------  -----         \n",
      " 0   Date       2342 non-null   datetime64[ns]\n",
      " 1   Headlines  2342 non-null   object        \n",
      "dtypes: datetime64[ns](1), object(1)\n",
      "memory usage: 54.9+ KB\n",
      "==================================================\n",
      "(2342, 2)\n",
      "==================================================\n",
      "      Date  Headlines\n",
      "0    False      False\n",
      "1    False      False\n",
      "2    False      False\n",
      "3    False      False\n",
      "4    False      False\n",
      "..     ...        ...\n",
      "169  False      False\n",
      "170  False      False\n",
      "171  False      False\n",
      "172  False      False\n",
      "173  False      False\n",
      "\n",
      "[2342 rows x 2 columns]\n"
     ]
    },
    {
     "name": "stderr",
     "output_type": "stream",
     "text": [
      "C:\\Users\\TIRTHA~1\\AppData\\Local\\Temp/ipykernel_10008/3691795878.py:7: FutureWarning: Treating datetime data as categorical rather than numeric in `.describe` is deprecated and will be removed in a future version of pandas. Specify `datetime_is_numeric=True` to silence this warning and adopt the future behavior now.\n",
      "  print(df.describe())\n"
     ]
    }
   ],
   "source": [
    "df.head()\n",
    "print(\"=\"*50)\n",
    "\n",
    "df = df.drop_duplicates()\n",
    "\n",
    "df['Date'] = pd.to_datetime(df['Date'])\n",
    "print(df.describe())\n",
    "print(\"=\"*50)\n",
    "df.info()\n",
    "print(\"=\"*50)\n",
    "print(df.shape)\n",
    "print(\"=\"*50)\n",
    "print(df.isnull())"
   ]
  },
  {
   "cell_type": "code",
   "execution_count": 4,
   "id": "9467f522",
   "metadata": {},
   "outputs": [
    {
     "data": {
      "text/html": [
       "<div>\n",
       "<style scoped>\n",
       "    .dataframe tbody tr th:only-of-type {\n",
       "        vertical-align: middle;\n",
       "    }\n",
       "\n",
       "    .dataframe tbody tr th {\n",
       "        vertical-align: top;\n",
       "    }\n",
       "\n",
       "    .dataframe thead th {\n",
       "        text-align: right;\n",
       "    }\n",
       "</style>\n",
       "<table border=\"1\" class=\"dataframe\">\n",
       "  <thead>\n",
       "    <tr style=\"text-align: right;\">\n",
       "      <th></th>\n",
       "      <th>Date</th>\n",
       "      <th>Headlines</th>\n",
       "      <th>Subjectivity</th>\n",
       "      <th>Polarity</th>\n",
       "    </tr>\n",
       "  </thead>\n",
       "  <tbody>\n",
       "    <tr>\n",
       "      <th>0</th>\n",
       "      <td>2015-01-01</td>\n",
       "      <td>What Can We Expect From Apple Inc. In 2015? 1 ...</td>\n",
       "      <td>0.621789</td>\n",
       "      <td>0.166775</td>\n",
       "    </tr>\n",
       "    <tr>\n",
       "      <th>1</th>\n",
       "      <td>2015-01-02</td>\n",
       "      <td>What to expect from Apple in 2015 beyond its s...</td>\n",
       "      <td>0.539970</td>\n",
       "      <td>0.144614</td>\n",
       "    </tr>\n",
       "    <tr>\n",
       "      <th>2</th>\n",
       "      <td>2015-01-03</td>\n",
       "      <td>Mountie: An inexpensive and innovative way to ...</td>\n",
       "      <td>0.593317</td>\n",
       "      <td>0.202787</td>\n",
       "    </tr>\n",
       "    <tr>\n",
       "      <th>3</th>\n",
       "      <td>2015-01-04</td>\n",
       "      <td>Donald Yacktman on the Sources of Moats, His C...</td>\n",
       "      <td>0.504270</td>\n",
       "      <td>0.150826</td>\n",
       "    </tr>\n",
       "    <tr>\n",
       "      <th>4</th>\n",
       "      <td>2015-01-05</td>\n",
       "      <td>SIM-free iPhone 6, 6 Plus reportedly debuting ...</td>\n",
       "      <td>0.442675</td>\n",
       "      <td>0.144078</td>\n",
       "    </tr>\n",
       "  </tbody>\n",
       "</table>\n",
       "</div>"
      ],
      "text/plain": [
       "        Date                                          Headlines  Subjectivity  \\\n",
       "0 2015-01-01  What Can We Expect From Apple Inc. In 2015? 1 ...      0.621789   \n",
       "1 2015-01-02  What to expect from Apple in 2015 beyond its s...      0.539970   \n",
       "2 2015-01-03  Mountie: An inexpensive and innovative way to ...      0.593317   \n",
       "3 2015-01-04  Donald Yacktman on the Sources of Moats, His C...      0.504270   \n",
       "4 2015-01-05  SIM-free iPhone 6, 6 Plus reportedly debuting ...      0.442675   \n",
       "\n",
       "   Polarity  \n",
       "0  0.166775  \n",
       "1  0.144614  \n",
       "2  0.202787  \n",
       "3  0.150826  \n",
       "4  0.144078  "
      ]
     },
     "execution_count": 4,
     "metadata": {},
     "output_type": "execute_result"
    }
   ],
   "source": [
    "#Create a function to get subjectivity\n",
    "\n",
    "def getSubjectivity(df):\n",
    "    return TextBlob(df).sentiment.subjectivity\n",
    "\n",
    "#create a function to get the polarity\n",
    "\n",
    "def getPolarity(df):\n",
    "    return TextBlob(df).sentiment.polarity\n",
    "\n",
    "#create two new solumns called \"Subjectivity\" & \"Polarity\"\n",
    "\n",
    "df['Subjectivity'] = df['Headlines'].apply(getSubjectivity)\n",
    "df['Polarity'] = df['Headlines'].apply(getPolarity)\n",
    "\n",
    "#show the data\"\n",
    "df.head()"
   ]
  },
  {
   "cell_type": "code",
   "execution_count": 5,
   "id": "e078a610",
   "metadata": {},
   "outputs": [],
   "source": [
    "#create a function o get the text sentiment\n",
    "\n",
    "def getSentiment(score):\n",
    "    if score < 0:\n",
    "        return 'Negative'\n",
    "    elif score == 0:\n",
    "        return 'neutral'\n",
    "    else:\n",
    "        return 'Positve'"
   ]
  },
  {
   "cell_type": "code",
   "execution_count": 6,
   "id": "42289272",
   "metadata": {},
   "outputs": [
    {
     "data": {
      "text/html": [
       "<div>\n",
       "<style scoped>\n",
       "    .dataframe tbody tr th:only-of-type {\n",
       "        vertical-align: middle;\n",
       "    }\n",
       "\n",
       "    .dataframe tbody tr th {\n",
       "        vertical-align: top;\n",
       "    }\n",
       "\n",
       "    .dataframe thead th {\n",
       "        text-align: right;\n",
       "    }\n",
       "</style>\n",
       "<table border=\"1\" class=\"dataframe\">\n",
       "  <thead>\n",
       "    <tr style=\"text-align: right;\">\n",
       "      <th></th>\n",
       "      <th>Date</th>\n",
       "      <th>Headlines</th>\n",
       "      <th>Subjectivity</th>\n",
       "      <th>Polarity</th>\n",
       "      <th>Sentiment</th>\n",
       "    </tr>\n",
       "  </thead>\n",
       "  <tbody>\n",
       "    <tr>\n",
       "      <th>0</th>\n",
       "      <td>2015-01-01</td>\n",
       "      <td>What Can We Expect From Apple Inc. In 2015? 1 ...</td>\n",
       "      <td>0.621789</td>\n",
       "      <td>0.166775</td>\n",
       "      <td>Positve</td>\n",
       "    </tr>\n",
       "    <tr>\n",
       "      <th>1</th>\n",
       "      <td>2015-01-02</td>\n",
       "      <td>What to expect from Apple in 2015 beyond its s...</td>\n",
       "      <td>0.539970</td>\n",
       "      <td>0.144614</td>\n",
       "      <td>Positve</td>\n",
       "    </tr>\n",
       "    <tr>\n",
       "      <th>2</th>\n",
       "      <td>2015-01-03</td>\n",
       "      <td>Mountie: An inexpensive and innovative way to ...</td>\n",
       "      <td>0.593317</td>\n",
       "      <td>0.202787</td>\n",
       "      <td>Positve</td>\n",
       "    </tr>\n",
       "    <tr>\n",
       "      <th>3</th>\n",
       "      <td>2015-01-04</td>\n",
       "      <td>Donald Yacktman on the Sources of Moats, His C...</td>\n",
       "      <td>0.504270</td>\n",
       "      <td>0.150826</td>\n",
       "      <td>Positve</td>\n",
       "    </tr>\n",
       "    <tr>\n",
       "      <th>4</th>\n",
       "      <td>2015-01-05</td>\n",
       "      <td>SIM-free iPhone 6, 6 Plus reportedly debuting ...</td>\n",
       "      <td>0.442675</td>\n",
       "      <td>0.144078</td>\n",
       "      <td>Positve</td>\n",
       "    </tr>\n",
       "  </tbody>\n",
       "</table>\n",
       "</div>"
      ],
      "text/plain": [
       "        Date                                          Headlines  Subjectivity  \\\n",
       "0 2015-01-01  What Can We Expect From Apple Inc. In 2015? 1 ...      0.621789   \n",
       "1 2015-01-02  What to expect from Apple in 2015 beyond its s...      0.539970   \n",
       "2 2015-01-03  Mountie: An inexpensive and innovative way to ...      0.593317   \n",
       "3 2015-01-04  Donald Yacktman on the Sources of Moats, His C...      0.504270   \n",
       "4 2015-01-05  SIM-free iPhone 6, 6 Plus reportedly debuting ...      0.442675   \n",
       "\n",
       "   Polarity Sentiment  \n",
       "0  0.166775   Positve  \n",
       "1  0.144614   Positve  \n",
       "2  0.202787   Positve  \n",
       "3  0.150826   Positve  \n",
       "4  0.144078   Positve  "
      ]
     },
     "execution_count": 6,
     "metadata": {},
     "output_type": "execute_result"
    }
   ],
   "source": [
    "#create a column to store the text sentiments\n",
    "\n",
    "df['Sentiment'] = df['Polarity'].apply(getSentiment)\n",
    "\n",
    "#show the data\n",
    "df.head()"
   ]
  },
  {
   "cell_type": "code",
   "execution_count": 7,
   "id": "bece3ef2",
   "metadata": {},
   "outputs": [
    {
     "data": {
      "text/plain": [
       "Positve     2181\n",
       "Negative     131\n",
       "neutral       30\n",
       "Name: Sentiment, dtype: int64"
      ]
     },
     "execution_count": 7,
     "metadata": {},
     "output_type": "execute_result"
    }
   ],
   "source": [
    "df.Sentiment.value_counts()"
   ]
  },
  {
   "cell_type": "code",
   "execution_count": 8,
   "id": "1bf62aa0",
   "metadata": {},
   "outputs": [
    {
     "data": {
      "text/plain": [
       "<AxesSubplot:title={'center':'Sentiment Analysis'}, xlabel='Sentiment', ylabel='Counts'>"
      ]
     },
     "execution_count": 8,
     "metadata": {},
     "output_type": "execute_result"
    },
    {
     "data": {
      "image/png": "[encoded data removed]",
      "text/plain": [
       "<Figure size 432x288 with 1 Axes>"
      ]
     },
     "metadata": {
      "needs_background": "light"
     },
     "output_type": "display_data"
    }
   ],
   "source": [
    "df['Sentiment'].value_counts()\n",
    "\n",
    "#plot & visualize the counts\n",
    "\n",
    "plt.title('Sentiment Analysis')\n",
    "plt.xlabel('Sentiment')\n",
    "plt.ylabel('Counts')\n",
    "df['Sentiment'].value_counts().plot(kind='bar')"
   ]
  },
  {
   "cell_type": "code",
   "execution_count": 9,
   "id": "9d964c24",
   "metadata": {},
   "outputs": [
    {
     "data": {
      "text/html": [
       "<div>\n",
       "<style scoped>\n",
       "    .dataframe tbody tr th:only-of-type {\n",
       "        vertical-align: middle;\n",
       "    }\n",
       "\n",
       "    .dataframe tbody tr th {\n",
       "        vertical-align: top;\n",
       "    }\n",
       "\n",
       "    .dataframe thead th {\n",
       "        text-align: right;\n",
       "    }\n",
       "</style>\n",
       "<table border=\"1\" class=\"dataframe\">\n",
       "  <thead>\n",
       "    <tr style=\"text-align: right;\">\n",
       "      <th></th>\n",
       "      <th>Date</th>\n",
       "      <th>Headlines</th>\n",
       "      <th>Subjectivity</th>\n",
       "      <th>Polarity</th>\n",
       "      <th>Sentiment</th>\n",
       "    </tr>\n",
       "  </thead>\n",
       "  <tbody>\n",
       "    <tr>\n",
       "      <th>0</th>\n",
       "      <td>2015-01-01</td>\n",
       "      <td>What Can We Expect From Apple Inc. In 2015? 1 ...</td>\n",
       "      <td>0.621789</td>\n",
       "      <td>0.166775</td>\n",
       "      <td>1</td>\n",
       "    </tr>\n",
       "    <tr>\n",
       "      <th>1</th>\n",
       "      <td>2015-01-02</td>\n",
       "      <td>What to expect from Apple in 2015 beyond its s...</td>\n",
       "      <td>0.539970</td>\n",
       "      <td>0.144614</td>\n",
       "      <td>1</td>\n",
       "    </tr>\n",
       "    <tr>\n",
       "      <th>2</th>\n",
       "      <td>2015-01-03</td>\n",
       "      <td>Mountie: An inexpensive and innovative way to ...</td>\n",
       "      <td>0.593317</td>\n",
       "      <td>0.202787</td>\n",
       "      <td>1</td>\n",
       "    </tr>\n",
       "    <tr>\n",
       "      <th>3</th>\n",
       "      <td>2015-01-04</td>\n",
       "      <td>Donald Yacktman on the Sources of Moats, His C...</td>\n",
       "      <td>0.504270</td>\n",
       "      <td>0.150826</td>\n",
       "      <td>1</td>\n",
       "    </tr>\n",
       "    <tr>\n",
       "      <th>4</th>\n",
       "      <td>2015-01-05</td>\n",
       "      <td>SIM-free iPhone 6, 6 Plus reportedly debuting ...</td>\n",
       "      <td>0.442675</td>\n",
       "      <td>0.144078</td>\n",
       "      <td>1</td>\n",
       "    </tr>\n",
       "    <tr>\n",
       "      <th>...</th>\n",
       "      <td>...</td>\n",
       "      <td>...</td>\n",
       "      <td>...</td>\n",
       "      <td>...</td>\n",
       "      <td>...</td>\n",
       "    </tr>\n",
       "    <tr>\n",
       "      <th>169</th>\n",
       "      <td>2021-06-19</td>\n",
       "      <td>Best pre-Prime Day smartwatch deals on Apple W...</td>\n",
       "      <td>0.387974</td>\n",
       "      <td>0.198459</td>\n",
       "      <td>1</td>\n",
       "    </tr>\n",
       "    <tr>\n",
       "      <th>170</th>\n",
       "      <td>2021-06-20</td>\n",
       "      <td>iPhone 13 rumors: As Apple's fall event gets c...</td>\n",
       "      <td>0.363249</td>\n",
       "      <td>0.443894</td>\n",
       "      <td>1</td>\n",
       "    </tr>\n",
       "    <tr>\n",
       "      <th>171</th>\n",
       "      <td>2021-06-21</td>\n",
       "      <td>Apple is shortening new free TV Plus trials fr...</td>\n",
       "      <td>0.380244</td>\n",
       "      <td>0.319115</td>\n",
       "      <td>1</td>\n",
       "    </tr>\n",
       "    <tr>\n",
       "      <th>172</th>\n",
       "      <td>2021-06-22</td>\n",
       "      <td>Google likely to soon face antitrust claims ov...</td>\n",
       "      <td>0.493334</td>\n",
       "      <td>0.346898</td>\n",
       "      <td>1</td>\n",
       "    </tr>\n",
       "    <tr>\n",
       "      <th>173</th>\n",
       "      <td>2021-06-23</td>\n",
       "      <td>French court sets date in Apple case over App ...</td>\n",
       "      <td>0.388526</td>\n",
       "      <td>0.202604</td>\n",
       "      <td>1</td>\n",
       "    </tr>\n",
       "  </tbody>\n",
       "</table>\n",
       "<p>2342 rows × 5 columns</p>\n",
       "</div>"
      ],
      "text/plain": [
       "          Date                                          Headlines  \\\n",
       "0   2015-01-01  What Can We Expect From Apple Inc. In 2015? 1 ...   \n",
       "1   2015-01-02  What to expect from Apple in 2015 beyond its s...   \n",
       "2   2015-01-03  Mountie: An inexpensive and innovative way to ...   \n",
       "3   2015-01-04  Donald Yacktman on the Sources of Moats, His C...   \n",
       "4   2015-01-05  SIM-free iPhone 6, 6 Plus reportedly debuting ...   \n",
       "..         ...                                                ...   \n",
       "169 2021-06-19  Best pre-Prime Day smartwatch deals on Apple W...   \n",
       "170 2021-06-20  iPhone 13 rumors: As Apple's fall event gets c...   \n",
       "171 2021-06-21  Apple is shortening new free TV Plus trials fr...   \n",
       "172 2021-06-22  Google likely to soon face antitrust claims ov...   \n",
       "173 2021-06-23  French court sets date in Apple case over App ...   \n",
       "\n",
       "     Subjectivity  Polarity  Sentiment  \n",
       "0        0.621789  0.166775          1  \n",
       "1        0.539970  0.144614          1  \n",
       "2        0.593317  0.202787          1  \n",
       "3        0.504270  0.150826          1  \n",
       "4        0.442675  0.144078          1  \n",
       "..            ...       ...        ...  \n",
       "169      0.387974  0.198459          1  \n",
       "170      0.363249  0.443894          1  \n",
       "171      0.380244  0.319115          1  \n",
       "172      0.493334  0.346898          1  \n",
       "173      0.388526  0.202604          1  \n",
       "\n",
       "[2342 rows x 5 columns]"
      ]
     },
     "execution_count": 9,
     "metadata": {},
     "output_type": "execute_result"
    }
   ],
   "source": [
    "#We also want sentiment column to be numerical so we will use Label Encoder \n",
    "from sklearn.preprocessing import LabelEncoder\n",
    "ayn = LabelEncoder()\n",
    "df['Sentiment'] = ayn.fit_transform(df['Sentiment'])\n",
    "df"
   ]
  },
  {
   "cell_type": "code",
   "execution_count": 10,
   "id": "c04e2a86",
   "metadata": {},
   "outputs": [],
   "source": [
    "data = df[['Headlines', 'Sentiment']]"
   ]
  },
  {
   "cell_type": "code",
   "execution_count": 11,
   "id": "18714c2a",
   "metadata": {},
   "outputs": [],
   "source": [
    "def decontracted(phrase):\n",
    "    # specific\n",
    "    phrase = re.sub(r\"won't\", \"will not\", phrase)\n",
    "    phrase = re.sub(r\"can\\'t\", \"can not\", phrase)\n",
    "\n",
    "    # general\n",
    "    phrase = re.sub(r\"n\\'t\", \" not\", phrase)\n",
    "    phrase = re.sub(r\"\\'re\", \" are\", phrase)\n",
    "    phrase = re.sub(r\"\\'s\", \" is\", phrase)\n",
    "    phrase = re.sub(r\"\\'d\", \" would\", phrase)\n",
    "    phrase = re.sub(r\"\\'ll\", \" will\", phrase)\n",
    "    phrase = re.sub(r\"\\'t\", \" not\", phrase)\n",
    "    phrase = re.sub(r\"\\'ve\", \" have\", phrase)\n",
    "    phrase = re.sub(r\"\\'m\", \" am\", phrase)\n",
    "    return phrase"
   ]
  },
  {
   "cell_type": "code",
   "execution_count": 12,
   "id": "570954b5",
   "metadata": {},
   "outputs": [
    {
     "name": "stderr",
     "output_type": "stream",
     "text": [
      "100%|██████████████████████████████████████████████████████████████████████████████| 2342/2342 [05:24<00:00,  7.22it/s]\n"
     ]
    }
   ],
   "source": [
    "from nltk.corpus import stopwords\n",
    "ps = PorterStemmer()\n",
    "\n",
    "preprocessed_headlines = []\n",
    "# tqdm is for printing the status bar\n",
    "for sentance in tqdm(df['Headlines'].values):\n",
    "    sentance = re.sub(r\"http\\S+\", \"\", sentance)\n",
    "    sentance = BeautifulSoup(sentance, 'lxml').get_text()\n",
    "    sentance = decontracted(sentance)\n",
    "    sentance = re.sub(\"\\S*\\d\\S*\", \"\", sentance).strip()\n",
    "    sentance = re.sub('[^A-Za-z]+', ' ', sentance)\n",
    "    sentance = sentance.lower()\n",
    "    sentance = [ps.stem(token) for token in nltk.word_tokenize(sentance) if not token in stopwords.words('english')]\n",
    "    sentance = ' '.join(sentance)\n",
    "    preprocessed_headlines.append(sentance.strip())"
   ]
  },
  {
   "cell_type": "code",
   "execution_count": 13,
   "id": "19f3a0f6",
   "metadata": {},
   "outputs": [],
   "source": [
    "df['Headlines']=pd.DataFrame(preprocessed_headlines)\n"
   ]
  },
  {
   "cell_type": "code",
   "execution_count": 14,
   "id": "84395392",
   "metadata": {},
   "outputs": [
    {
     "data": {
      "text/html": [
       "<div>\n",
       "<style scoped>\n",
       "    .dataframe tbody tr th:only-of-type {\n",
       "        vertical-align: middle;\n",
       "    }\n",
       "\n",
       "    .dataframe tbody tr th {\n",
       "        vertical-align: top;\n",
       "    }\n",
       "\n",
       "    .dataframe thead th {\n",
       "        text-align: right;\n",
       "    }\n",
       "</style>\n",
       "<table border=\"1\" class=\"dataframe\">\n",
       "  <thead>\n",
       "    <tr style=\"text-align: right;\">\n",
       "      <th></th>\n",
       "      <th>Date</th>\n",
       "      <th>Headlines</th>\n",
       "      <th>Subjectivity</th>\n",
       "      <th>Polarity</th>\n",
       "      <th>Sentiment</th>\n",
       "    </tr>\n",
       "  </thead>\n",
       "  <tbody>\n",
       "    <tr>\n",
       "      <th>0</th>\n",
       "      <td>2015-01-01</td>\n",
       "      <td>expect appl inc reason might wrong appl inc re...</td>\n",
       "      <td>0.621789</td>\n",
       "      <td>0.166775</td>\n",
       "      <td>1</td>\n",
       "    </tr>\n",
       "    <tr>\n",
       "      <th>1</th>\n",
       "      <td>2015-01-02</td>\n",
       "      <td>expect appl beyond smartwatch amazon latest ki...</td>\n",
       "      <td>0.539970</td>\n",
       "      <td>0.144614</td>\n",
       "      <td>1</td>\n",
       "    </tr>\n",
       "    <tr>\n",
       "      <th>2</th>\n",
       "      <td>2015-01-03</td>\n",
       "      <td>mounti inexpens innov way attach iphon ipad ma...</td>\n",
       "      <td>0.593317</td>\n",
       "      <td>0.202787</td>\n",
       "      <td>1</td>\n",
       "    </tr>\n",
       "    <tr>\n",
       "      <th>3</th>\n",
       "      <td>2015-01-04</td>\n",
       "      <td>donald yacktman sourc moat concern appl strate...</td>\n",
       "      <td>0.504270</td>\n",
       "      <td>0.150826</td>\n",
       "      <td>1</td>\n",
       "    </tr>\n",
       "    <tr>\n",
       "      <th>4</th>\n",
       "      <td>2015-01-05</td>\n",
       "      <td>sim free iphon plu reportedli debut tomorrow l...</td>\n",
       "      <td>0.442675</td>\n",
       "      <td>0.144078</td>\n",
       "      <td>1</td>\n",
       "    </tr>\n",
       "  </tbody>\n",
       "</table>\n",
       "</div>"
      ],
      "text/plain": [
       "        Date                                          Headlines  Subjectivity  \\\n",
       "0 2015-01-01  expect appl inc reason might wrong appl inc re...      0.621789   \n",
       "1 2015-01-02  expect appl beyond smartwatch amazon latest ki...      0.539970   \n",
       "2 2015-01-03  mounti inexpens innov way attach iphon ipad ma...      0.593317   \n",
       "3 2015-01-04  donald yacktman sourc moat concern appl strate...      0.504270   \n",
       "4 2015-01-05  sim free iphon plu reportedli debut tomorrow l...      0.442675   \n",
       "\n",
       "   Polarity  Sentiment  \n",
       "0  0.166775          1  \n",
       "1  0.144614          1  \n",
       "2  0.202787          1  \n",
       "3  0.150826          1  \n",
       "4  0.144078          1  "
      ]
     },
     "execution_count": 14,
     "metadata": {},
     "output_type": "execute_result"
    }
   ],
   "source": [
    "df.head(5)"
   ]
  },
  {
   "cell_type": "code",
   "execution_count": 15,
   "id": "f4c0cbd6",
   "metadata": {},
   "outputs": [
    {
     "name": "stderr",
     "output_type": "stream",
     "text": [
      "c:\\python\\python38\\lib\\site-packages\\seaborn\\_decorators.py:36: FutureWarning: Pass the following variable as a keyword arg: x. From version 0.12, the only valid positional argument will be `data`, and passing other arguments without an explicit keyword will result in an error or misinterpretation.\n",
      "  warnings.warn(\n"
     ]
    },
    {
     "data": {
      "text/plain": [
       "<AxesSubplot:xlabel='Sentiment', ylabel='count'>"
      ]
     },
     "execution_count": 15,
     "metadata": {},
     "output_type": "execute_result"
    },
    {
     "data": {
      "image/png": "[encoded data removed]",
      "text/plain": [
       "<Figure size 432x288 with 1 Axes>"
      ]
     },
     "metadata": {
      "needs_background": "light"
     },
     "output_type": "display_data"
    }
   ],
   "source": [
    "sns.countplot(df['Sentiment'])"
   ]
  },
  {
   "cell_type": "code",
   "execution_count": 16,
   "id": "106f819b",
   "metadata": {},
   "outputs": [
    {
     "data": {
      "text/plain": [
       "<AxesSubplot:title={'center':'Sentiment Analysis'}, xlabel='Sentiment', ylabel='Counts'>"
      ]
     },
     "execution_count": 16,
     "metadata": {},
     "output_type": "execute_result"
    },
    {
     "data": {
      "image/png": "[encoded data removed]",
      "text/plain": [
       "<Figure size 432x288 with 1 Axes>"
      ]
     },
     "metadata": {
      "needs_background": "light"
     },
     "output_type": "display_data"
    }
   ],
   "source": [
    "#for counting \n",
    "df['Sentiment'].value_counts()\n",
    "\n",
    "plt.title('Sentiment Analysis')\n",
    "plt.xlabel('Sentiment')\n",
    "plt.ylabel('Counts')\n",
    "#for counting shown in the graph\n",
    "df['Sentiment'].value_counts().plot(kind='bar')\n"
   ]
  },
  {
   "cell_type": "code",
   "execution_count": 17,
   "id": "4cd68e6f",
   "metadata": {},
   "outputs": [],
   "source": [
    "X = data['Headlines']\n",
    "y = data['Sentiment'] "
   ]
  },
  {
   "cell_type": "code",
   "execution_count": 18,
   "id": "1150dbfd",
   "metadata": {},
   "outputs": [],
   "source": [
    "X_train_data, X_test_data, y_train, y_test = train_test_split(X, y, test_size = 0.2, random_state = 42)"
   ]
  },
  {
   "cell_type": "code",
   "execution_count": 19,
   "id": "8dc8fc13",
   "metadata": {},
   "outputs": [
    {
     "name": "stdout",
     "output_type": "stream",
     "text": [
      "['00', '000', '000ppi', '000s', '001', '002', '003', '004', '006', '007', '008', '009', '01', '01012016', '011', '012', '013', '014', '015', '016']\n",
      "['zs', 'zscaler', 'zte', 'zts', 'zu', 'zuber', 'zuck', 'zuckerberg', 'zuk', 'zulily', 'zumiez', 'zumz', 'zune', 'zuora', 'zurcher', 'zurich', 'zweig', 'zwj', 'zynerba', 'zynga']\n"
     ]
    }
   ],
   "source": [
    "from sklearn.feature_extraction.text import CountVectorizer,TfidfVectorizer\n",
    "count_vector=CountVectorizer(stop_words=\"english\")\n",
    "count_vector.fit(X_train_data)\n",
    "print(count_vector.get_feature_names()[0:20])\n",
    "print(count_vector.get_feature_names()[-20:])\n",
    "X_train=count_vector.transform(X_train_data)\n",
    "X_test=count_vector.transform(X_test_data)"
   ]
  },
  {
   "cell_type": "code",
   "execution_count": 25,
   "id": "77ea7153",
   "metadata": {},
   "outputs": [],
   "source": [
    "import pickle\n",
    "\n",
    "pickle.dump(count_vector, open('count_vector.pkl', 'wb'))"
   ]
  },
  {
   "cell_type": "code",
   "execution_count": 20,
   "id": "d9a28705",
   "metadata": {},
   "outputs": [],
   "source": [
    "from sklearn.model_selection import cross_val_score\n",
    "from sklearn.metrics import plot_confusion_matrix, classification_report, accuracy_score\n",
    "from mlxtend.plotting import plot_decision_regions\n",
    "from sklearn.feature_extraction.text import CountVectorizer\n"
   ]
  },
  {
   "cell_type": "code",
   "execution_count": 21,
   "id": "75cc6fe6",
   "metadata": {},
   "outputs": [
    {
     "data": {
      "text/plain": [
       "['00', '000', '000ppi', '000s', '001', '002', '003', '004', '006', '007']"
      ]
     },
     "execution_count": 21,
     "metadata": {},
     "output_type": "execute_result"
    }
   ],
   "source": [
    "count_vector.get_feature_names()[:10]"
   ]
  },
  {
   "cell_type": "code",
   "execution_count": 22,
   "id": "f9263e65",
   "metadata": {},
   "outputs": [
    {
     "name": "stdout",
     "output_type": "stream",
     "text": [
      "152    0\n",
      "157    1\n",
      "47     1\n",
      "120    1\n",
      "2      1\n",
      "      ..\n",
      "177    1\n",
      "364    1\n",
      "34     1\n",
      "198    1\n",
      "129    1\n",
      "Name: Sentiment, Length: 1873, dtype: int32\n",
      "====================================================================================================\n",
      "  (0, 1)\t4\n",
      "  (0, 21)\t1\n",
      "  (0, 32)\t1\n",
      "  (0, 80)\t1\n",
      "  (0, 101)\t4\n",
      "  (0, 102)\t1\n",
      "  (0, 143)\t2\n",
      "  (0, 166)\t2\n",
      "  (0, 237)\t1\n",
      "  (0, 383)\t1\n",
      "  (0, 608)\t1\n",
      "  (0, 699)\t1\n",
      "  (0, 784)\t2\n",
      "  (0, 833)\t1\n",
      "  (0, 1033)\t1\n",
      "  (0, 1264)\t1\n",
      "  (0, 1325)\t1\n",
      "  (0, 1543)\t1\n",
      "  (0, 1731)\t2\n",
      "  (0, 1734)\t27\n",
      "  (0, 1823)\t2\n",
      "  (0, 1866)\t1\n",
      "  (0, 1934)\t2\n",
      "  (0, 1936)\t1\n",
      "  (0, 2013)\t1\n",
      "  :\t:\n",
      "  (1872, 29119)\t1\n",
      "  (1872, 29206)\t1\n",
      "  (1872, 29226)\t1\n",
      "  (1872, 29237)\t2\n",
      "  (1872, 29299)\t2\n",
      "  (1872, 29351)\t1\n",
      "  (1872, 29386)\t3\n",
      "  (1872, 29666)\t1\n",
      "  (1872, 29691)\t1\n",
      "  (1872, 29759)\t1\n",
      "  (1872, 29777)\t1\n",
      "  (1872, 29783)\t1\n",
      "  (1872, 29846)\t2\n",
      "  (1872, 29943)\t3\n",
      "  (1872, 29956)\t2\n",
      "  (1872, 29965)\t2\n",
      "  (1872, 29993)\t1\n",
      "  (1872, 30061)\t1\n",
      "  (1872, 30095)\t1\n",
      "  (1872, 30166)\t2\n",
      "  (1872, 30197)\t1\n",
      "  (1872, 30210)\t2\n",
      "  (1872, 30286)\t2\n",
      "  (1872, 30367)\t1\n",
      "  (1872, 30407)\t1\n",
      "====================================================================================================\n",
      "====================================================================================================\n",
      "====================================================================================================\n",
      "====================================================================================================\n"
     ]
    }
   ],
   "source": [
    "print(y_train)\n",
    "print(\"==\"*50)\n",
    "print(X_train)\n",
    "print(\"==\"*50)\n",
    "X_train.shape[0]\n",
    "print(\"==\"*50)\n",
    "X_test.shape[0]\n",
    "print(\"==\"*50)\n",
    "df.shape[0]\n",
    "print(\"==\"*50)\n"
   ]
  },
  {
   "cell_type": "code",
   "execution_count": 23,
   "id": "a0e13b9d",
   "metadata": {},
   "outputs": [],
   "source": [
    "from sklearn.naive_bayes import MultinomialNB\n",
    "\n",
    "nb = MultinomialNB()"
   ]
  },
  {
   "cell_type": "code",
   "execution_count": 24,
   "id": "465f0f73",
   "metadata": {},
   "outputs": [
    {
     "data": {
      "text/plain": [
       "MultinomialNB()"
      ]
     },
     "execution_count": 24,
     "metadata": {},
     "output_type": "execute_result"
    }
   ],
   "source": [
    "nb.fit(X_train, y_train)"
   ]
  },
  {
   "cell_type": "code",
   "execution_count": 43,
   "id": "825fdf55",
   "metadata": {},
   "outputs": [
    {
     "name": "stdout",
     "output_type": "stream",
     "text": [
      "(AAPL) Google To Bring iPad Pro-Style Split Screen on Android Tablets Apple Inc. (AAPL) Receives \"AA-\" Credit Rating from Morningstar Apple&quot;s Hedging Advantage Might \n"
     ]
    }
   ],
   "source": [
    "text=str(input())"
   ]
  },
  {
   "cell_type": "code",
   "execution_count": 50,
   "id": "483c82d9",
   "metadata": {},
   "outputs": [
    {
     "name": "stderr",
     "output_type": "stream",
     "text": [
      "c:\\python\\python38\\lib\\site-packages\\bs4\\__init__.py:332: MarkupResemblesLocatorWarning: \".\" looks like a filename, not markup. You should probably open this file and pass the filehandle into Beautiful Soup.\n",
      "  warnings.warn(\n"
     ]
    }
   ],
   "source": [
    "from nltk.corpus import stopwords\n",
    "ps = PorterStemmer()\n",
    "\n",
    "preprocessed_headlines1 = []\n",
    "# tqdm is for printing the status bar\n",
    "for sentance in text:\n",
    "    sentance = re.sub(r\"http\\S+\", \"\", sentance)\n",
    "    sentance = BeautifulSoup(sentance, 'lxml').get_text()\n",
    "    sentance = decontracted(sentance)\n",
    "    sentance = re.sub(\"\\S*\\d\\S*\", \"\", sentance).strip()\n",
    "    sentance = re.sub('[^A-Za-z]+', ' ', sentance)\n",
    "    sentance = sentance.lower()\n",
    "    sentance = [ps.stem(token) for token in nltk.word_tokenize(sentance) if not token in stopwords.words('english')]\n",
    "    sentance = ' '.join(sentance)\n",
    "    preprocessed_headlines1.append(sentance.strip())"
   ]
  },
  {
   "cell_type": "code",
   "execution_count": 51,
   "id": "2bde2bf3",
   "metadata": {},
   "outputs": [
    {
     "data": {
      "text/plain": [
       "['',\n",
       " '',\n",
       " '',\n",
       " 'p',\n",
       " 'l',\n",
       " '',\n",
       " '',\n",
       " 'g',\n",
       " '',\n",
       " '',\n",
       " 'g',\n",
       " 'l',\n",
       " 'e',\n",
       " '',\n",
       " '',\n",
       " '',\n",
       " '',\n",
       " 'b',\n",
       " 'r',\n",
       " '',\n",
       " 'n',\n",
       " 'g',\n",
       " '',\n",
       " '',\n",
       " 'p',\n",
       " '',\n",
       " '',\n",
       " '',\n",
       " 'p',\n",
       " 'r',\n",
       " '',\n",
       " '',\n",
       " '',\n",
       " '',\n",
       " '',\n",
       " 'l',\n",
       " 'e',\n",
       " '',\n",
       " '',\n",
       " 'p',\n",
       " 'l',\n",
       " '',\n",
       " '',\n",
       " '',\n",
       " '',\n",
       " 'c',\n",
       " 'r',\n",
       " 'e',\n",
       " 'e',\n",
       " 'n',\n",
       " '',\n",
       " '',\n",
       " 'n',\n",
       " '',\n",
       " '',\n",
       " 'n',\n",
       " '',\n",
       " 'r',\n",
       " '',\n",
       " '',\n",
       " '',\n",
       " '',\n",
       " '',\n",
       " '',\n",
       " 'b',\n",
       " 'l',\n",
       " 'e',\n",
       " '',\n",
       " '',\n",
       " '',\n",
       " '',\n",
       " 'p',\n",
       " 'p',\n",
       " 'l',\n",
       " 'e',\n",
       " '',\n",
       " '',\n",
       " 'n',\n",
       " 'c',\n",
       " '',\n",
       " '',\n",
       " '',\n",
       " '',\n",
       " '',\n",
       " 'p',\n",
       " 'l',\n",
       " '',\n",
       " '',\n",
       " 'r',\n",
       " 'e',\n",
       " 'c',\n",
       " 'e',\n",
       " '',\n",
       " 'v',\n",
       " 'e',\n",
       " '',\n",
       " '',\n",
       " '',\n",
       " '',\n",
       " '',\n",
       " '',\n",
       " '',\n",
       " '',\n",
       " 'c',\n",
       " 'r',\n",
       " 'e',\n",
       " '',\n",
       " '',\n",
       " '',\n",
       " '',\n",
       " 'r',\n",
       " '',\n",
       " '',\n",
       " '',\n",
       " 'n',\n",
       " 'g',\n",
       " '',\n",
       " 'f',\n",
       " 'r',\n",
       " '',\n",
       " '',\n",
       " '',\n",
       " '',\n",
       " '',\n",
       " 'r',\n",
       " 'n',\n",
       " '',\n",
       " 'n',\n",
       " 'g',\n",
       " '',\n",
       " '',\n",
       " '',\n",
       " 'r',\n",
       " '',\n",
       " '',\n",
       " 'p',\n",
       " 'p',\n",
       " 'l',\n",
       " 'e',\n",
       " '',\n",
       " 'q',\n",
       " 'u',\n",
       " '',\n",
       " '',\n",
       " '',\n",
       " '',\n",
       " '',\n",
       " 'h',\n",
       " 'e',\n",
       " '',\n",
       " 'g',\n",
       " '',\n",
       " 'n',\n",
       " 'g',\n",
       " '',\n",
       " '',\n",
       " '',\n",
       " 'v',\n",
       " '',\n",
       " 'n',\n",
       " '',\n",
       " '',\n",
       " 'g',\n",
       " 'e',\n",
       " '',\n",
       " '',\n",
       " '',\n",
       " 'g',\n",
       " 'h',\n",
       " '',\n",
       " '']"
      ]
     },
     "execution_count": 51,
     "metadata": {},
     "output_type": "execute_result"
    }
   ],
   "source": [
    "preprocessed_headlines1"
   ]
  },
  {
   "cell_type": "code",
   "execution_count": 49,
   "id": "1dbc8023",
   "metadata": {},
   "outputs": [
    {
     "data": {
      "text/html": [
       "<div>\n",
       "<style scoped>\n",
       "    .dataframe tbody tr th:only-of-type {\n",
       "        vertical-align: middle;\n",
       "    }\n",
       "\n",
       "    .dataframe tbody tr th {\n",
       "        vertical-align: top;\n",
       "    }\n",
       "\n",
       "    .dataframe thead th {\n",
       "        text-align: right;\n",
       "    }\n",
       "</style>\n",
       "<table border=\"1\" class=\"dataframe\">\n",
       "  <thead>\n",
       "    <tr style=\"text-align: right;\">\n",
       "      <th></th>\n",
       "      <th>0</th>\n",
       "    </tr>\n",
       "  </thead>\n",
       "  <tbody>\n",
       "    <tr>\n",
       "      <th>0</th>\n",
       "      <td></td>\n",
       "    </tr>\n",
       "    <tr>\n",
       "      <th>1</th>\n",
       "      <td></td>\n",
       "    </tr>\n",
       "    <tr>\n",
       "      <th>2</th>\n",
       "      <td></td>\n",
       "    </tr>\n",
       "    <tr>\n",
       "      <th>3</th>\n",
       "      <td>p</td>\n",
       "    </tr>\n",
       "    <tr>\n",
       "      <th>4</th>\n",
       "      <td>l</td>\n",
       "    </tr>\n",
       "    <tr>\n",
       "      <th>...</th>\n",
       "      <td>...</td>\n",
       "    </tr>\n",
       "    <tr>\n",
       "      <th>166</th>\n",
       "      <td></td>\n",
       "    </tr>\n",
       "    <tr>\n",
       "      <th>167</th>\n",
       "      <td>g</td>\n",
       "    </tr>\n",
       "    <tr>\n",
       "      <th>168</th>\n",
       "      <td>h</td>\n",
       "    </tr>\n",
       "    <tr>\n",
       "      <th>169</th>\n",
       "      <td></td>\n",
       "    </tr>\n",
       "    <tr>\n",
       "      <th>170</th>\n",
       "      <td></td>\n",
       "    </tr>\n",
       "  </tbody>\n",
       "</table>\n",
       "<p>171 rows × 1 columns</p>\n",
       "</div>"
      ],
      "text/plain": [
       "     0\n",
       "0     \n",
       "1     \n",
       "2     \n",
       "3    p\n",
       "4    l\n",
       "..  ..\n",
       "166   \n",
       "167  g\n",
       "168  h\n",
       "169   \n",
       "170   \n",
       "\n",
       "[171 rows x 1 columns]"
      ]
     },
     "execution_count": 49,
     "metadata": {},
     "output_type": "execute_result"
    }
   ],
   "source": [
    "df_new=pd.DataFrame(preprocessed_headlines1)\n",
    "df_new"
   ]
  },
  {
   "cell_type": "code",
   "execution_count": 48,
   "id": "b6f4bfe4",
   "metadata": {},
   "outputs": [
    {
     "ename": "AttributeError",
     "evalue": "'DataFrame' object has no attribute 'lower'",
     "output_type": "error",
     "traceback": [
      "\u001B[1;31m---------------------------------------------------------------------------\u001B[0m",
      "\u001B[1;31mAttributeError\u001B[0m                            Traceback (most recent call last)",
      "\u001B[1;32mC:\\Users\\TIRTHA~1\\AppData\\Local\\Temp/ipykernel_10008/3433852580.py\u001B[0m in \u001B[0;36m<module>\u001B[1;34m\u001B[0m\n\u001B[1;32m----> 1\u001B[1;33m \u001B[0mX\u001B[0m\u001B[1;33m=\u001B[0m\u001B[0mcount_vector\u001B[0m\u001B[1;33m.\u001B[0m\u001B[0mtransform\u001B[0m\u001B[1;33m(\u001B[0m\u001B[1;33m[\u001B[0m\u001B[0mdf_new\u001B[0m\u001B[1;33m]\u001B[0m\u001B[1;33m)\u001B[0m\u001B[1;33m\u001B[0m\u001B[1;33m\u001B[0m\u001B[0m\n\u001B[0m\u001B[0;32m      2\u001B[0m \u001B[0mpredictions\u001B[0m \u001B[1;33m=\u001B[0m \u001B[0mnb\u001B[0m\u001B[1;33m.\u001B[0m\u001B[0mpredict\u001B[0m\u001B[1;33m(\u001B[0m\u001B[0mX\u001B[0m\u001B[1;33m)\u001B[0m\u001B[1;33m\u001B[0m\u001B[1;33m\u001B[0m\u001B[0m\n",
      "\u001B[1;32mc:\\python\\python38\\lib\\site-packages\\sklearn\\feature_extraction\\text.py\u001B[0m in \u001B[0;36mtransform\u001B[1;34m(self, raw_documents)\u001B[0m\n\u001B[0;32m   1252\u001B[0m \u001B[1;33m\u001B[0m\u001B[0m\n\u001B[0;32m   1253\u001B[0m         \u001B[1;31m# use the same matrix-building strategy as fit_transform\u001B[0m\u001B[1;33m\u001B[0m\u001B[1;33m\u001B[0m\u001B[1;33m\u001B[0m\u001B[0m\n\u001B[1;32m-> 1254\u001B[1;33m         \u001B[0m_\u001B[0m\u001B[1;33m,\u001B[0m \u001B[0mX\u001B[0m \u001B[1;33m=\u001B[0m \u001B[0mself\u001B[0m\u001B[1;33m.\u001B[0m\u001B[0m_count_vocab\u001B[0m\u001B[1;33m(\u001B[0m\u001B[0mraw_documents\u001B[0m\u001B[1;33m,\u001B[0m \u001B[0mfixed_vocab\u001B[0m\u001B[1;33m=\u001B[0m\u001B[1;32mTrue\u001B[0m\u001B[1;33m)\u001B[0m\u001B[1;33m\u001B[0m\u001B[1;33m\u001B[0m\u001B[0m\n\u001B[0m\u001B[0;32m   1255\u001B[0m         \u001B[1;32mif\u001B[0m \u001B[0mself\u001B[0m\u001B[1;33m.\u001B[0m\u001B[0mbinary\u001B[0m\u001B[1;33m:\u001B[0m\u001B[1;33m\u001B[0m\u001B[1;33m\u001B[0m\u001B[0m\n\u001B[0;32m   1256\u001B[0m             \u001B[0mX\u001B[0m\u001B[1;33m.\u001B[0m\u001B[0mdata\u001B[0m\u001B[1;33m.\u001B[0m\u001B[0mfill\u001B[0m\u001B[1;33m(\u001B[0m\u001B[1;36m1\u001B[0m\u001B[1;33m)\u001B[0m\u001B[1;33m\u001B[0m\u001B[1;33m\u001B[0m\u001B[0m\n",
      "\u001B[1;32mc:\\python\\python38\\lib\\site-packages\\sklearn\\feature_extraction\\text.py\u001B[0m in \u001B[0;36m_count_vocab\u001B[1;34m(self, raw_documents, fixed_vocab)\u001B[0m\n\u001B[0;32m   1112\u001B[0m         \u001B[1;32mfor\u001B[0m \u001B[0mdoc\u001B[0m \u001B[1;32min\u001B[0m \u001B[0mraw_documents\u001B[0m\u001B[1;33m:\u001B[0m\u001B[1;33m\u001B[0m\u001B[1;33m\u001B[0m\u001B[0m\n\u001B[0;32m   1113\u001B[0m             \u001B[0mfeature_counter\u001B[0m \u001B[1;33m=\u001B[0m \u001B[1;33m{\u001B[0m\u001B[1;33m}\u001B[0m\u001B[1;33m\u001B[0m\u001B[1;33m\u001B[0m\u001B[0m\n\u001B[1;32m-> 1114\u001B[1;33m             \u001B[1;32mfor\u001B[0m \u001B[0mfeature\u001B[0m \u001B[1;32min\u001B[0m \u001B[0manalyze\u001B[0m\u001B[1;33m(\u001B[0m\u001B[0mdoc\u001B[0m\u001B[1;33m)\u001B[0m\u001B[1;33m:\u001B[0m\u001B[1;33m\u001B[0m\u001B[1;33m\u001B[0m\u001B[0m\n\u001B[0m\u001B[0;32m   1115\u001B[0m                 \u001B[1;32mtry\u001B[0m\u001B[1;33m:\u001B[0m\u001B[1;33m\u001B[0m\u001B[1;33m\u001B[0m\u001B[0m\n\u001B[0;32m   1116\u001B[0m                     \u001B[0mfeature_idx\u001B[0m \u001B[1;33m=\u001B[0m \u001B[0mvocabulary\u001B[0m\u001B[1;33m[\u001B[0m\u001B[0mfeature\u001B[0m\u001B[1;33m]\u001B[0m\u001B[1;33m\u001B[0m\u001B[1;33m\u001B[0m\u001B[0m\n",
      "\u001B[1;32mc:\\python\\python38\\lib\\site-packages\\sklearn\\feature_extraction\\text.py\u001B[0m in \u001B[0;36m_analyze\u001B[1;34m(doc, analyzer, tokenizer, ngrams, preprocessor, decoder, stop_words)\u001B[0m\n\u001B[0;32m    102\u001B[0m     \u001B[1;32melse\u001B[0m\u001B[1;33m:\u001B[0m\u001B[1;33m\u001B[0m\u001B[1;33m\u001B[0m\u001B[0m\n\u001B[0;32m    103\u001B[0m         \u001B[1;32mif\u001B[0m \u001B[0mpreprocessor\u001B[0m \u001B[1;32mis\u001B[0m \u001B[1;32mnot\u001B[0m \u001B[1;32mNone\u001B[0m\u001B[1;33m:\u001B[0m\u001B[1;33m\u001B[0m\u001B[1;33m\u001B[0m\u001B[0m\n\u001B[1;32m--> 104\u001B[1;33m             \u001B[0mdoc\u001B[0m \u001B[1;33m=\u001B[0m \u001B[0mpreprocessor\u001B[0m\u001B[1;33m(\u001B[0m\u001B[0mdoc\u001B[0m\u001B[1;33m)\u001B[0m\u001B[1;33m\u001B[0m\u001B[1;33m\u001B[0m\u001B[0m\n\u001B[0m\u001B[0;32m    105\u001B[0m         \u001B[1;32mif\u001B[0m \u001B[0mtokenizer\u001B[0m \u001B[1;32mis\u001B[0m \u001B[1;32mnot\u001B[0m \u001B[1;32mNone\u001B[0m\u001B[1;33m:\u001B[0m\u001B[1;33m\u001B[0m\u001B[1;33m\u001B[0m\u001B[0m\n\u001B[0;32m    106\u001B[0m             \u001B[0mdoc\u001B[0m \u001B[1;33m=\u001B[0m \u001B[0mtokenizer\u001B[0m\u001B[1;33m(\u001B[0m\u001B[0mdoc\u001B[0m\u001B[1;33m)\u001B[0m\u001B[1;33m\u001B[0m\u001B[1;33m\u001B[0m\u001B[0m\n",
      "\u001B[1;32mc:\\python\\python38\\lib\\site-packages\\sklearn\\feature_extraction\\text.py\u001B[0m in \u001B[0;36m_preprocess\u001B[1;34m(doc, accent_function, lower)\u001B[0m\n\u001B[0;32m     67\u001B[0m     \"\"\"\n\u001B[0;32m     68\u001B[0m     \u001B[1;32mif\u001B[0m \u001B[0mlower\u001B[0m\u001B[1;33m:\u001B[0m\u001B[1;33m\u001B[0m\u001B[1;33m\u001B[0m\u001B[0m\n\u001B[1;32m---> 69\u001B[1;33m         \u001B[0mdoc\u001B[0m \u001B[1;33m=\u001B[0m \u001B[0mdoc\u001B[0m\u001B[1;33m.\u001B[0m\u001B[0mlower\u001B[0m\u001B[1;33m(\u001B[0m\u001B[1;33m)\u001B[0m\u001B[1;33m\u001B[0m\u001B[1;33m\u001B[0m\u001B[0m\n\u001B[0m\u001B[0;32m     70\u001B[0m     \u001B[1;32mif\u001B[0m \u001B[0maccent_function\u001B[0m \u001B[1;32mis\u001B[0m \u001B[1;32mnot\u001B[0m \u001B[1;32mNone\u001B[0m\u001B[1;33m:\u001B[0m\u001B[1;33m\u001B[0m\u001B[1;33m\u001B[0m\u001B[0m\n\u001B[0;32m     71\u001B[0m         \u001B[0mdoc\u001B[0m \u001B[1;33m=\u001B[0m \u001B[0maccent_function\u001B[0m\u001B[1;33m(\u001B[0m\u001B[0mdoc\u001B[0m\u001B[1;33m)\u001B[0m\u001B[1;33m\u001B[0m\u001B[1;33m\u001B[0m\u001B[0m\n",
      "\u001B[1;32mc:\\python\\python38\\lib\\site-packages\\pandas\\core\\generic.py\u001B[0m in \u001B[0;36m__getattr__\u001B[1;34m(self, name)\u001B[0m\n\u001B[0;32m   5476\u001B[0m         ):\n\u001B[0;32m   5477\u001B[0m             \u001B[1;32mreturn\u001B[0m \u001B[0mself\u001B[0m\u001B[1;33m[\u001B[0m\u001B[0mname\u001B[0m\u001B[1;33m]\u001B[0m\u001B[1;33m\u001B[0m\u001B[1;33m\u001B[0m\u001B[0m\n\u001B[1;32m-> 5478\u001B[1;33m         \u001B[1;32mreturn\u001B[0m \u001B[0mobject\u001B[0m\u001B[1;33m.\u001B[0m\u001B[0m__getattribute__\u001B[0m\u001B[1;33m(\u001B[0m\u001B[0mself\u001B[0m\u001B[1;33m,\u001B[0m \u001B[0mname\u001B[0m\u001B[1;33m)\u001B[0m\u001B[1;33m\u001B[0m\u001B[1;33m\u001B[0m\u001B[0m\n\u001B[0m\u001B[0;32m   5479\u001B[0m \u001B[1;33m\u001B[0m\u001B[0m\n\u001B[0;32m   5480\u001B[0m     \u001B[1;32mdef\u001B[0m \u001B[0m__setattr__\u001B[0m\u001B[1;33m(\u001B[0m\u001B[0mself\u001B[0m\u001B[1;33m,\u001B[0m \u001B[0mname\u001B[0m\u001B[1;33m:\u001B[0m \u001B[0mstr\u001B[0m\u001B[1;33m,\u001B[0m \u001B[0mvalue\u001B[0m\u001B[1;33m)\u001B[0m \u001B[1;33m->\u001B[0m \u001B[1;32mNone\u001B[0m\u001B[1;33m:\u001B[0m\u001B[1;33m\u001B[0m\u001B[1;33m\u001B[0m\u001B[0m\n",
      "\u001B[1;31mAttributeError\u001B[0m: 'DataFrame' object has no attribute 'lower'"
     ]
    }
   ],
   "source": [
    "X=count_vector.transform([df_new])\n",
    "predictions = nb.predict(X)"
   ]
  },
  {
   "cell_type": "code",
   "execution_count": 30,
   "id": "83bb3cc0",
   "metadata": {},
   "outputs": [
    {
     "name": "stdout",
     "output_type": "stream",
     "text": [
      "[1]\n"
     ]
    }
   ],
   "source": [
    "print(predictions)"
   ]
  },
  {
   "cell_type": "code",
   "execution_count": 35,
   "id": "d341cdcc",
   "metadata": {},
   "outputs": [],
   "source": [
    "import pickle\n",
    "\n",
    "pickle.dump(nb, open('nb.pkl', 'wb'))"
   ]
  },
  {
   "cell_type": "code",
   "execution_count": null,
   "id": "d036460e",
   "metadata": {},
   "outputs": [],
   "source": [
    "from sklearn import metrics\n",
    "metrics.accuracy_score(y_test,predicton)*100"
   ]
  },
  {
   "cell_type": "code",
   "execution_count": null,
   "id": "62feff0b",
   "metadata": {},
   "outputs": [],
   "source": []
  },
  {
   "cell_type": "code",
   "execution_count": null,
   "id": "18433f6e",
   "metadata": {},
   "outputs": [],
   "source": []
  },
  {
   "cell_type": "code",
   "execution_count": null,
   "id": "39b1dafa",
   "metadata": {},
   "outputs": [],
   "source": []
  },
  {
   "cell_type": "code",
   "execution_count": null,
   "id": "f7414da8",
   "metadata": {},
   "outputs": [],
   "source": []
  }
 ],
 "metadata": {
  "kernelspec": {
   "display_name": "Python 3 (ipykernel)",
   "language": "python",
   "name": "python3"
  },
  "language_info": {
   "codemirror_mode": {
    "name": "ipython",
    "version": 3
   },
   "file_extension": ".py",
   "mimetype": "text/x-python",
   "name": "python",
   "nbconvert_exporter": "python",
   "pygments_lexer": "ipython3",
   "version": "3.8.0"
  }
 },
 "nbformat": 4,
 "nbformat_minor": 5
}