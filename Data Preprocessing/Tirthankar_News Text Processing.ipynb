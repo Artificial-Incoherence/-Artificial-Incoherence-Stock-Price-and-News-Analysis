{
 "cells": [
  {
   "cell_type": "code",
   "execution_count": 1,
   "id": "889718f6",
   "metadata": {},
   "outputs": [],
   "source": [
    "import pandas as pd\n",
    "import numpy as np\n",
    "import nltk\n",
    "import string\n",
    "import matplotlib.pyplot as plt\n",
    "import seaborn as sns\n",
    "from sklearn.feature_extraction.text import TfidfTransformer\n",
    "from sklearn.feature_extraction.text import TfidfVectorizer\n",
    "\n",
    "from sklearn.feature_extraction.text import CountVectorizer\n",
    "from sklearn.metrics import confusion_matrix\n",
    "from sklearn import metrics\n",
    "from sklearn.metrics import roc_curve, auc\n",
    "from nltk.stem.porter import PorterStemmer\n",
    "\n",
    "import re\n",
    "import string\n",
    "\n",
    "from nltk.stem import PorterStemmer\n",
    "from nltk.stem.wordnet import WordNetLemmatizer\n",
    "from gensim.models import Word2Vec\n",
    "from gensim.models import KeyedVectors\n",
    "\n",
    "from tqdm import tqdm\n"
   ]
  },
  {
   "cell_type": "code",
   "execution_count": 2,
   "id": "04402073",
   "metadata": {},
   "outputs": [
    {
     "name": "stdout",
     "output_type": "stream",
     "text": [
      "365 366 365 365 364 366 174\n",
      "Total Rows in dataframe: 2365\n"
     ]
    }
   ],
   "source": [
    "data1 = pd.read_csv(\"Datasets of Stocks Market and Stock News Articles\\Datasets of Stocks Market and Stock News Articles\\Stocks News Articles Datasets\\Headlines_2015.csv\")\n",
    "data2 = pd.read_csv(\"Datasets of Stocks Market and Stock News Articles\\Datasets of Stocks Market and Stock News Articles\\Stocks News Articles Datasets\\Headlines_2016.csv\")\n",
    "data3 = pd.read_csv(\"Datasets of Stocks Market and Stock News Articles\\Datasets of Stocks Market and Stock News Articles\\Stocks News Articles Datasets\\Headlines_2017.csv\")\n",
    "data4 = pd.read_csv(\"Datasets of Stocks Market and Stock News Articles\\Datasets of Stocks Market and Stock News Articles\\Stocks News Articles Datasets\\Headlines_2018.csv\")\n",
    "data5 = pd.read_csv(\"Datasets of Stocks Market and Stock News Articles\\Datasets of Stocks Market and Stock News Articles\\Stocks News Articles Datasets\\Headlines_2019.csv\")\n",
    "data6 = pd.read_csv(\"Datasets of Stocks Market and Stock News Articles\\Datasets of Stocks Market and Stock News Articles\\Stocks News Articles Datasets\\Headlines_2020.csv\")\n",
    "data7 = pd.read_csv(\"Datasets of Stocks Market and Stock News Articles\\Datasets of Stocks Market and Stock News Articles\\Stocks News Articles Datasets\\Headlines_2021.csv\")\n",
    "\n",
    "df = pd.concat([data1, data2, data3, data4, data5, data6, data7])\n",
    "print(len(data1), len(data2), len(data3),len(data4), len(data5), len(data6),len(data7))\n",
    "print(\"Total Rows in dataframe:\", len(df))"
   ]
  },
  {
   "cell_type": "code",
   "execution_count": 3,
   "id": "d6f4d0c4",
   "metadata": {},
   "outputs": [
    {
     "data": {
      "text/html": [
       "<div>\n",
       "<style scoped>\n",
       "    .dataframe tbody tr th:only-of-type {\n",
       "        vertical-align: middle;\n",
       "    }\n",
       "\n",
       "    .dataframe tbody tr th {\n",
       "        vertical-align: top;\n",
       "    }\n",
       "\n",
       "    .dataframe thead th {\n",
       "        text-align: right;\n",
       "    }\n",
       "</style>\n",
       "<table border=\"1\" class=\"dataframe\">\n",
       "  <thead>\n",
       "    <tr style=\"text-align: right;\">\n",
       "      <th></th>\n",
       "      <th>Date</th>\n",
       "      <th>Headlines</th>\n",
       "    </tr>\n",
       "  </thead>\n",
       "  <tbody>\n",
       "    <tr>\n",
       "      <th>0</th>\n",
       "      <td>2015-01-01</td>\n",
       "      <td>What Can We Expect From Apple Inc. In 2015? 1 ...</td>\n",
       "    </tr>\n",
       "    <tr>\n",
       "      <th>1</th>\n",
       "      <td>2015-01-02</td>\n",
       "      <td>What to expect from Apple in 2015 beyond its s...</td>\n",
       "    </tr>\n",
       "    <tr>\n",
       "      <th>2</th>\n",
       "      <td>2015-01-03</td>\n",
       "      <td>Mountie: An inexpensive and innovative way to ...</td>\n",
       "    </tr>\n",
       "    <tr>\n",
       "      <th>3</th>\n",
       "      <td>2015-01-04</td>\n",
       "      <td>Donald Yacktman on the Sources of Moats, His C...</td>\n",
       "    </tr>\n",
       "    <tr>\n",
       "      <th>4</th>\n",
       "      <td>2015-01-05</td>\n",
       "      <td>SIM-free iPhone 6, 6 Plus reportedly debuting ...</td>\n",
       "    </tr>\n",
       "  </tbody>\n",
       "</table>\n",
       "</div>"
      ],
      "text/plain": [
       "         Date                                          Headlines\n",
       "0  2015-01-01  What Can We Expect From Apple Inc. In 2015? 1 ...\n",
       "1  2015-01-02  What to expect from Apple in 2015 beyond its s...\n",
       "2  2015-01-03  Mountie: An inexpensive and innovative way to ...\n",
       "3  2015-01-04  Donald Yacktman on the Sources of Moats, His C...\n",
       "4  2015-01-05  SIM-free iPhone 6, 6 Plus reportedly debuting ..."
      ]
     },
     "execution_count": 3,
     "metadata": {},
     "output_type": "execute_result"
    }
   ],
   "source": [
    "df.head()"
   ]
  },
  {
   "cell_type": "code",
   "execution_count": 4,
   "id": "5504fc54",
   "metadata": {},
   "outputs": [
    {
     "data": {
      "text/html": [
       "<div>\n",
       "<style scoped>\n",
       "    .dataframe tbody tr th:only-of-type {\n",
       "        vertical-align: middle;\n",
       "    }\n",
       "\n",
       "    .dataframe tbody tr th {\n",
       "        vertical-align: top;\n",
       "    }\n",
       "\n",
       "    .dataframe thead th {\n",
       "        text-align: right;\n",
       "    }\n",
       "</style>\n",
       "<table border=\"1\" class=\"dataframe\">\n",
       "  <thead>\n",
       "    <tr style=\"text-align: right;\">\n",
       "      <th></th>\n",
       "      <th>Date</th>\n",
       "      <th>Headlines</th>\n",
       "    </tr>\n",
       "  </thead>\n",
       "  <tbody>\n",
       "    <tr>\n",
       "      <th>count</th>\n",
       "      <td>2365</td>\n",
       "      <td>2365</td>\n",
       "    </tr>\n",
       "    <tr>\n",
       "      <th>unique</th>\n",
       "      <td>2335</td>\n",
       "      <td>2332</td>\n",
       "    </tr>\n",
       "    <tr>\n",
       "      <th>top</th>\n",
       "      <td>2019-11-19</td>\n",
       "      <td>MasterCard is expanding its mobile wallet in S...</td>\n",
       "    </tr>\n",
       "    <tr>\n",
       "      <th>freq</th>\n",
       "      <td>2</td>\n",
       "      <td>3</td>\n",
       "    </tr>\n",
       "  </tbody>\n",
       "</table>\n",
       "</div>"
      ],
      "text/plain": [
       "              Date                                          Headlines\n",
       "count         2365                                               2365\n",
       "unique        2335                                               2332\n",
       "top     2019-11-19  MasterCard is expanding its mobile wallet in S...\n",
       "freq             2                                                  3"
      ]
     },
     "execution_count": 4,
     "metadata": {},
     "output_type": "execute_result"
    }
   ],
   "source": [
    "df.describe()"
   ]
  },
  {
   "cell_type": "code",
   "execution_count": 5,
   "id": "414e0853",
   "metadata": {},
   "outputs": [
    {
     "name": "stdout",
     "output_type": "stream",
     "text": [
      "<class 'pandas.core.frame.DataFrame'>\n",
      "Int64Index: 2365 entries, 0 to 173\n",
      "Data columns (total 2 columns):\n",
      " #   Column     Non-Null Count  Dtype \n",
      "---  ------     --------------  ----- \n",
      " 0   Date       2365 non-null   object\n",
      " 1   Headlines  2365 non-null   object\n",
      "dtypes: object(2)\n",
      "memory usage: 55.4+ KB\n"
     ]
    }
   ],
   "source": [
    "df.info()"
   ]
  },
  {
   "cell_type": "code",
   "execution_count": 6,
   "id": "380cd6e7",
   "metadata": {},
   "outputs": [],
   "source": [
    "df['Date'] = pd.to_datetime(df['Date'])"
   ]
  },
  {
   "cell_type": "code",
   "execution_count": 7,
   "id": "d9c2d003",
   "metadata": {},
   "outputs": [
    {
     "data": {
      "text/plain": [
       "(2365, 2)"
      ]
     },
     "execution_count": 7,
     "metadata": {},
     "output_type": "execute_result"
    }
   ],
   "source": [
    "df.shape"
   ]
  },
  {
   "cell_type": "code",
   "execution_count": 8,
   "id": "27f43a5b",
   "metadata": {},
   "outputs": [
    {
     "data": {
      "text/plain": [
       "Date         0\n",
       "Headlines    0\n",
       "dtype: int64"
      ]
     },
     "execution_count": 8,
     "metadata": {},
     "output_type": "execute_result"
    }
   ],
   "source": [
    "df.isnull().sum()"
   ]
  },
  {
   "cell_type": "code",
   "execution_count": 9,
   "id": "6a1bc9b7",
   "metadata": {
    "scrolled": true
   },
   "outputs": [
    {
     "name": "stdout",
     "output_type": "stream",
     "text": [
      "What Can We Expect From Apple Inc. In 2015? 1 Reason I Might Be Wrong About the Apple Inc. Retina MacBook Air More Evidence Apple Inc.&quot;s First Quarter Will Be Huge Samsung: New smart TVs in 2015 to run on Tizen OS\n",
      "==================================================\n",
      "Should You Buy Applied Materials (AMAT) Stock As It Hits New High? Time To Take A Bite Out Of Apple? Amazon.com Unveils New Echo Products: What You Need to Know UPDATE 1-Microsoft search engine Bing to focus on PC search market -CEO Apple working on fix for iPhone 8 &quot;crackling&quot; sound issue     - CNET Microsoft search engine Bing to focus on PC search market -CEO Wall Street ends flat after Yellen, tech shares bounce (VIDEO) Apple just released new information about how facial recognition on the iPhone X works Microsoft search engine Bing to focus on PC search market: CEO Microsoft search engine Bing to focus on PC search market: CEO Amazon&quot;s New Alexa Gadgets Are Aiming For Every Nook And Cranny Of Your Life Shareholders Accuse Google and Alphabet of Withholding Gender Pay Gap Data New $70 Amazon Fire TV Hits Apple Where It Hurts KGI : iPhone 8 sales are &#39;excessively negative&#39; Sorry, kids: Apple&quot;s new Face ID isn&quot;t meant for you UPDATE 1-Amazon expands Echo lineup in bid to defend Alexa edge Sorry, kids: Apple&quot;s new Face ID isn&quot;t meant for you Hemp in California: Could marijuana&quot;s mellow cousin be the next environmental and economic boon? Analysts&quot; Updated EPS Estimates for September, 27th (AAPL, ADRO, AMBA, AXON, BMY, BUFF, CBS, CCL, CTAS, DOX) Tech Tip: Can You Run Android on an iPad? Why Did Under Armour (UAA) Stock Sink Today? Nasdaq Kicks Higher, Apple Up Again; Can These 4 Chip Stocks Catch Nvidia? Q&amp;A: How Apple&quot;s Face ID facial recognition works Seeking Alpha&quot;s Weekly Media, Tech, And Finance News Round Up An Infographic Guide to the Rumored T-MobileSprint Merger Meag Munich Ergo Kapitalanlagegesellschaft MBH Increases Holdings in Apple Inc. (AAPL) Apple iPhone X Production Estimate Cut By Wall Street Firm Amazon Unveiling Products Likely To Focus On Echo Digital Assistant Apple Inc. (AAPL) Holdings Boosted by Hartwell J M Limited Partnership Eagle Capital Management LLC Sells 248 Shares of Apple Inc. (AAPL) Understanding Apple: Why The X Will Rule Next-Gen Sony Phones To Feature Completely New Design Apple confirms its new iPhone 8 has &quot;crackling&quot; sound problem and says it&quot;s working on a fix Apple: Last Year&quot;s iPhone 7 May Offset iPhone X Delays, Slack &quot;8&quot; Demand, Says Mizuho Apple, Alphabet and Samsung are making a long-term bet on health care Microsoft Announces that Office 2019 will Arrive Late Next Fall See How Apple&quot;s Market Value Stacks Up vs. Past Mega-Stocks Here&quot;s a bullish report on Apple&quot;s first-week iPhone 8 sales The Zacks Analyst Blog Highlights: Apple, Snap, Intel and Corning Are Amazon, Google, Facebook And Apple Monopolies? In Some Ways, But This Isn&quot;t Illegal Apple, Fitbit to Join FDA Program to Speed Health Tech Tech And Bank Stocks Surge As Major Indexes Hold Early Solid Gains Google Pixel 2 & Pixel 2 XL: Price, Release Date, And More Cedars-Sinai&quot;s Health App that&quot;s available for the iPhone is now available for Apple Watch Stock Market News For Sep 27, 2017 Apple&quot;s (AAPL) Outperform Rating Reaffirmed at Raymond James Financial, Inc. Investors: Stock Reports for Apple, Michael Kors, Micron, NVIDIA, and SunPower. Stocks to Watch: Micron, Nike, Apple, Amazon, Alphabet, Ford, Twitter IPhone X delays are blamed on snag in facial recognition hardware, report says SK hynix officially Signs on to the Toshiba Memory Corp Deal as Apple and Toshiba Continue to Negotiate Apple Aware Of The iPhone 8 &quot;Crackling&quot; Sound Issues, Promises A Fix AMD to introduce 12nm Desktop Processors in Q2 2018 to further Challenge Intel Apple Released iOS 11.0.1: What&quot;s New? Raymond James Upgrades Apple Inc. Stock: Says Buy On A Drawdown Apple iPhone X Production Woe Sparked by a Parts Imbalance Sell-Off In Tech - Cramer&quot;s Mad Money (9/26/17) For the Fifth Consecutive Year Apple has been recognized as the Top Global Brand Wall Street Breakfast: Tax Reform On The Radar Short Interest in Apple Drops Over 8 Million Shares as New iPhones Launch Apple says a fix for crackling iPhone 8 earpiece issue is coming Boeing scored a big victory against its Canadian rival, but it may start a nasty trade war (BA, BBD.B, DAL) Apple Could Go To $160 Apple confirms iPhone 8 &quot;crackling&quot; sound problem for small number of people and says it&quot;s working on a fix (AAPL)\n",
      "==================================================\n",
      "Prepare For The Prescription Drug Price Battle Amazon&apos;s Bezos & Twitter winners of week; Apple Store, InstaCart losers Apple: Don&quot;t Stop Believin&quot; Apple Inc. (AAPL) Position Cut by Sterling Investment Management Inc. Mycio Wealth Partners LLC Sells 6,122 Shares of Apple Inc. (AAPL) Apple Inc. (AAPL) Shares Bought by CFO4Life Group LLC Apple fixes FaceTime bug, new iOS 12.1.4 update available; big bounty for teenager founding bug\n",
      "==================================================\n",
      "UBS reviews names to watch in &quot;consumerization of healthcare&quot; Apple just bought this SoMa tech startup Apple (AAPL) Stock Moves -1.77%: What You Should Know Who should replace Bob Iger on Apple&quot;s board? Qualcomm Will Be A 5G Winner, Says Bullish BofA Qualcomm Will Be A 5G Winner, Says Bullish BofA Apple just announced its big plan to create its own Mac chips, signaling a radical new direction for the company&quot;s computers. Here&quot;s everything we know about it so far. (AAPL) Nvidia&quot;s Partnership With Automaker Called &quot;iPhone Moment&quot; For Chipmaker Apple to temporarily close 7 Houston stores as COVID-19 outbreak worsens in Texas Apple Is Giving iPhone Users More Control Over Their Location Data FANGMAN Elliott Wave Review - Part 1: AAPL Read the letter a fintech-focused VC sent investors laying out why &quot;hype rounds&quot; that drove ballooning valuations just won&quot;t work anymore Dow Jones Drops 700 Points as COVID-19 Flares Up; Apple Down on Antitrust News; Boeing Stock Tumbles Apple&quot;s switch from Intel to its own chips is its smartest move in years Apple acquires security company Fleetsmith Apple Announcement Has Incremental Implications For Intel MGG 821: WWDC Deep Dive Apple is adding a new feature to iOS 14 that could help your AirPods batteries last longer (AAPL) Apple roundup: Acquires Fleetsmith, iPhone sales drop in China Three Reasons To Buy Apple (Though I Won&quot;t Be) Apple expanding its &quot;Find My&quot; platform could threaten Tile in the device-tracking market Trump&quot;s Employment Visa Suspension Under Fire From Business And Tech Leaders Warren Buffett&quot;s $90 billion Apple stake represents a ridiculous 20% of Berkshire Hathaway&quot;s market value Apple Inc. (NASDAQ:AAPL) is Raab & Moskowitz Asset Management LLC&quot;s 2nd Largest Position Apple Inc. (NASDAQ:AAPL) Shares Purchased by Dimension Capital Management LLC Seeyond Has $712,000 Stock Holdings in Apple Inc. (NASDAQ:AAPL) Seeyond Has $712,000 Stock Holdings in Apple Inc. (NASDAQ:AAPL) Apple Inc. (NASDAQ:AAPL) Shares Purchased by Dimension Capital Management LLC Apple Inc. (NASDAQ:AAPL) is Gifford Fong Associates&quot; 2nd Largest Position Gifford Fong Associates Purchases 25,000 Shares of Apple Inc. (NASDAQ:AAPL) While Apple has been working on backside iDevice Controls for over a decade, a Developer leak confirms it&quot;s coming to iPhone 12 Apple Introduces a Host of iOS Upgrades. Here&quot;s What Investors Need to Know. Better Buy: Apple vs. Google The Department of Justice is reportedly gearing up for a battle with Apple over its controversial App Store policies, which have sparked backlash and criticism from developers (AAPL) Apple lost former Disney CEO Bob Iger as a board member last fall. Here are its 7 directors. Apple lost former Disney CEO Bob Iger as a board member last fall. Here are its 7 directors. Apple lost former Disney CEO Bob Iger as a board member last fall. Here are its 7 directors. Nasdaq is Burning Hot: How to Make the Most of it With ETFs What Apple isn&quot;t saying about the Mac&quot;s new chips Tim Cook&quot;s plan to take Apple to a new frontier veers off script Comcast&quot;s Peacock-Google Platform Launch Slated for July Apple Inc. (NASDAQ:AAPL) Shares Bought by Janus Henderson Group PLC Apple Inc. (NASDAQ:AAPL) Shares Bought by Pinnacle Holdings LLC Apple Inc. (NASDAQ:AAPL) is Charter Trust Co.&quot;s 4th Largest Position Apple Inc. (NASDAQ:AAPL) is Charter Trust Co.&quot;s 4th Largest Position 4,951 Shares in Apple Inc. (NASDAQ:AAPL) Acquired by Corsair Capital Management L.P. Nomura Asset Management Co. Ltd. Has $336.41 Million Stock Holdings in Apple Inc. (NASDAQ:AAPL) United Bank Has $3 Million Stock Position in Apple Inc. (NASDAQ:AAPL) Apple Inc. (NASDAQ:AAPL) Shares Bought by Pinnacle Holdings LLC Legal & General Group Plc Sells 654,474 Shares of Apple Inc. (NASDAQ:AAPL) Asset Planning Services Ltd. Acquires 131 Shares of Apple Inc. (NASDAQ:AAPL) Beck Bode LLC Has $4.41 Million Position in Apple Inc. (NASDAQ:AAPL) Apple Inc. (NASDAQ:AAPL) Shares Sold by River & Mercantile Asset Management LLP Apple Inc. (NASDAQ:AAPL) Stock Position Lessened by Bar Harbor Trust Services Apple Inc. (NASDAQ:AAPL) Shares Sold by Van Hulzen Asset Management LLC Warren Averett Asset Management LLC Raises Stock Holdings in Apple Inc. (NASDAQ:AAPL) Legal & General Group Plc Sells 654,474 Shares of Apple Inc. (NASDAQ:AAPL) Beck Bode LLC Has $4.41 Million Position in Apple Inc. (NASDAQ:AAPL) Commonwealth of Pennsylvania Public School Empls Retrmt SYS Lowers Stock Position in Apple Inc. (NASDAQ:AAPL) Apple Inc. (NASDAQ:AAPL) Shares Sold by Stearns Financial Services Group Asset Planning Services Ltd. Increases Stake in Apple Inc. (NASDAQ:AAPL) Warren Averett Asset Management LLC Purchases 950 Shares of Apple Inc. (NASDAQ:AAPL) Aspire Private Capital LLC Sells 2,851 Shares of Apple Inc. (NASDAQ:AAPL) Apple Inc. (NASDAQ:AAPL) Shares Bought by Trustmark National Bank Trust Department Apple Inc. (NASDAQ:AAPL) Shares Bought by Trustmark National Bank Trust Department Apple Inc. (NASDAQ:AAPL) is Commonwealth of Pennsylvania Public School Empls Retrmt SYS&quot;s 10th Largest Position Apple Inc. (NASDAQ:AAPL) is Van Hulzen Asset Management LLC&quot;s Largest Position 4,951 Shares in Apple Inc. (NASDAQ:AAPL) Acquired by Corsair Capital Management L.P. Wellington Management Group LLP Buys 4,148,565 Shares of Apple Inc. (NASDAQ:AAPL) Southern Wealth Management LLP Sells 345 Shares of Apple Inc. (NASDAQ:AAPL) united american securities inc. d b a uas asset management Boosts Stock Holdings in Apple Inc. (NASDAQ:AAPL) Bar Harbor Trust Services Sells 510 Shares of Apple Inc. (NASDAQ:AAPL) Wellington Management Group LLP Buys 4,148,565 Shares of Apple Inc. (NASDAQ:AAPL) Apple Inc. (NASDAQ:AAPL) is Monetary Management Group Inc.&quot;s 2nd Largest Position Apple Inc. (NASDAQ:AAPL) Shares Sold by River & Mercantile Asset Management LLP Apple Inc. (NASDAQ:AAPL) Stock Holdings Decreased by Fort L.P. Apple antitrust probe possible from DOJ, state AGs Apple just unveiled the next version of its Mac software, macOS Big Sur. Here are the biggest changes arriving this fall. (AAPL) Apple&quot;s iOS 14 will Support iPhone&quot;s starting with iPhone 6s unlike Android Phone users that quickly get lost in an update Black Hole Stock Market News for Jun 24, 2020 Lindsey Graham&quot;s stupid bill would kill Apple privacy Apple unveils anticipated Watch sleep-tracking feature Amazon to Invest $2 Billion, Focus on Carbon Neutrality Apple Quietly Addresses Antitrust Criticisms Apple stock falls after report says Justice Department looking at App Store investigation united american securities inc. d b a uas asset management Boosts Stock Holdings in Apple Inc. (NASDAQ:AAPL) Somewhat Favorable Media Coverage Unlikely to Affect Apple (NASDAQ:AAPL) Share Price Apple (NASDAQ:AAPL) Earns Buy Rating from JPMorgan Chase & Co. 3 Stocks to Bankroll Your Retirement Intel Can Lose Apple---but Little Else Doubling Down On Amazon: My FAAMG Pick For The Rest Of 2020 Intel Can Lose Apple---but Little Else Apple (NASDAQ:AAPL) Given \"Sell\" Rating at Goldman Sachs Group Monness Crespi & Hardt Initiates Coverage on Apple (NASDAQ:AAPL) Apple (NASDAQ:AAPL) Given \"Buy\" Rating at JPMorgan Chase & Co. Chinese Are Buying Fewer iPhones But Growth In App Store Signals Rebound For Apple: Report Apple (NASDAQ:AAPL) Given \"Buy\" Rating at JPMorgan Chase & Co. Critical Review: MACOM Technology Solutions (NASDAQ:MTSI) vs. On Track Innovations (NASDAQ:OTIVF) Wall Street higher on signs of recovery, Nasdaq hits record high Apple Won 82 Patents Today covering the Projector for iPhones Relating to Face ID, Virtual Keyboards and more\n",
      "==================================================\n"
     ]
    }
   ],
   "source": [
    "# printing some random reviews\n",
    "sent_0 = df['Headlines'].values[0]\n",
    "print(sent_0)\n",
    "print(\"=\"*50)\n",
    "\n",
    "sent_1000 = df['Headlines'].values[1000]\n",
    "print(sent_1000)\n",
    "print(\"=\"*50)\n",
    "\n",
    "sent_1500 = df['Headlines'].values[1500]\n",
    "print(sent_1500)\n",
    "print(\"=\"*50)\n",
    "\n",
    "sent_2000 = df['Headlines'].values[2000]\n",
    "print(sent_2000)\n",
    "print(\"=\"*50)"
   ]
  },
  {
   "cell_type": "code",
   "execution_count": 10,
   "id": "a831a4ad",
   "metadata": {},
   "outputs": [
    {
     "name": "stdout",
     "output_type": "stream",
     "text": [
      "What Can We Expect From Apple Inc. In 2015? 1 Reason I Might Be Wrong About the Apple Inc. Retina MacBook Air More Evidence Apple Inc.&quot;s First Quarter Will Be Huge Samsung: New smart TVs in 2015 to run on Tizen OS\n"
     ]
    }
   ],
   "source": [
    "sent_0 = re.sub(r\"http\\S+\", \"\", sent_0)\n",
    "sent_1000 = re.sub(r\"http\\S+\", \"\", sent_1000)\n",
    "sent_1500 = re.sub(r\"http\\S+\", \"\", sent_1500)\n",
    "sent_2000 = re.sub(r\"http\\S+\", \"\", sent_2000)\n",
    "\n",
    "print(sent_0)"
   ]
  },
  {
   "cell_type": "code",
   "execution_count": 11,
   "id": "ebf2f082",
   "metadata": {
    "scrolled": true
   },
   "outputs": [
    {
     "name": "stdout",
     "output_type": "stream",
     "text": [
      "What Can We Expect From Apple Inc. In 2015? 1 Reason I Might Be Wrong About the Apple Inc. Retina MacBook Air More Evidence Apple Inc.\"s First Quarter Will Be Huge Samsung: New smart TVs in 2015 to run on Tizen OS\n",
      "==================================================\n",
      "Should You Buy Applied Materials (AMAT) Stock As It Hits New High? Time To Take A Bite Out Of Apple? Amazon.com Unveils New Echo Products: What You Need to Know UPDATE 1-Microsoft search engine Bing to focus on PC search market -CEO Apple working on fix for iPhone 8 \"crackling\" sound issue     - CNET Microsoft search engine Bing to focus on PC search market -CEO Wall Street ends flat after Yellen, tech shares bounce (VIDEO) Apple just released new information about how facial recognition on the iPhone X works Microsoft search engine Bing to focus on PC search market: CEO Microsoft search engine Bing to focus on PC search market: CEO Amazon\"s New Alexa Gadgets Are Aiming For Every Nook And Cranny Of Your Life Shareholders Accuse Google and Alphabet of Withholding Gender Pay Gap Data New $70 Amazon Fire TV Hits Apple Where It Hurts KGI : iPhone 8 sales are 'excessively negative' Sorry, kids: Apple\"s new Face ID isn\"t meant for you UPDATE 1-Amazon expands Echo lineup in bid to defend Alexa edge Sorry, kids: Apple\"s new Face ID isn\"t meant for you Hemp in California: Could marijuana\"s mellow cousin be the next environmental and economic boon? Analysts\" Updated EPS Estimates for September, 27th (AAPL, ADRO, AMBA, AXON, BMY, BUFF, CBS, CCL, CTAS, DOX) Tech Tip: Can You Run Android on an iPad? Why Did Under Armour (UAA) Stock Sink Today? Nasdaq Kicks Higher, Apple Up Again; Can These 4 Chip Stocks Catch Nvidia? Q&A: How Apple\"s Face ID facial recognition works Seeking Alpha\"s Weekly Media, Tech, And Finance News Round Up An Infographic Guide to the Rumored T-MobileSprint Merger Meag Munich Ergo Kapitalanlagegesellschaft MBH Increases Holdings in Apple Inc. (AAPL) Apple iPhone X Production Estimate Cut By Wall Street Firm Amazon Unveiling Products Likely To Focus On Echo Digital Assistant Apple Inc. (AAPL) Holdings Boosted by Hartwell J M Limited Partnership Eagle Capital Management LLC Sells 248 Shares of Apple Inc. (AAPL) Understanding Apple: Why The X Will Rule Next-Gen Sony Phones To Feature Completely New Design Apple confirms its new iPhone 8 has \"crackling\" sound problem and says it\"s working on a fix Apple: Last Year\"s iPhone 7 May Offset iPhone X Delays, Slack \"8\" Demand, Says Mizuho Apple, Alphabet and Samsung are making a long-term bet on health care Microsoft Announces that Office 2019 will Arrive Late Next Fall See How Apple\"s Market Value Stacks Up vs. Past Mega-Stocks Here\"s a bullish report on Apple\"s first-week iPhone 8 sales The Zacks Analyst Blog Highlights: Apple, Snap, Intel and Corning Are Amazon, Google, Facebook And Apple Monopolies? In Some Ways, But This Isn\"t Illegal Apple, Fitbit to Join FDA Program to Speed Health Tech Tech And Bank Stocks Surge As Major Indexes Hold Early Solid Gains Google Pixel 2 & Pixel 2 XL: Price, Release Date, And More Cedars-Sinai\"s Health App that\"s available for the iPhone is now available for Apple Watch Stock Market News For Sep 27, 2017 Apple\"s (AAPL) Outperform Rating Reaffirmed at Raymond James Financial, Inc. Investors: Stock Reports for Apple, Michael Kors, Micron, NVIDIA, and SunPower. Stocks to Watch: Micron, Nike, Apple, Amazon, Alphabet, Ford, Twitter IPhone X delays are blamed on snag in facial recognition hardware, report says SK hynix officially Signs on to the Toshiba Memory Corp Deal as Apple and Toshiba Continue to Negotiate Apple Aware Of The iPhone 8 \"Crackling\" Sound Issues, Promises A Fix AMD to introduce 12nm Desktop Processors in Q2 2018 to further Challenge Intel Apple Released iOS 11.0.1: What\"s New? Raymond James Upgrades Apple Inc. Stock: Says Buy On A Drawdown Apple iPhone X Production Woe Sparked by a Parts Imbalance Sell-Off In Tech - Cramer\"s Mad Money (9/26/17) For the Fifth Consecutive Year Apple has been recognized as the Top Global Brand Wall Street Breakfast: Tax Reform On The Radar Short Interest in Apple Drops Over 8 Million Shares as New iPhones Launch Apple says a fix for crackling iPhone 8 earpiece issue is coming Boeing scored a big victory against its Canadian rival, but it may start a nasty trade war (BA, BBD.B, DAL) Apple Could Go To $160 Apple confirms iPhone 8 \"crackling\" sound problem for small number of people and says it\"s working on a fix (AAPL)\n",
      "==================================================\n",
      "Prepare For The Prescription Drug Price Battle Amazon's Bezos & Twitter winners of week; Apple Store, InstaCart losers Apple: Don\"t Stop Believin\" Apple Inc. (AAPL) Position Cut by Sterling Investment Management Inc. Mycio Wealth Partners LLC Sells 6,122 Shares of Apple Inc. (AAPL) Apple Inc. (AAPL) Shares Bought by CFO4Life Group LLC Apple fixes FaceTime bug, new iOS 12.1.4 update available; big bounty for teenager founding bug\n",
      "==================================================\n",
      "UBS reviews names to watch in \"consumerization of healthcare\" Apple just bought this SoMa tech startup Apple (AAPL) Stock Moves -1.77%: What You Should Know Who should replace Bob Iger on Apple\"s board? Qualcomm Will Be A 5G Winner, Says Bullish BofA Qualcomm Will Be A 5G Winner, Says Bullish BofA Apple just announced its big plan to create its own Mac chips, signaling a radical new direction for the company\"s computers. Here\"s everything we know about it so far. (AAPL) Nvidia\"s Partnership With Automaker Called \"iPhone Moment\" For Chipmaker Apple to temporarily close 7 Houston stores as COVID-19 outbreak worsens in Texas Apple Is Giving iPhone Users More Control Over Their Location Data FANGMAN Elliott Wave Review - Part 1: AAPL Read the letter a fintech-focused VC sent investors laying out why \"hype rounds\" that drove ballooning valuations just won\"t work anymore Dow Jones Drops 700 Points as COVID-19 Flares Up; Apple Down on Antitrust News; Boeing Stock Tumbles Apple\"s switch from Intel to its own chips is its smartest move in years Apple acquires security company Fleetsmith Apple Announcement Has Incremental Implications For Intel MGG 821: WWDC Deep Dive Apple is adding a new feature to iOS 14 that could help your AirPods batteries last longer (AAPL) Apple roundup: Acquires Fleetsmith, iPhone sales drop in China Three Reasons To Buy Apple (Though I Won\"t Be) Apple expanding its \"Find My\" platform could threaten Tile in the device-tracking market Trump\"s Employment Visa Suspension Under Fire From Business And Tech Leaders Warren Buffett\"s $90 billion Apple stake represents a ridiculous 20% of Berkshire Hathaway\"s market value Apple Inc. (NASDAQ:AAPL) is Raab & Moskowitz Asset Management LLC\"s 2nd Largest Position Apple Inc. (NASDAQ:AAPL) Shares Purchased by Dimension Capital Management LLC Seeyond Has $712,000 Stock Holdings in Apple Inc. (NASDAQ:AAPL) Seeyond Has $712,000 Stock Holdings in Apple Inc. (NASDAQ:AAPL) Apple Inc. (NASDAQ:AAPL) Shares Purchased by Dimension Capital Management LLC Apple Inc. (NASDAQ:AAPL) is Gifford Fong Associates\" 2nd Largest Position Gifford Fong Associates Purchases 25,000 Shares of Apple Inc. (NASDAQ:AAPL) While Apple has been working on backside iDevice Controls for over a decade, a Developer leak confirms it\"s coming to iPhone 12 Apple Introduces a Host of iOS Upgrades. Here\"s What Investors Need to Know. Better Buy: Apple vs. Google The Department of Justice is reportedly gearing up for a battle with Apple over its controversial App Store policies, which have sparked backlash and criticism from developers (AAPL) Apple lost former Disney CEO Bob Iger as a board member last fall. Here are its 7 directors. Apple lost former Disney CEO Bob Iger as a board member last fall. Here are its 7 directors. Apple lost former Disney CEO Bob Iger as a board member last fall. Here are its 7 directors. Nasdaq is Burning Hot: How to Make the Most of it With ETFs What Apple isn\"t saying about the Mac\"s new chips Tim Cook\"s plan to take Apple to a new frontier veers off script Comcast\"s Peacock-Google Platform Launch Slated for July Apple Inc. (NASDAQ:AAPL) Shares Bought by Janus Henderson Group PLC Apple Inc. (NASDAQ:AAPL) Shares Bought by Pinnacle Holdings LLC Apple Inc. (NASDAQ:AAPL) is Charter Trust Co.\"s 4th Largest Position Apple Inc. (NASDAQ:AAPL) is Charter Trust Co.\"s 4th Largest Position 4,951 Shares in Apple Inc. (NASDAQ:AAPL) Acquired by Corsair Capital Management L.P. Nomura Asset Management Co. Ltd. Has $336.41 Million Stock Holdings in Apple Inc. (NASDAQ:AAPL) United Bank Has $3 Million Stock Position in Apple Inc. (NASDAQ:AAPL) Apple Inc. (NASDAQ:AAPL) Shares Bought by Pinnacle Holdings LLC Legal & General Group Plc Sells 654,474 Shares of Apple Inc. (NASDAQ:AAPL) Asset Planning Services Ltd. Acquires 131 Shares of Apple Inc. (NASDAQ:AAPL) Beck Bode LLC Has $4.41 Million Position in Apple Inc. (NASDAQ:AAPL) Apple Inc. (NASDAQ:AAPL) Shares Sold by River & Mercantile Asset Management LLP Apple Inc. (NASDAQ:AAPL) Stock Position Lessened by Bar Harbor Trust Services Apple Inc. (NASDAQ:AAPL) Shares Sold by Van Hulzen Asset Management LLC Warren Averett Asset Management LLC Raises Stock Holdings in Apple Inc. (NASDAQ:AAPL) Legal & General Group Plc Sells 654,474 Shares of Apple Inc. (NASDAQ:AAPL) Beck Bode LLC Has $4.41 Million Position in Apple Inc. (NASDAQ:AAPL) Commonwealth of Pennsylvania Public School Empls Retrmt SYS Lowers Stock Position in Apple Inc. (NASDAQ:AAPL) Apple Inc. (NASDAQ:AAPL) Shares Sold by Stearns Financial Services Group Asset Planning Services Ltd. Increases Stake in Apple Inc. (NASDAQ:AAPL) Warren Averett Asset Management LLC Purchases 950 Shares of Apple Inc. (NASDAQ:AAPL) Aspire Private Capital LLC Sells 2,851 Shares of Apple Inc. (NASDAQ:AAPL) Apple Inc. (NASDAQ:AAPL) Shares Bought by Trustmark National Bank Trust Department Apple Inc. (NASDAQ:AAPL) Shares Bought by Trustmark National Bank Trust Department Apple Inc. (NASDAQ:AAPL) is Commonwealth of Pennsylvania Public School Empls Retrmt SYS\"s 10th Largest Position Apple Inc. (NASDAQ:AAPL) is Van Hulzen Asset Management LLC\"s Largest Position 4,951 Shares in Apple Inc. (NASDAQ:AAPL) Acquired by Corsair Capital Management L.P. Wellington Management Group LLP Buys 4,148,565 Shares of Apple Inc. (NASDAQ:AAPL) Southern Wealth Management LLP Sells 345 Shares of Apple Inc. (NASDAQ:AAPL) united american securities inc. d b a uas asset management Boosts Stock Holdings in Apple Inc. (NASDAQ:AAPL) Bar Harbor Trust Services Sells 510 Shares of Apple Inc. (NASDAQ:AAPL) Wellington Management Group LLP Buys 4,148,565 Shares of Apple Inc. (NASDAQ:AAPL) Apple Inc. (NASDAQ:AAPL) is Monetary Management Group Inc.\"s 2nd Largest Position Apple Inc. (NASDAQ:AAPL) Shares Sold by River & Mercantile Asset Management LLP Apple Inc. (NASDAQ:AAPL) Stock Holdings Decreased by Fort L.P. Apple antitrust probe possible from DOJ, state AGs Apple just unveiled the next version of its Mac software, macOS Big Sur. Here are the biggest changes arriving this fall. (AAPL) Apple\"s iOS 14 will Support iPhone\"s starting with iPhone 6s unlike Android Phone users that quickly get lost in an update Black Hole Stock Market News for Jun 24, 2020 Lindsey Graham\"s stupid bill would kill Apple privacy Apple unveils anticipated Watch sleep-tracking feature Amazon to Invest $2 Billion, Focus on Carbon Neutrality Apple Quietly Addresses Antitrust Criticisms Apple stock falls after report says Justice Department looking at App Store investigation united american securities inc. d b a uas asset management Boosts Stock Holdings in Apple Inc. (NASDAQ:AAPL) Somewhat Favorable Media Coverage Unlikely to Affect Apple (NASDAQ:AAPL) Share Price Apple (NASDAQ:AAPL) Earns Buy Rating from JPMorgan Chase & Co. 3 Stocks to Bankroll Your Retirement Intel Can Lose Apple---but Little Else Doubling Down On Amazon: My FAAMG Pick For The Rest Of 2020 Intel Can Lose Apple---but Little Else Apple (NASDAQ:AAPL) Given \"Sell\" Rating at Goldman Sachs Group Monness Crespi & Hardt Initiates Coverage on Apple (NASDAQ:AAPL) Apple (NASDAQ:AAPL) Given \"Buy\" Rating at JPMorgan Chase & Co. Chinese Are Buying Fewer iPhones But Growth In App Store Signals Rebound For Apple: Report Apple (NASDAQ:AAPL) Given \"Buy\" Rating at JPMorgan Chase & Co. Critical Review: MACOM Technology Solutions (NASDAQ:MTSI) vs. On Track Innovations (NASDAQ:OTIVF) Wall Street higher on signs of recovery, Nasdaq hits record high Apple Won 82 Patents Today covering the Projector for iPhones Relating to Face ID, Virtual Keyboards and more\n"
     ]
    }
   ],
   "source": [
    "from bs4 import BeautifulSoup\n",
    "\n",
    "soup = BeautifulSoup(sent_0, 'lxml')\n",
    "text = soup.get_text()\n",
    "print(text)\n",
    "print(\"=\"*50)\n",
    "\n",
    "soup = BeautifulSoup(sent_1000, 'lxml')\n",
    "text = soup.get_text()\n",
    "print(text)\n",
    "print(\"=\"*50)\n",
    "\n",
    "soup = BeautifulSoup(sent_1500, 'lxml')\n",
    "text = soup.get_text()\n",
    "print(text)\n",
    "print(\"=\"*50)\n",
    "\n",
    "soup = BeautifulSoup(sent_2000, 'lxml')\n",
    "text = soup.get_text()\n",
    "print(text)"
   ]
  },
  {
   "cell_type": "code",
   "execution_count": 12,
   "id": "41e314ab",
   "metadata": {},
   "outputs": [],
   "source": [
    "import re\n",
    "\n",
    "def decontracted(phrase):\n",
    "    # specific\n",
    "    phrase = re.sub(r\"won't\", \"will not\", phrase)\n",
    "    phrase = re.sub(r\"can\\'t\", \"can not\", phrase)\n",
    "\n",
    "    # general\n",
    "    phrase = re.sub(r\"n\\'t\", \" not\", phrase)\n",
    "    phrase = re.sub(r\"\\'re\", \" are\", phrase)\n",
    "    phrase = re.sub(r\"\\'s\", \" is\", phrase)\n",
    "    phrase = re.sub(r\"\\'d\", \" would\", phrase)\n",
    "    phrase = re.sub(r\"\\'ll\", \" will\", phrase)\n",
    "    phrase = re.sub(r\"\\'t\", \" not\", phrase)\n",
    "    phrase = re.sub(r\"\\'ve\", \" have\", phrase)\n",
    "    phrase = re.sub(r\"\\'m\", \" am\", phrase)\n",
    "    return phrase"
   ]
  },
  {
   "cell_type": "code",
   "execution_count": 13,
   "id": "785228ba",
   "metadata": {},
   "outputs": [
    {
     "name": "stdout",
     "output_type": "stream",
     "text": [
      "Prepare For The Prescription Drug Price Battle Amazon&apos;s Bezos & Twitter winners of week; Apple Store, InstaCart losers Apple: Don&quot;t Stop Believin&quot; Apple Inc. (AAPL) Position Cut by Sterling Investment Management Inc. Mycio Wealth Partners LLC Sells 6,122 Shares of Apple Inc. (AAPL) Apple Inc. (AAPL) Shares Bought by CFO4Life Group LLC Apple fixes FaceTime bug, new iOS 12.1.4 update available; big bounty for teenager founding bug\n",
      "==================================================\n"
     ]
    }
   ],
   "source": [
    "sent_1500 = decontracted(sent_1500)\n",
    "print(sent_1500)\n",
    "print(\"=\"*50)"
   ]
  },
  {
   "cell_type": "code",
   "execution_count": 14,
   "id": "c6a22b08",
   "metadata": {},
   "outputs": [
    {
     "name": "stdout",
     "output_type": "stream",
     "text": [
      "What Can We Expect From Apple Inc. In   Reason I Might Be Wrong About the Apple Inc. Retina MacBook Air More Evidence Apple Inc.&quot;s First Quarter Will Be Huge Samsung: New smart TVs in  to run on Tizen OS\n"
     ]
    }
   ],
   "source": [
    "sent_0 = re.sub(\"\\S*\\d\\S*\", \"\", sent_0).strip()\n",
    "print(sent_0)"
   ]
  },
  {
   "cell_type": "code",
   "execution_count": 15,
   "id": "cd8b5d78",
   "metadata": {},
   "outputs": [
    {
     "name": "stdout",
     "output_type": "stream",
     "text": [
      "Prepare For The Prescription Drug Price Battle Amazon apos s Bezos Twitter winners of week Apple Store InstaCart losers Apple Don quot t Stop Believin quot Apple Inc AAPL Position Cut by Sterling Investment Management Inc Mycio Wealth Partners LLC Sells 6 122 Shares of Apple Inc AAPL Apple Inc AAPL Shares Bought by CFO4Life Group LLC Apple fixes FaceTime bug new iOS 12 1 4 update available big bounty for teenager founding bug\n"
     ]
    }
   ],
   "source": [
    "sent_1500 = re.sub('[^A-Za-z0-9]+', ' ', sent_1500)\n",
    "print(sent_1500)"
   ]
  },
  {
   "cell_type": "code",
   "execution_count": 16,
   "id": "bc96e850",
   "metadata": {},
   "outputs": [],
   "source": [
    "\n",
    "stopwords= set(['br', 'the', 'i', 'me', 'my', 'myself', 'we', 'our', 'ours', 'ourselves', 'you', \"you're\", \"you've\",\\\n",
    "            \"you'll\", \"you'd\", 'your', 'yours', 'yourself', 'yourselves', 'he', 'him', 'his', 'himself', \\\n",
    "            'she', \"she's\", 'her', 'hers', 'herself', 'it', \"it's\", 'its', 'itself', 'they', 'them', 'their',\\\n",
    "            'theirs', 'themselves', 'what', 'which', 'who', 'whom', 'this', 'that', \"that'll\", 'these', 'those', \\\n",
    "            'am', 'is', 'are', 'was', 'were', 'be', 'been', 'being', 'have', 'has', 'had', 'having', 'do', 'does', \\\n",
    "            'did', 'doing', 'a', 'an', 'the', 'and', 'but', 'if', 'or', 'because', 'as', 'until', 'while', 'of', \\\n",
    "            'at', 'by', 'for', 'with', 'about', 'against', 'between', 'into', 'through', 'during', 'before', 'after',\\\n",
    "            'above', 'below', 'to', 'from', 'up', 'down', 'in', 'out', 'on', 'off', 'over', 'under', 'again', 'further',\\\n",
    "            'then', 'once', 'here', 'there', 'when', 'where', 'why', 'how', 'all', 'any', 'both', 'each', 'few', 'more',\\\n",
    "            'most', 'other', 'some', 'such', 'only', 'own', 'same', 'so', 'than', 'too', 'very', \\\n",
    "            's', 't', 'can', 'will', 'just', 'don', \"don't\", 'should', \"should've\", 'now', 'd', 'll', 'm', 'o', 're', \\\n",
    "            've', 'y', 'ain', 'aren', \"aren't\", 'couldn', \"couldn't\", 'didn', \"didn't\", 'doesn', \"doesn't\", 'hadn',\\\n",
    "            \"hadn't\", 'hasn', \"hasn't\", 'haven', \"haven't\", 'isn', \"isn't\", 'ma', 'mightn', \"mightn't\", 'mustn',\\\n",
    "            \"mustn't\", 'needn', \"needn't\", 'shan', \"shan't\", 'shouldn', \"shouldn't\", 'wasn', \"wasn't\", 'weren', \"weren't\", \\\n",
    "            'won', \"won't\", 'wouldn', \"wouldn't\"])"
   ]
  },
  {
   "cell_type": "code",
   "execution_count": 18,
   "id": "193f0e96",
   "metadata": {},
   "outputs": [
    {
     "name": "stderr",
     "output_type": "stream",
     "text": [
      "100%|██████████████████████████████████████████████████████████████████████████████| 2365/2365 [03:47<00:00, 10.37it/s]\n"
     ]
    }
   ],
   "source": [
    "from nltk.corpus import stopwords\n",
    "preprocessed_headlines = []\n",
    "# tqdm is for printing the status bar\n",
    "for sentance in tqdm(df['Headlines'].values):\n",
    "    sentance = re.sub(r\"http\\S+\", \"\", sentance)\n",
    "    sentance = BeautifulSoup(sentance, 'lxml').get_text()\n",
    "    sentance = decontracted(sentance)\n",
    "    sentance = re.sub(\"\\S*\\d\\S*\", \"\", sentance).strip()\n",
    "    sentance = re.sub('[^A-Za-z]+', ' ', sentance)\n",
    "    sentance = ' '.join(token.lower() for token in nltk.word_tokenize(sentance) if token.lower() not in stopwords.words('english'))\n",
    "    preprocessed_headlines.append(sentance.strip())"
   ]
  },
  {
   "cell_type": "code",
   "execution_count": null,
   "id": "7eacde7d",
   "metadata": {},
   "outputs": [],
   "source": [
    "#df['Headlines'].values\n",
    "df['Headlines'].values[1500]"
   ]
  },
  {
   "cell_type": "code",
   "execution_count": null,
   "id": "9fd459da",
   "metadata": {},
   "outputs": [],
   "source": [
    "preprocessed_headlines[1500]"
   ]
  },
  {
   "cell_type": "code",
   "execution_count": null,
   "id": "b161042b",
   "metadata": {},
   "outputs": [],
   "source": [
    "#BoW\n",
    "count_vect = CountVectorizer() #in scikit-learn\n",
    "count_vect.fit(preprocessed_headlines)\n",
    "print(\"some feature names \", count_vect.get_feature_names()[:10])\n",
    "print('='*50)\n",
    "\n",
    "final_counts = count_vect.transform(preprocessed_headlines)\n",
    "print(\"the type of count vectorizer \",type(final_counts))\n",
    "print(\"the shape of out text BOW vectorizer \",final_counts.get_shape())\n",
    "print(\"the number of unique words \", final_counts.get_shape()[1])"
   ]
  },
  {
   "cell_type": "code",
   "execution_count": null,
   "id": "4cb421b7",
   "metadata": {},
   "outputs": [],
   "source": [
    "#tfidf\n",
    "tf_idf_vect = TfidfVectorizer(ngram_range=(1,2), min_df=10)\n",
    "tf_idf_vect.fit(preprocessed_headlines)\n",
    "print(\"some sample features(unique words in the corpus)\",tf_idf_vect.get_feature_names()[0:10])\n",
    "print('='*50)\n",
    "\n",
    "final_tf_idf = tf_idf_vect.transform(preprocessed_headlines)\n",
    "print(\"the type of count vectorizer \",type(final_tf_idf))\n",
    "print(\"the shape of out text TFIDF vectorizer \",final_tf_idf.get_shape())\n",
    "print(\"the number of unique words including both unigrams and bigrams \", final_tf_idf.get_shape()[1])"
   ]
  },
  {
   "cell_type": "code",
   "execution_count": null,
   "id": "72c309f7",
   "metadata": {},
   "outputs": [],
   "source": [
    "i=0\n",
    "list_of_sentance=[]\n",
    "for sentance in preprocessed_reviews:\n",
    "    list_of_sentance.append(sentance.split())"
   ]
  },
  {
   "cell_type": "code",
   "execution_count": 19,
   "id": "95e8dcf2",
   "metadata": {},
   "outputs": [
    {
     "name": "stdout",
     "output_type": "stream",
     "text": [
      "['i', 'me', 'my', 'myself', 'we', 'our', 'ours', 'ourselves', 'you', \"you're\", \"you've\", \"you'll\", \"you'd\", 'your', 'yours', 'yourself', 'yourselves', 'he', 'him', 'his', 'himself', 'she', \"she's\", 'her', 'hers', 'herself', 'it', \"it's\", 'its', 'itself', 'they', 'them', 'their', 'theirs', 'themselves', 'what', 'which', 'who', 'whom', 'this', 'that', \"that'll\", 'these', 'those', 'am', 'is', 'are', 'was', 'were', 'be', 'been', 'being', 'have', 'has', 'had', 'having', 'do', 'does', 'did', 'doing', 'a', 'an', 'the', 'and', 'but', 'if', 'or', 'because', 'as', 'until', 'while', 'of', 'at', 'by', 'for', 'with', 'about', 'against', 'between', 'into', 'through', 'during', 'before', 'after', 'above', 'below', 'to', 'from', 'up', 'down', 'in', 'out', 'on', 'off', 'over', 'under', 'again', 'further', 'then', 'once', 'here', 'there', 'when', 'where', 'why', 'how', 'all', 'any', 'both', 'each', 'few', 'more', 'most', 'other', 'some', 'such', 'no', 'nor', 'not', 'only', 'own', 'same', 'so', 'than', 'too', 'very', 's', 't', 'can', 'will', 'just', 'don', \"don't\", 'should', \"should've\", 'now', 'd', 'll', 'm', 'o', 're', 've', 'y', 'ain', 'aren', \"aren't\", 'couldn', \"couldn't\", 'didn', \"didn't\", 'doesn', \"doesn't\", 'hadn', \"hadn't\", 'hasn', \"hasn't\", 'haven', \"haven't\", 'isn', \"isn't\", 'ma', 'mightn', \"mightn't\", 'mustn', \"mustn't\", 'needn', \"needn't\", 'shan', \"shan't\", 'shouldn', \"shouldn't\", 'wasn', \"wasn't\", 'weren', \"weren't\", 'won', \"won't\", 'wouldn', \"wouldn't\"]\n"
     ]
    }
   ],
   "source": []
  },
  {
   "cell_type": "code",
   "execution_count": null,
   "id": "0f420a53",
   "metadata": {},
   "outputs": [],
   "source": []
  }
 ],
 "metadata": {
  "kernelspec": {
   "display_name": "Python 3 (ipykernel)",
   "language": "python",
   "name": "python3"
  },
  "language_info": {
   "codemirror_mode": {
    "name": "ipython",
    "version": 3
   },
   "file_extension": ".py",
   "mimetype": "text/x-python",
   "name": "python",
   "nbconvert_exporter": "python",
   "pygments_lexer": "ipython3",
   "version": "3.8.0"
  }
 },
 "nbformat": 4,
 "nbformat_minor": 5
}
